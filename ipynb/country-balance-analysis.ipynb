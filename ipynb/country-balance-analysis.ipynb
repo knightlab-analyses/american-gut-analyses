{
 "cells": [
  {
   "cell_type": "markdown",
   "metadata": {},
   "source": [
    "Here we will investigate the country differences within the microbial communities.  Here we will use Ward hierarchical clustering to identify very obvious patterns.  This method trys to identify maximum variance partitions, and runs linear regression investigate if the balances between these highly variable subcommunities can be explained using the variables that have measured.\n",
    "\n",
    "Make sure that the appropriate files are downloaded.  They can be obtained from the ftp link using the following commands\n",
    "\n",
    "```bash\n",
    "wget ftp://ftp.microbio.me/AmericanGut/manuscript-package/1250/deblur_125nt_no_blooms_rare.biom\n",
    "\n",
    "wget ftp://ftp.microbio.me/AmericanGut/manuscript-package/1250/ag_map_with_alpha.txt\n",
    "```"
   ]
  },
  {
   "cell_type": "markdown",
   "metadata": {},
   "source": [
    "Now we will run the qiime2 analyses to generate the balances and run the linear regression.  Remember, ANOVA is a type of linear regression, so we can test for differientially abundant balances using this technique.\n",
    "\n",
    "To begin, let's boot up the gneiss command line interface using qiime2. We'll want to first specify the input files and the regression formula consisting of all of the variables that we would like to test for.\n",
    "\n",
    "```\n",
    "otu_table=deblur_125nt_no_blooms_rare.biom\n",
    "metadata=coded_regression_map_5k.txt\n",
    "formula=\"C(country)+C(ibd)+C(bowel_movement_quality)+C(ibs)+C(antibiotic_history)+C(race)+ln_age*C(sex)+types_of_plants\"\n",
    "\n",
    "```\n",
    "\n",
    "```\n",
    "qiime tools import \\\n",
    "    --input-path $otu_table \\\n",
    "    --output-path $otu_table --type FeatureTable[Frequency]\n",
    "```\n",
    "\n",
    "```\n",
    "qiime feature-table filter-samples \\\n",
    "                   --i-table \"$otu_table\".qza \\\n",
    "                   --m-metadata-file $metadata \\\n",
    "                   --o-filtered-table \"$otu_table\".filt.qza\n",
    "```\n",
    "\n",
    "```\n",
    "qiime feature-table filter-features \\\n",
    "                   --i-table \"$otu_table\".filt.qza \\\n",
    "                    --o-filtered-table \"$otu_table\".filt.qza \\\n",
    "                    --p-min-frequency 10\n",
    "```\n",
    "\n",
    "```    \n",
    "qiime composition add-pseudocount \\\n",
    "    --i-table \"$otu_table\".filt.qza \\\n",
    "    --p-pseudocount 1 \\\n",
    "    --o-composition-table \"$otu_table\".composition\n",
    "```    \n",
    "\n",
    "```\n",
    "qiime gneiss correlation-clustering \\\n",
    "    --i-table \"$otu_table\".composition.qza \\\n",
    "    --o-clustering \"$otu_table\".tree.nwk.qza\n",
    "```\n",
    "\n",
    "```\n",
    "qiime gneiss ilr-transform \\\n",
    "    --i-table \"$otu_table\".composition.qza \\\n",
    "    --i-tree \"$otu_table\".tree.nwk.qza \\\n",
    "    --o-balances \"$otu_table\".balances\n",
    "```\n",
    "\n",
    "```\n",
    "qiime gneiss ols-regression \\\n",
    "    --p-formula $formula \\\n",
    "    --i-table \"$otu_table\".balances.qza \\\n",
    "    --i-tree \"$otu_table\".balances.tree.nwk.qza \\\n",
    "    --m-metadata-file ag_map_with_alpha.txt \\\n",
    "    --o-visualization ag_regression.filt.2.summary --verbose\n",
    "```\n",
    "\n",
    "Once we have the summaries generated, we can plug them directly into https://view.qiime2.org/\n",
    "You may note that one balance that stands out is `y2`.  We'll revisit that balance in a bit.\n",
    "\n",
    "From now on, we'll analyze the result using the Gneiss Python API."
   ]
  },
  {
   "cell_type": "code",
   "execution_count": 1,
   "metadata": {
    "collapsed": true
   },
   "outputs": [],
   "source": [
    "from gneiss.composition import ilr_transform\n",
    "import matplotlib.pyplot as plt\n",
    "import pandas as pd\n",
    "import numpy as np\n",
    "from matplotlib import rc\n",
    "\n",
    "from biom import load_table\n",
    "from skbio import TreeNode\n",
    "import qiime2\n",
    "import seaborn as sns\n",
    "%matplotlib inline"
   ]
  },
  {
   "cell_type": "markdown",
   "metadata": {},
   "source": [
    "We'll load all of the files, and parse out the taxonomies from the biom table."
   ]
  },
  {
   "cell_type": "code",
   "execution_count": 2,
   "metadata": {},
   "outputs": [
    {
     "name": "stderr",
     "output_type": "stream",
     "text": [
      "/Users/mortonjt/miniconda3/envs/bio/lib/python3.5/site-packages/IPython/core/interactiveshell.py:2698: DtypeWarning: Columns (0,66) have mixed types. Specify dtype option on import or set low_memory=False.\n",
      "  interactivity=interactivity, compiler=compiler, result=result)\n"
     ]
    }
   ],
   "source": [
    "mapping = pd.read_table('ag_map_with_alpha.txt', index_col=0)\n",
    "\n",
    "table = load_table('deblur_125nt_no_blooms.biom')\n",
    "balances = qiime2.Artifact.load(\n",
    "    'deblur_125nt_no_blooms_rare.biom.balances.qza').view(pd.DataFrame)\n",
    "tree = qiime2.Artifact.load(\n",
    "    'deblur_125nt_no_blooms_rare.biom.tree.nwk.qza').view(TreeNode)\n",
    "\n",
    "obs_ids = table.ids(axis='observation')\n",
    "taxa = [table.metadata(id=i, axis='observation')['taxonomy'] for i in obs_ids]\n",
    "taxa = pd.DataFrame(taxa, index=obs_ids, \n",
    "                    columns=['kingdom', 'phylum', 'class', 'order', \n",
    "                             'family', 'genus', 'species'])"
   ]
  },
  {
   "cell_type": "markdown",
   "metadata": {},
   "source": [
    "We'll pull out all of the pvalues from the summary file -- just in case we want to investigate the pvalues from the linear regression in the future."
   ]
  },
  {
   "cell_type": "code",
   "execution_count": 3,
   "metadata": {
    "collapsed": true
   },
   "outputs": [],
   "source": [
    "viz = qiime2.Visualization.load('ag_regression.filt.2.summary.qzv')\n",
    "viz.export_data('regression_summary_dir')\n",
    "\n",
    "pvals = pd.read_csv('regression_summary_dir/pvalues.csv', index_col=0)"
   ]
  },
  {
   "cell_type": "markdown",
   "metadata": {},
   "source": [
    "We'll deposit all of the balance summaries into a csv file, so that we can clearly identify which microbes\n",
    "are in the numerator and denominator of this balance referred to as `y2`."
   ]
  },
  {
   "cell_type": "code",
   "execution_count": 4,
   "metadata": {
    "collapsed": true
   },
   "outputs": [],
   "source": [
    "from gneiss.util import NUMERATOR, DENOMINATOR\n",
    "\n",
    "balance_summary = pd.concat((taxa.loc[tree.find('y2').children[NUMERATOR].subset()],\n",
    "                             taxa.loc[tree.find('y2').children[DENOMINATOR].subset()]))\n",
    "def position(x):\n",
    "    if (x in tree.find('y2').children[NUMERATOR].subset()):\n",
    "        return 'denominator'\n",
    "    else:\n",
    "        return 'numerator'\n",
    "\n",
    "balance_summary['balance'] = 'y2'\n",
    "balance_summary['position'] = list(map(position, balance_summary.index))\n",
    "balance_summary.to_csv('country_balance_summary.csv')"
   ]
  },
  {
   "cell_type": "markdown",
   "metadata": {},
   "source": [
    "For the purposes of plotting the balances, we'll want to exclude countries that aren't the US, UK or Canada.\n",
    "We'll also want to refer to the USA as the United States."
   ]
  },
  {
   "cell_type": "code",
   "execution_count": 5,
   "metadata": {
    "collapsed": true
   },
   "outputs": [],
   "source": [
    "def rename_country(x):\n",
    "    if x == 'USA':\n",
    "        return 'United States'\n",
    "    elif x in ['United Kingdom', 'Canada']:\n",
    "        return x\n",
    "    else:\n",
    "        return np.nan\n",
    "\n",
    "mapping['country'] = mapping['country'].apply(rename_country)\n",
    "mapping = mapping.dropna(subset=['country'])"
   ]
  },
  {
   "cell_type": "markdown",
   "metadata": {},
   "source": [
    "Now we will create the boxplots of the balances, specifically comparing the USA, UK and Canada populations."
   ]
  },
  {
   "cell_type": "code",
   "execution_count": 6,
   "metadata": {},
   "outputs": [
    {
     "name": "stderr",
     "output_type": "stream",
     "text": [
      "/Users/mortonjt/miniconda3/envs/bio/lib/python3.5/site-packages/seaborn/categorical.py:2171: UserWarning: The boxplot API has been changed. Attempting to adjust your arguments for the new API (which might not work). Please update your code. See the version 0.6 release notes for more info.\n",
      "  warnings.warn(msg, UserWarning)\n"
     ]
    },
    {
     "data": {
      "image/png": "[encoded data removed]",
      "text/plain": [
       "<matplotlib.figure.Figure at 0x114908400>"
      ]
     },
     "metadata": {},
     "output_type": "display_data"
    }
   ],
   "source": [
    "from gneiss.plot import balance_boxplot, balance_barplots\n",
    "from matplotlib import rc\n",
    "\n",
    "sns.set_style('white')\n",
    "sns.set_style('ticks')\n",
    "rc('font',**{'family':'sans-serif','sans-serif':['Helvetica']})\n",
    "rc('text', usetex=True)\n",
    "\n",
    "fig, ax = plt.subplots()\n",
    "data = pd.merge(mapping, balances, left_index=True, right_index=True)\n",
    "\n",
    "# Flip the balance (i.e. swap the numerator and denominator).\n",
    "data['y2_y'] = -1*data['y2']\n",
    "\n",
    "sns.boxplot(x='country', y='y2_y', data=data, notch=True, vert=False,  ax=ax,\n",
    "            palette={'United States': '#b22637',\n",
    "                     'United Kingdom': '#224191',\n",
    "                     'Canada': '#fffef3'\n",
    "                    }\n",
    ")\n",
    "# #16295b blue United Kingdom\n",
    "# #224191 blue United Kingdom\n",
    "# #b22637 red  United States\n",
    "ax.set_yticklabels(['United States', 'United Kingdom', 'Canada'])\n",
    "ax.set_xlabel(r'$\\ln \\big(\\frac{\\textrm{Relative Abundance Clostridiales}}{\\textrm{Total Relative Abundance Remaining} }\\big)$', fontsize=16)\n",
    "plt.tight_layout()\n",
    "\n",
    "plt.savefig('country.pdf')"
   ]
  },
  {
   "cell_type": "markdown",
   "metadata": {
    "collapsed": true
   },
   "source": [
    "As noted, there are some clear cut patterns with respect to this `y2` balance."
   ]
  }
 ],
 "metadata": {
  "kernelspec": {
   "display_name": "Python 3",
   "language": "python",
   "name": "python3"
  },
  "language_info": {
   "codemirror_mode": {
    "name": "ipython",
    "version": 3
   },
   "file_extension": ".py",
   "mimetype": "text/x-python",
   "name": "python",
   "nbconvert_exporter": "python",
   "pygments_lexer": "ipython3",
   "version": "3.5.3"
  }
 },
 "nbformat": 4,
 "nbformat_minor": 2
}
