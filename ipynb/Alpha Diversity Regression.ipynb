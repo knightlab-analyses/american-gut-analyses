{
 "cells": [
  {
   "cell_type": "markdown",
   "metadata": {},
   "source": [
    "**Author**: Justine Debelius<br>\n",
    "**email**: jdebelius@ucsd.edu<br>\n",
    "**enviroment**: agp_2017<br>\n",
    "**Date**: 16 May 2017<br>\n",
    "**Update**: 29 November 2017"
   ]
  },
  {
   "cell_type": "markdown",
   "metadata": {},
   "source": [
    "This notebook will build a linear regression comparing the alpha diversity of participants in the American Gut to covariates of interest. We'll build the list using the ten most significant variables from the alpha diversity effect size calculations, excluding longitude and latitude since this value is captured in the country covariate better than it is captured in the effect size calculation. We'll additionally include sex, to explore the interaction between sex and age. We'll include the the bloom percentage, to help address differences in shipping.\n",
    "\n",
    "* Race (`race`)\n",
    "* The sequencing run (`center_project_name`)\n",
    "* How often the participant uses the bathroom daily (`bowel_movement_frequency`)\n",
    "* The number of types of plants consumed (`types_of_plants`)\n",
    "* The participant age (`age_cat` in effect size, `age_corrected` in regression)\n",
    "* The participant's educational history (`level_of_education`)\n",
    "* The participant's country of residence (`country`)\n",
    "* How often the participant eats vegetables (`vegetable_frequency`)\n",
    "* How long since the participant too antibiotics (`antibiotic_history`)\n",
    "* How many alcoholic beverages the participant consumes when they drink (`drinks_per_session`)\n",
    "\n",
    "We'll start by building a subset of participants who include these covariates, and then build a model."
   ]
  },
  {
   "cell_type": "code",
   "execution_count": 1,
   "metadata": {
    "collapsed": false
   },
   "outputs": [],
   "source": [
    "import matplotlib.pyplot as plt\n",
    "import numpy as np\n",
    "import pandas as pd\n",
    "import patsy\n",
    "import scipy\n",
    "import skbio\n",
    "import seaborn as sn\n",
    "import statsmodels.api as sms\n",
    "import statsmodels.formula.api as smf\n",
    "\n",
    "%matplotlib inline"
   ]
  },
  {
   "cell_type": "markdown",
   "metadata": {},
   "source": [
    "We'll start by loading the study metadata and converting the alpha diversity, age, and BMI to floats."
   ]
  },
  {
   "cell_type": "code",
   "execution_count": 2,
   "metadata": {
    "collapsed": false
   },
   "outputs": [],
   "source": [
    "map_ = pd.read_csv('./ag_map_with_alpha.txt', sep='\\t', dtype=str)\n",
    "map_.set_index('#SampleID', inplace=True)\n",
    "\n",
    "map_.replace('Unspecified', np.nan, inplace=True)"
   ]
  },
  {
   "cell_type": "code",
   "execution_count": 3,
   "metadata": {
    "collapsed": false
   },
   "outputs": [],
   "source": [
    "map_['faiths_pd_1250'] = map_['faiths_pd_1250'].astype(float)"
   ]
  },
  {
   "cell_type": "code",
   "execution_count": 4,
   "metadata": {
    "collapsed": false
   },
   "outputs": [],
   "source": [
    "map_['age_corrected'] = map_['age_corrected'].astype(float)\n",
    "map_.loc[map_['age_corrected'] > 105, 'age_corrected'] = np.nan\n",
    "\n",
    "map_['bmi_corrected'] = map_['bmi_corrected'].astype(float)"
   ]
  },
  {
   "cell_type": "markdown",
   "metadata": {},
   "source": [
    "Next, we'll load the bloom percentage file, and add that to the mapping file."
   ]
  },
  {
   "cell_type": "code",
   "execution_count": 5,
   "metadata": {
    "collapsed": true
   },
   "outputs": [],
   "source": [
    "bloom = pd.read_csv('./ag-bloom-fractions-125nt.txt', sep='\\t', dtype=str)\n",
    "bloom.set_index('#SampleID', inplace=True)"
   ]
  },
  {
   "cell_type": "code",
   "execution_count": 6,
   "metadata": {
    "collapsed": false
   },
   "outputs": [],
   "source": [
    "map_['bloom_fraction'] = bloom['bloom_fraction'].astype(float)"
   ]
  },
  {
   "cell_type": "markdown",
   "metadata": {},
   "source": [
    "We'll start by performing inclusive remappings for known smaller categories, including bowel_movement_frequency, antibiotic_history, and vegetable frequency. We'll also address a known issue with education level in the dataset, combing data into a single category describing anything less than a bachelor's degree as such."
   ]
  },
  {
   "cell_type": "code",
   "execution_count": 7,
   "metadata": {
    "collapsed": false
   },
   "outputs": [],
   "source": [
    "clean_up = {\n",
    "    \"antibiotic_history\": {\"Week\": \"Month\"},\n",
    "    'bowel_movement_frequency': {'Four': 'Four or more', \n",
    "                                 'Five or more': 'Four or more'},\n",
    "    'vegetable_frequency': {'Never': \"Less than weekly\",\n",
    "                            'Rarely (less than once/week)': \"Less than weekly\"},\n",
    "    'level_of_education': {'Did not complete high school': 'High school or less',\n",
    "                           'High School or GED equilivant': 'High school or less',\n",
    "                           'Some college or technical school': 'Less than bachelors',\n",
    "                           \"Associate's degree\": 'Less than bachelors',\n",
    "                           \"Some graduate school or professional\": \"Bachelor's degree\"\n",
    "                           }\n",
    "    }\n",
    "map_.replace(clean_up, inplace=True)"
   ]
  },
  {
   "cell_type": "markdown",
   "metadata": {},
   "source": [
    "We're going to only look at samples from the US, UK, Australia and Canada, since these represent about 92% of the samples in the data set. We'll also limit the data to participants who have provided their sex and male and female."
   ]
  },
  {
   "cell_type": "code",
   "execution_count": 8,
   "metadata": {
    "collapsed": false
   },
   "outputs": [],
   "source": [
    "def filter_map(x):\n",
    "    race = x['race'] in {'Caucasian', 'Asian or Pacific Islander', 'Other'}\n",
    "    country = x['country'] in {'USA', 'United Kingdom', 'Canada', 'Australia'}\n",
    "    sex = x['sex'] in {'male', 'female'}    \n",
    "    return country & sex & race"
   ]
  },
  {
   "cell_type": "code",
   "execution_count": 9,
   "metadata": {
    "collapsed": true
   },
   "outputs": [],
   "source": [
    "study_columns = [\n",
    "    'race',\n",
    "    'center_project_name',\n",
    "    'bowel_movement_frequency',\n",
    "    'types_of_plants',\n",
    "    'level_of_education',\n",
    "    'country',\n",
    "    'vegetable_frequency',\n",
    "    'antibiotic_history',\n",
    "    'drinks_per_session',\n",
    "    'sex',\n",
    "    'age_corrected',\n",
    "    'faiths_pd_1250',\n",
    "    'bloom_fraction'\n",
    "    ]"
   ]
  },
  {
   "cell_type": "code",
   "execution_count": 10,
   "metadata": {
    "collapsed": false
   },
   "outputs": [],
   "source": [
    "fmap_ = map_.loc[map_.apply(filter_map, axis=1)]\n",
    "dmap_ = fmap_[study_columns].dropna()"
   ]
  },
  {
   "cell_type": "markdown",
   "metadata": {},
   "source": [
    "We'll also filter the map to remove any center project name category with less than 100 samples, so that if we chose to include it in the regression, we have enough groups that it won't lead to weird behavior."
   ]
  },
  {
   "cell_type": "code",
   "execution_count": 11,
   "metadata": {
    "collapsed": false
   },
   "outputs": [],
   "source": [
    "cpn_counts = dmap_['center_project_name'].value_counts()\n",
    "cpn_filter = set(cpn_counts.index[cpn_counts > 75])"
   ]
  },
  {
   "cell_type": "code",
   "execution_count": 12,
   "metadata": {
    "collapsed": false
   },
   "outputs": [],
   "source": [
    "smap_ = dmap_.loc[dmap_['center_project_name'].apply(lambda x: x in cpn_filter)]"
   ]
  },
  {
   "cell_type": "markdown",
   "metadata": {},
   "source": [
    "We're going to code the data using numeric codeing, since this will be easier for patsy to handle.\n",
    "We'll also do some work to build combinations.\n",
    "\n",
    "We're going to combine the antibiotics in the last week and in the last month. <br>\n",
    "For both IBD and IBS, we will combine people who were idagnosed by an alternative medicine practioner or self diagnosed individuals into a different category."
   ]
  },
  {
   "cell_type": "code",
   "execution_count": 13,
   "metadata": {
    "collapsed": false
   },
   "outputs": [],
   "source": [
    "numeric_coding = {\n",
    "    'race': {'Caucasian': 0,\n",
    "             'Asian or Pacific Islander': 1,\n",
    "             'Other': 2,\n",
    "             },\n",
    "    'center_project_name': {'AGag36': 0,\n",
    "                            'AGag35': 1,\n",
    "                            'AGag33': 2,\n",
    "                            'AGag34': 3,\n",
    "                            'AGagFerm': 4,\n",
    "                            'AG3dMouse': 5,\n",
    "                            },\n",
    "    'bowel_movement_frequency': {'Less than one': 0,\n",
    "                                 'One': 1,\n",
    "                                 'Two': 2,\n",
    "                                 'Three': 3,\n",
    "                                 'Four or more': 4,\n",
    "                                 },\n",
    "    'types_of_plants': {'Less than 5': 0,\n",
    "                        '6 to 10': 1,\n",
    "                        '11 to 20': 2,\n",
    "                        '21 to 30': 3,\n",
    "                        'More than 30': 4,\n",
    "                        },\n",
    "    'level_of_education': {'High school or less': 0,\n",
    "                           'Less than bachelors': 1,\n",
    "                           \"Bachelor's degree\": 2,\n",
    "                           'Graduate or Professional degree': 3,\n",
    "                           },\n",
    "    'country': {'USA': 0,\n",
    "                'United Kingdom': 1,\n",
    "                'Canada': 2,\n",
    "                'Australia': 3,\n",
    "                },\n",
    "    'vegetable_frequency': {'Less than weekly': 0,\n",
    "                            'Occasionally (1-2 times/week)': 1,\n",
    "                            'Regularly (3-5 times/week)': 2,\n",
    "                            'Daily': 3,\n",
    "                            },\n",
    "    'antibiotic_history': {'I have not taken antibiotics in the past year.': 0,\n",
    "                           'Year': 1,\n",
    "                           '6 months': 2,\n",
    "                           'Month': 3,\n",
    "                           },\n",
    "    'drinks_per_session': {\"I don't drink\": 0,\n",
    "                           '1': 1,\n",
    "                           '1-2': 2,\n",
    "                           '2-3': 3,\n",
    "                           '3-4': 4,\n",
    "                           '4+': 4,\n",
    "                            },\n",
    "    'sex': {'female': 0, \n",
    "            'male': 1},\n",
    "    }"
   ]
  },
  {
   "cell_type": "code",
   "execution_count": 14,
   "metadata": {
    "collapsed": false,
    "scrolled": true
   },
   "outputs": [],
   "source": [
    "smap_numeric = smap_.replace(numeric_coding)"
   ]
  },
  {
   "cell_type": "code",
   "execution_count": 15,
   "metadata": {
    "collapsed": true
   },
   "outputs": [],
   "source": [
    "smap_numeric['ln_age'] = np.log(smap_numeric['age_corrected'])"
   ]
  },
  {
   "cell_type": "markdown",
   "metadata": {},
   "source": [
    "Next, we'll build a regression including the covariate we're potentially interested in."
   ]
  },
  {
   "cell_type": "markdown",
   "metadata": {},
   "source": [
    "Next, we'll build a function that will let us preform a step-wise selection based on a decrease in the AIC, an increase in the adjusted $R^{2}$ and not blowing up the condition number."
   ]
  },
  {
   "cell_type": "code",
   "execution_count": 16,
   "metadata": {
    "collapsed": false,
    "scrolled": false
   },
   "outputs": [
    {
     "name": "stdout",
     "output_type": "stream",
     "text": [
      "                            OLS Regression Results                            \n",
      "==============================================================================\n",
      "Dep. Variable:         faiths_pd_1250   R-squared:                       0.009\n",
      "Model:                            OLS   Adj. R-squared:                  0.008\n",
      "Method:                 Least Squares   F-statistic:                     10.17\n",
      "Date:                Wed, 29 Nov 2017   Prob (F-statistic):            0.00147\n",
      "Time:                        20:53:49   Log-Likelihood:                -2856.5\n",
      "No. Observations:                1072   AIC:                             5717.\n",
      "Df Residuals:                    1070   BIC:                             5727.\n",
      "Df Model:                           1                                         \n",
      "Covariance Type:            nonrobust                                         \n",
      "==================================================================================\n",
      "                     coef    std err          t      P>|t|      [95.0% Conf. Int.]\n",
      "----------------------------------------------------------------------------------\n",
      "Intercept         13.5380      0.135    100.621      0.000        13.274    13.802\n",
      "bloom_fraction    -1.1766      0.369     -3.189      0.001        -1.901    -0.453\n",
      "==============================================================================\n",
      "Omnibus:                       34.074   Durbin-Watson:                   2.045\n",
      "Prob(Omnibus):                  0.000   Jarque-Bera (JB):               36.550\n",
      "Skew:                           0.448   Prob(JB):                     1.16e-08\n",
      "Kurtosis:                       3.129   Cond. No.                         3.66\n",
      "==============================================================================\n",
      "\n",
      "Warnings:\n",
      "[1] Standard Errors assume that the covariance matrix of the errors is correctly specified.\n"
     ]
    }
   ],
   "source": [
    "fit0 = smf.ols('faiths_pd_1250 ~ bloom_fraction', data=smap_numeric).fit()\n",
    "print(fit0.summary())"
   ]
  },
  {
   "cell_type": "code",
   "execution_count": 17,
   "metadata": {
    "collapsed": false
   },
   "outputs": [
    {
     "name": "stdout",
     "output_type": "stream",
     "text": [
      "                            OLS Regression Results                            \n",
      "==============================================================================\n",
      "Dep. Variable:         faiths_pd_1250   R-squared:                       0.057\n",
      "Model:                            OLS   Adj. R-squared:                  0.055\n",
      "Method:                 Least Squares   F-statistic:                     21.66\n",
      "Date:                Wed, 29 Nov 2017   Prob (F-statistic):           1.28e-13\n",
      "Time:                        20:53:49   Log-Likelihood:                -2829.9\n",
      "No. Observations:                1072   AIC:                             5668.\n",
      "Df Residuals:                    1068   BIC:                             5688.\n",
      "Df Model:                           3                                         \n",
      "Covariance Type:            nonrobust                                         \n",
      "==================================================================================\n",
      "                     coef    std err          t      P>|t|      [95.0% Conf. Int.]\n",
      "----------------------------------------------------------------------------------\n",
      "Intercept         13.8181      0.137    100.771      0.000        13.549    14.087\n",
      "C(race)[T.1]      -3.0340      0.452     -6.707      0.000        -3.922    -2.146\n",
      "C(race)[T.2]      -1.8815      0.556     -3.386      0.001        -2.972    -0.791\n",
      "bloom_fraction    -1.3635      0.361     -3.774      0.000        -2.072    -0.654\n",
      "==============================================================================\n",
      "Omnibus:                       34.388   Durbin-Watson:                   2.050\n",
      "Prob(Omnibus):                  0.000   Jarque-Bera (JB):               36.913\n",
      "Skew:                           0.438   Prob(JB):                     9.65e-09\n",
      "Kurtosis:                       3.246   Cond. No.                         5.54\n",
      "==============================================================================\n",
      "\n",
      "Warnings:\n",
      "[1] Standard Errors assume that the covariance matrix of the errors is correctly specified.\n"
     ]
    }
   ],
   "source": [
    "fit1 = smf.ols('faiths_pd_1250 ~ bloom_fraction + C(race)', data=smap_numeric).fit()\n",
    "print(fit1.summary())"
   ]
  },
  {
   "cell_type": "code",
   "execution_count": 18,
   "metadata": {
    "collapsed": false
   },
   "outputs": [
    {
     "name": "stdout",
     "output_type": "stream",
     "text": [
      "                            OLS Regression Results                            \n",
      "==============================================================================\n",
      "Dep. Variable:         faiths_pd_1250   R-squared:                       0.073\n",
      "Model:                            OLS   Adj. R-squared:                  0.066\n",
      "Method:                 Least Squares   F-statistic:                     10.46\n",
      "Date:                Wed, 29 Nov 2017   Prob (F-statistic):           3.40e-14\n",
      "Time:                        20:53:50   Log-Likelihood:                -2820.9\n",
      "No. Observations:                1072   AIC:                             5660.\n",
      "Df Residuals:                    1063   BIC:                             5705.\n",
      "Df Model:                           8                                         \n",
      "Covariance Type:            nonrobust                                         \n",
      "===============================================================================================\n",
      "                                  coef    std err          t      P>|t|      [95.0% Conf. Int.]\n",
      "-----------------------------------------------------------------------------------------------\n",
      "Intercept                      13.8755      0.246     56.332      0.000        13.392    14.359\n",
      "C(race)[T.1]                   -2.9419      0.453     -6.490      0.000        -3.831    -2.052\n",
      "C(race)[T.2]                   -1.8550      0.553     -3.354      0.001        -2.940    -0.770\n",
      "C(center_project_name)[T.1]     0.6853      0.321      2.133      0.033         0.055     1.316\n",
      "C(center_project_name)[T.2]    -0.3128      0.322     -0.971      0.332        -0.945     0.319\n",
      "C(center_project_name)[T.3]    -0.0922      0.321     -0.287      0.774        -0.722     0.538\n",
      "C(center_project_name)[T.4]    -0.6413      0.411     -1.561      0.119        -1.447     0.165\n",
      "C(center_project_name)[T.5]    -0.6725      0.415     -1.622      0.105        -1.486     0.141\n",
      "bloom_fraction                 -1.3765      0.369     -3.730      0.000        -2.101    -0.652\n",
      "==============================================================================\n",
      "Omnibus:                       30.750   Durbin-Watson:                   2.053\n",
      "Prob(Omnibus):                  0.000   Jarque-Bera (JB):               32.680\n",
      "Skew:                           0.412   Prob(JB):                     8.01e-08\n",
      "Kurtosis:                       3.229   Cond. No.                         6.60\n",
      "==============================================================================\n",
      "\n",
      "Warnings:\n",
      "[1] Standard Errors assume that the covariance matrix of the errors is correctly specified.\n"
     ]
    }
   ],
   "source": [
    "fit2 = smf.ols('faiths_pd_1250 ~ bloom_fraction + C(race) + C(center_project_name)', \n",
    "               data=smap_numeric).fit()\n",
    "print(fit2.summary())"
   ]
  },
  {
   "cell_type": "code",
   "execution_count": 19,
   "metadata": {
    "collapsed": false
   },
   "outputs": [
    {
     "name": "stdout",
     "output_type": "stream",
     "text": [
      "                            OLS Regression Results                            \n",
      "==============================================================================\n",
      "Dep. Variable:         faiths_pd_1250   R-squared:                       0.105\n",
      "Model:                            OLS   Adj. R-squared:                  0.095\n",
      "Method:                 Least Squares   F-statistic:                     10.36\n",
      "Date:                Wed, 29 Nov 2017   Prob (F-statistic):           1.49e-19\n",
      "Time:                        20:53:50   Log-Likelihood:                -2802.0\n",
      "No. Observations:                1072   AIC:                             5630.\n",
      "Df Residuals:                    1059   BIC:                             5695.\n",
      "Df Model:                          12                                         \n",
      "Covariance Type:            nonrobust                                         \n",
      "====================================================================================================\n",
      "                                       coef    std err          t      P>|t|      [95.0% Conf. Int.]\n",
      "----------------------------------------------------------------------------------------------------\n",
      "Intercept                           14.8585      0.410     36.235      0.000        14.054    15.663\n",
      "C(race)[T.1]                        -3.0071      0.447     -6.731      0.000        -3.884    -2.130\n",
      "C(race)[T.2]                        -1.7838      0.546     -3.270      0.001        -2.854    -0.713\n",
      "C(center_project_name)[T.1]          0.6899      0.317      2.176      0.030         0.068     1.312\n",
      "C(center_project_name)[T.2]         -0.3012      0.317     -0.949      0.343        -0.924     0.321\n",
      "C(center_project_name)[T.3]         -0.0711      0.317     -0.224      0.822        -0.693     0.551\n",
      "C(center_project_name)[T.4]         -0.6477      0.405     -1.599      0.110        -1.442     0.147\n",
      "C(center_project_name)[T.5]         -0.7399      0.409     -1.811      0.070        -1.542     0.062\n",
      "C(bowel_movement_frequency)[T.1]    -0.6186      0.381     -1.622      0.105        -1.367     0.130\n",
      "C(bowel_movement_frequency)[T.2]    -1.5310      0.401     -3.817      0.000        -2.318    -0.744\n",
      "C(bowel_movement_frequency)[T.3]    -1.9482      0.513     -3.795      0.000        -2.956    -0.941\n",
      "C(bowel_movement_frequency)[T.4]    -2.8482      0.744     -3.830      0.000        -4.307    -1.389\n",
      "bloom_fraction                      -1.3506      0.364     -3.714      0.000        -2.064    -0.637\n",
      "==============================================================================\n",
      "Omnibus:                       33.216   Durbin-Watson:                   2.072\n",
      "Prob(Omnibus):                  0.000   Jarque-Bera (JB):               35.580\n",
      "Skew:                           0.427   Prob(JB):                     1.88e-08\n",
      "Kurtosis:                       3.259   Cond. No.                         11.2\n",
      "==============================================================================\n",
      "\n",
      "Warnings:\n",
      "[1] Standard Errors assume that the covariance matrix of the errors is correctly specified.\n"
     ]
    }
   ],
   "source": [
    "fit3 = smf.ols('faiths_pd_1250 ~ bloom_fraction + C(race) + C(center_project_name)'\n",
    "               ' + C(bowel_movement_frequency)', \n",
    "               data=smap_numeric).fit()\n",
    "print(fit3.summary())"
   ]
  },
  {
   "cell_type": "code",
   "execution_count": 20,
   "metadata": {
    "collapsed": false
   },
   "outputs": [
    {
     "name": "stdout",
     "output_type": "stream",
     "text": [
      "                            OLS Regression Results                            \n",
      "==============================================================================\n",
      "Dep. Variable:         faiths_pd_1250   R-squared:                       0.133\n",
      "Model:                            OLS   Adj. R-squared:                  0.120\n",
      "Method:                 Least Squares   F-statistic:                     10.14\n",
      "Date:                Wed, 29 Nov 2017   Prob (F-statistic):           3.23e-24\n",
      "Time:                        20:53:50   Log-Likelihood:                -2784.8\n",
      "No. Observations:                1072   AIC:                             5604.\n",
      "Df Residuals:                    1055   BIC:                             5688.\n",
      "Df Model:                          16                                         \n",
      "Covariance Type:            nonrobust                                         \n",
      "====================================================================================================\n",
      "                                       coef    std err          t      P>|t|      [95.0% Conf. Int.]\n",
      "----------------------------------------------------------------------------------------------------\n",
      "Intercept                           13.2748      0.548     24.212      0.000        12.199    14.351\n",
      "C(race)[T.1]                        -2.6591      0.445     -5.980      0.000        -3.532    -1.787\n",
      "C(race)[T.2]                        -1.6307      0.541     -3.016      0.003        -2.692    -0.570\n",
      "C(center_project_name)[T.1]          0.7550      0.313      2.409      0.016         0.140     1.370\n",
      "C(center_project_name)[T.2]         -0.3140      0.314     -1.001      0.317        -0.929     0.301\n",
      "C(center_project_name)[T.3]          0.0965      0.314      0.307      0.759        -0.520     0.713\n",
      "C(center_project_name)[T.4]         -0.6512      0.400     -1.629      0.104        -1.436     0.133\n",
      "C(center_project_name)[T.5]         -0.8222      0.404     -2.037      0.042        -1.614    -0.030\n",
      "C(bowel_movement_frequency)[T.1]    -0.7657      0.378     -2.028      0.043        -1.507    -0.025\n",
      "C(bowel_movement_frequency)[T.2]    -1.7004      0.397     -4.285      0.000        -2.479    -0.922\n",
      "C(bowel_movement_frequency)[T.3]    -2.0909      0.507     -4.125      0.000        -3.086    -1.096\n",
      "C(bowel_movement_frequency)[T.4]    -3.0878      0.735     -4.201      0.000        -4.530    -1.645\n",
      "C(types_of_plants)[T.1]              1.0768      0.445      2.419      0.016         0.203     1.950\n",
      "C(types_of_plants)[T.2]              1.7907      0.426      4.199      0.000         0.954     2.627\n",
      "C(types_of_plants)[T.3]              2.2284      0.448      4.979      0.000         1.350     3.107\n",
      "C(types_of_plants)[T.4]              2.0944      0.504      4.159      0.000         1.106     3.082\n",
      "bloom_fraction                      -1.2386      0.360     -3.442      0.001        -1.945    -0.533\n",
      "==============================================================================\n",
      "Omnibus:                       32.971   Durbin-Watson:                   2.074\n",
      "Prob(Omnibus):                  0.000   Jarque-Bera (JB):               35.290\n",
      "Skew:                           0.426   Prob(JB):                     2.17e-08\n",
      "Kurtosis:                       3.256   Cond. No.                         12.8\n",
      "==============================================================================\n",
      "\n",
      "Warnings:\n",
      "[1] Standard Errors assume that the covariance matrix of the errors is correctly specified.\n"
     ]
    }
   ],
   "source": [
    "fit4 = smf.ols('faiths_pd_1250 ~ bloom_fraction + C(race) + C(center_project_name)'\n",
    "               ' + C(bowel_movement_frequency) + C(types_of_plants)', \n",
    "               data=smap_numeric).fit()\n",
    "print(fit4.summary())"
   ]
  },
  {
   "cell_type": "code",
   "execution_count": 21,
   "metadata": {
    "collapsed": false
   },
   "outputs": [
    {
     "name": "stdout",
     "output_type": "stream",
     "text": [
      "                            OLS Regression Results                            \n",
      "==============================================================================\n",
      "Dep. Variable:         faiths_pd_1250   R-squared:                       0.141\n",
      "Model:                            OLS   Adj. R-squared:                  0.126\n",
      "Method:                 Least Squares   F-statistic:                     9.124\n",
      "Date:                Wed, 29 Nov 2017   Prob (F-statistic):           1.16e-24\n",
      "Time:                        20:53:50   Log-Likelihood:                -2779.8\n",
      "No. Observations:                1072   AIC:                             5600.\n",
      "Df Residuals:                    1052   BIC:                             5699.\n",
      "Df Model:                          19                                         \n",
      "Covariance Type:            nonrobust                                         \n",
      "====================================================================================================\n",
      "                                       coef    std err          t      P>|t|      [95.0% Conf. Int.]\n",
      "----------------------------------------------------------------------------------------------------\n",
      "Intercept                           12.2217      0.682     17.933      0.000        10.884    13.559\n",
      "C(race)[T.1]                        -2.6780      0.444     -6.029      0.000        -3.550    -1.806\n",
      "C(race)[T.2]                        -1.7003      0.540     -3.151      0.002        -2.759    -0.641\n",
      "C(center_project_name)[T.1]          0.7881      0.313      2.522      0.012         0.175     1.401\n",
      "C(center_project_name)[T.2]         -0.2288      0.314     -0.729      0.466        -0.845     0.387\n",
      "C(center_project_name)[T.3]          0.2154      0.317      0.679      0.497        -0.407     0.838\n",
      "C(center_project_name)[T.4]         -0.6458      0.401     -1.612      0.107        -1.432     0.140\n",
      "C(center_project_name)[T.5]         -0.6768      0.405     -1.671      0.095        -1.471     0.118\n",
      "C(bowel_movement_frequency)[T.1]    -0.8376      0.377     -2.221      0.027        -1.578    -0.098\n",
      "C(bowel_movement_frequency)[T.2]    -1.7582      0.396     -4.437      0.000        -2.536    -0.981\n",
      "C(bowel_movement_frequency)[T.3]    -2.1228      0.506     -4.196      0.000        -3.115    -1.130\n",
      "C(bowel_movement_frequency)[T.4]    -3.0481      0.733     -4.160      0.000        -4.486    -1.610\n",
      "C(types_of_plants)[T.1]              0.9823      0.445      2.206      0.028         0.109     1.856\n",
      "C(types_of_plants)[T.2]              1.6637      0.428      3.888      0.000         0.824     2.503\n",
      "C(types_of_plants)[T.3]              2.0833      0.449      4.636      0.000         1.202     2.965\n",
      "C(types_of_plants)[T.4]              1.9796      0.505      3.916      0.000         0.988     2.971\n",
      "C(level_of_education)[T.1]           0.8512      0.536      1.587      0.113        -0.201     1.904\n",
      "C(level_of_education)[T.2]           1.1596      0.476      2.435      0.015         0.225     2.094\n",
      "C(level_of_education)[T.3]           1.3786      0.467      2.954      0.003         0.463     2.294\n",
      "bloom_fraction                      -1.2755      0.359     -3.551      0.000        -1.980    -0.571\n",
      "==============================================================================\n",
      "Omnibus:                       35.763   Durbin-Watson:                   2.066\n",
      "Prob(Omnibus):                  0.000   Jarque-Bera (JB):               39.215\n",
      "Skew:                           0.427   Prob(JB):                     3.05e-09\n",
      "Kurtosis:                       3.386   Cond. No.                         15.3\n",
      "==============================================================================\n",
      "\n",
      "Warnings:\n",
      "[1] Standard Errors assume that the covariance matrix of the errors is correctly specified.\n"
     ]
    }
   ],
   "source": [
    "fit5 = smf.ols('faiths_pd_1250 ~ bloom_fraction + C(race) + C(center_project_name)'\n",
    "               ' + C(bowel_movement_frequency) + C(types_of_plants)'\n",
    "               ' + C(level_of_education)', \n",
    "               data=smap_numeric).fit()\n",
    "print(fit5.summary())"
   ]
  },
  {
   "cell_type": "code",
   "execution_count": 22,
   "metadata": {
    "collapsed": false
   },
   "outputs": [
    {
     "name": "stdout",
     "output_type": "stream",
     "text": [
      "                            OLS Regression Results                            \n",
      "==============================================================================\n",
      "Dep. Variable:         faiths_pd_1250   R-squared:                       0.189\n",
      "Model:                            OLS   Adj. R-squared:                  0.172\n",
      "Method:                 Least Squares   F-statistic:                     11.10\n",
      "Date:                Wed, 29 Nov 2017   Prob (F-statistic):           6.50e-35\n",
      "Time:                        20:53:50   Log-Likelihood:                -2749.4\n",
      "No. Observations:                1072   AIC:                             5545.\n",
      "Df Residuals:                    1049   BIC:                             5659.\n",
      "Df Model:                          22                                         \n",
      "Covariance Type:            nonrobust                                         \n",
      "====================================================================================================\n",
      "                                       coef    std err          t      P>|t|      [95.0% Conf. Int.]\n",
      "----------------------------------------------------------------------------------------------------\n",
      "Intercept                           11.6203      0.669     17.365      0.000        10.307    12.933\n",
      "C(race)[T.1]                        -2.2450      0.436     -5.147      0.000        -3.101    -1.389\n",
      "C(race)[T.2]                        -1.7058      0.525     -3.247      0.001        -2.737    -0.675\n",
      "C(center_project_name)[T.1]          0.6766      0.305      2.218      0.027         0.078     1.275\n",
      "C(center_project_name)[T.2]         -0.3198      0.310     -1.032      0.302        -0.928     0.288\n",
      "C(center_project_name)[T.3]          0.5749      0.312      1.841      0.066        -0.038     1.188\n",
      "C(center_project_name)[T.4]          0.0855      0.401      0.213      0.831        -0.702     0.873\n",
      "C(center_project_name)[T.5]         -1.0426      0.398     -2.620      0.009        -1.823    -0.262\n",
      "C(bowel_movement_frequency)[T.1]    -0.7000      0.368     -1.905      0.057        -1.421     0.021\n",
      "C(bowel_movement_frequency)[T.2]    -1.6187      0.386     -4.190      0.000        -2.377    -0.861\n",
      "C(bowel_movement_frequency)[T.3]    -1.9462      0.493     -3.948      0.000        -2.914    -0.979\n",
      "C(bowel_movement_frequency)[T.4]    -2.8460      0.714     -3.986      0.000        -4.247    -1.445\n",
      "C(types_of_plants)[T.1]              0.6466      0.436      1.483      0.138        -0.209     1.502\n",
      "C(types_of_plants)[T.2]              1.2892      0.419      3.073      0.002         0.466     2.112\n",
      "C(types_of_plants)[T.3]              1.6576      0.441      3.756      0.000         0.792     2.524\n",
      "C(types_of_plants)[T.4]              1.3499      0.499      2.705      0.007         0.371     2.329\n",
      "C(level_of_education)[T.1]           0.9828      0.522      1.881      0.060        -0.042     2.008\n",
      "C(level_of_education)[T.2]           1.1935      0.464      2.570      0.010         0.282     2.105\n",
      "C(level_of_education)[T.3]           1.4155      0.455      3.109      0.002         0.522     2.309\n",
      "C(country)[T.1]                      1.7243      0.223      7.737      0.000         1.287     2.162\n",
      "C(country)[T.2]                      0.8553      0.868      0.985      0.325        -0.848     2.558\n",
      "C(country)[T.3]                      1.5604      0.656      2.378      0.018         0.273     2.848\n",
      "bloom_fraction                      -1.3489      0.350     -3.849      0.000        -2.037    -0.661\n",
      "==============================================================================\n",
      "Omnibus:                       33.889   Durbin-Watson:                   2.059\n",
      "Prob(Omnibus):                  0.000   Jarque-Bera (JB):               37.085\n",
      "Skew:                           0.412   Prob(JB):                     8.85e-09\n",
      "Kurtosis:                       3.389   Cond. No.                         16.0\n",
      "==============================================================================\n",
      "\n",
      "Warnings:\n",
      "[1] Standard Errors assume that the covariance matrix of the errors is correctly specified.\n"
     ]
    }
   ],
   "source": [
    "fit6 = smf.ols('faiths_pd_1250 ~ bloom_fraction + C(race) + C(center_project_name)'\n",
    "               ' + C(bowel_movement_frequency) + C(types_of_plants)'\n",
    "               ' + C(level_of_education) + C(country)', \n",
    "               data=smap_numeric).fit()\n",
    "print(fit6.summary())"
   ]
  },
  {
   "cell_type": "code",
   "execution_count": 23,
   "metadata": {
    "collapsed": false
   },
   "outputs": [
    {
     "name": "stdout",
     "output_type": "stream",
     "text": [
      "                            OLS Regression Results                            \n",
      "==============================================================================\n",
      "Dep. Variable:         faiths_pd_1250   R-squared:                       0.192\n",
      "Model:                            OLS   Adj. R-squared:                  0.172\n",
      "Method:                 Least Squares   F-statistic:                     9.927\n",
      "Date:                Wed, 29 Nov 2017   Prob (F-statistic):           4.18e-34\n",
      "Time:                        20:53:50   Log-Likelihood:                -2747.4\n",
      "No. Observations:                1072   AIC:                             5547.\n",
      "Df Residuals:                    1046   BIC:                             5676.\n",
      "Df Model:                          25                                         \n",
      "Covariance Type:            nonrobust                                         \n",
      "====================================================================================================\n",
      "                                       coef    std err          t      P>|t|      [95.0% Conf. Int.]\n",
      "----------------------------------------------------------------------------------------------------\n",
      "Intercept                           11.4107      0.810     14.091      0.000         9.822    13.000\n",
      "C(race)[T.1]                        -2.1783      0.438     -4.968      0.000        -3.039    -1.318\n",
      "C(race)[T.2]                        -1.6924      0.526     -3.217      0.001        -2.725    -0.660\n",
      "C(center_project_name)[T.1]          0.6839      0.305      2.243      0.025         0.086     1.282\n",
      "C(center_project_name)[T.2]         -0.3253      0.310     -1.049      0.295        -0.934     0.283\n",
      "C(center_project_name)[T.3]          0.5765      0.313      1.844      0.065        -0.037     1.190\n",
      "C(center_project_name)[T.4]          0.1305      0.402      0.325      0.745        -0.658     0.919\n",
      "C(center_project_name)[T.5]         -1.0399      0.398     -2.611      0.009        -1.822    -0.258\n",
      "C(bowel_movement_frequency)[T.1]    -0.7711      0.371     -2.079      0.038        -1.499    -0.043\n",
      "C(bowel_movement_frequency)[T.2]    -1.6577      0.390     -4.254      0.000        -2.422    -0.893\n",
      "C(bowel_movement_frequency)[T.3]    -2.0136      0.495     -4.069      0.000        -2.985    -1.043\n",
      "C(bowel_movement_frequency)[T.4]    -2.8597      0.714     -4.006      0.000        -4.260    -1.459\n",
      "C(types_of_plants)[T.1]              0.6264      0.449      1.395      0.163        -0.255     1.508\n",
      "C(types_of_plants)[T.2]              1.2071      0.440      2.740      0.006         0.343     2.071\n",
      "C(types_of_plants)[T.3]              1.5101      0.469      3.218      0.001         0.589     2.431\n",
      "C(types_of_plants)[T.4]              1.1543      0.528      2.187      0.029         0.119     2.190\n",
      "C(level_of_education)[T.1]           1.0475      0.524      2.000      0.046         0.020     2.075\n",
      "C(level_of_education)[T.2]           1.2346      0.466      2.650      0.008         0.321     2.149\n",
      "C(level_of_education)[T.3]           1.4558      0.457      3.187      0.001         0.559     2.352\n",
      "C(country)[T.1]                      1.6923      0.224      7.563      0.000         1.253     2.131\n",
      "C(country)[T.2]                      0.8277      0.868      0.953      0.341        -0.876     2.532\n",
      "C(country)[T.3]                      1.5827      0.657      2.411      0.016         0.294     2.871\n",
      "C(vegetable_frequency)[T.1]          0.1931      0.652      0.296      0.767        -1.086     1.472\n",
      "C(vegetable_frequency)[T.2]          0.0970      0.598      0.162      0.871        -1.077     1.271\n",
      "C(vegetable_frequency)[T.3]          0.5098      0.601      0.848      0.396        -0.669     1.689\n",
      "bloom_fraction                      -1.3600      0.350     -3.881      0.000        -2.048    -0.672\n",
      "==============================================================================\n",
      "Omnibus:                       33.137   Durbin-Watson:                   2.057\n",
      "Prob(Omnibus):                  0.000   Jarque-Bera (JB):               36.229\n",
      "Skew:                           0.406   Prob(JB):                     1.36e-08\n",
      "Kurtosis:                       3.390   Cond. No.                         20.4\n",
      "==============================================================================\n",
      "\n",
      "Warnings:\n",
      "[1] Standard Errors assume that the covariance matrix of the errors is correctly specified.\n"
     ]
    }
   ],
   "source": [
    "fit7 = smf.ols('faiths_pd_1250 ~ bloom_fraction + C(race) + C(center_project_name)'\n",
    "               ' + C(bowel_movement_frequency) + C(types_of_plants)'\n",
    "               ' + C(level_of_education) + C(country) + C(vegetable_frequency)', \n",
    "               data=smap_numeric).fit()\n",
    "print(fit7.summary())"
   ]
  },
  {
   "cell_type": "code",
   "execution_count": 24,
   "metadata": {
    "collapsed": false
   },
   "outputs": [
    {
     "name": "stdout",
     "output_type": "stream",
     "text": [
      "                            OLS Regression Results                            \n",
      "==============================================================================\n",
      "Dep. Variable:         faiths_pd_1250   R-squared:                       0.211\n",
      "Model:                            OLS   Adj. R-squared:                  0.189\n",
      "Method:                 Least Squares   F-statistic:                     9.940\n",
      "Date:                Wed, 29 Nov 2017   Prob (F-statistic):           1.93e-37\n",
      "Time:                        20:53:50   Log-Likelihood:                -2734.7\n",
      "No. Observations:                1072   AIC:                             5527.\n",
      "Df Residuals:                    1043   BIC:                             5672.\n",
      "Df Model:                          28                                         \n",
      "Covariance Type:            nonrobust                                         \n",
      "====================================================================================================\n",
      "                                       coef    std err          t      P>|t|      [95.0% Conf. Int.]\n",
      "----------------------------------------------------------------------------------------------------\n",
      "Intercept                           11.9275      0.812     14.691      0.000        10.334    13.521\n",
      "C(race)[T.1]                        -2.2779      0.435     -5.242      0.000        -3.131    -1.425\n",
      "C(race)[T.2]                        -1.7294      0.521     -3.320      0.001        -2.751    -0.707\n",
      "C(center_project_name)[T.1]          0.6874      0.302      2.276      0.023         0.095     1.280\n",
      "C(center_project_name)[T.2]         -0.4147      0.308     -1.347      0.178        -1.019     0.189\n",
      "C(center_project_name)[T.3]          0.5788      0.309      1.871      0.062        -0.028     1.186\n",
      "C(center_project_name)[T.4]         -0.0399      0.400     -0.100      0.921        -0.824     0.744\n",
      "C(center_project_name)[T.5]         -1.0759      0.395     -2.726      0.007        -1.850    -0.302\n",
      "C(bowel_movement_frequency)[T.1]    -0.7954      0.367     -2.165      0.031        -1.516    -0.074\n",
      "C(bowel_movement_frequency)[T.2]    -1.7025      0.386     -4.409      0.000        -2.460    -0.945\n",
      "C(bowel_movement_frequency)[T.3]    -2.0024      0.491     -4.081      0.000        -2.965    -1.040\n",
      "C(bowel_movement_frequency)[T.4]    -2.9342      0.707     -4.150      0.000        -4.322    -1.547\n",
      "C(types_of_plants)[T.1]              0.5429      0.446      1.218      0.224        -0.332     1.418\n",
      "C(types_of_plants)[T.2]              1.0475      0.438      2.393      0.017         0.189     1.906\n",
      "C(types_of_plants)[T.3]              1.3907      0.465      2.988      0.003         0.478     2.304\n",
      "C(types_of_plants)[T.4]              0.9318      0.525      1.775      0.076        -0.099     1.962\n",
      "C(level_of_education)[T.1]           1.1478      0.519      2.211      0.027         0.129     2.166\n",
      "C(level_of_education)[T.2]           1.2801      0.462      2.772      0.006         0.374     2.186\n",
      "C(level_of_education)[T.3]           1.5211      0.452      3.362      0.001         0.633     2.409\n",
      "C(country)[T.1]                      1.6115      0.222      7.255      0.000         1.176     2.047\n",
      "C(country)[T.2]                      0.6624      0.860      0.770      0.441        -1.026     2.350\n",
      "C(country)[T.3]                      1.6509      0.650      2.540      0.011         0.375     2.926\n",
      "C(vegetable_frequency)[T.1]          0.1562      0.648      0.241      0.810        -1.116     1.428\n",
      "C(vegetable_frequency)[T.2]          0.0251      0.595      0.042      0.966        -1.143     1.193\n",
      "C(vegetable_frequency)[T.3]          0.4213      0.599      0.703      0.482        -0.754     1.596\n",
      "C(antibiotic_history)[T.1]          -0.5272      0.270     -1.951      0.051        -1.057     0.003\n",
      "C(antibiotic_history)[T.2]          -0.9358      0.312     -2.997      0.003        -1.548    -0.323\n",
      "C(antibiotic_history)[T.3]          -1.8808      0.451     -4.171      0.000        -2.766    -0.996\n",
      "bloom_fraction                      -1.2567      0.349     -3.597      0.000        -1.942    -0.571\n",
      "==============================================================================\n",
      "Omnibus:                       33.029   Durbin-Watson:                   2.063\n",
      "Prob(Omnibus):                  0.000   Jarque-Bera (JB):               36.164\n",
      "Skew:                           0.404   Prob(JB):                     1.40e-08\n",
      "Kurtosis:                       3.396   Cond. No.                         20.7\n",
      "==============================================================================\n",
      "\n",
      "Warnings:\n",
      "[1] Standard Errors assume that the covariance matrix of the errors is correctly specified.\n"
     ]
    }
   ],
   "source": [
    "fit8 = smf.ols('faiths_pd_1250 ~ bloom_fraction + C(race) + C(center_project_name)'\n",
    "               ' + C(bowel_movement_frequency) + C(types_of_plants)'\n",
    "               ' + C(level_of_education) + C(country) + C(vegetable_frequency)'\n",
    "               ' + C(antibiotic_history)', \n",
    "               data=smap_numeric).fit()\n",
    "print(fit8.summary())"
   ]
  },
  {
   "cell_type": "code",
   "execution_count": 25,
   "metadata": {
    "collapsed": false
   },
   "outputs": [
    {
     "name": "stdout",
     "output_type": "stream",
     "text": [
      "                            OLS Regression Results                            \n",
      "==============================================================================\n",
      "Dep. Variable:         faiths_pd_1250   R-squared:                       0.217\n",
      "Model:                            OLS   Adj. R-squared:                  0.193\n",
      "Method:                 Least Squares   F-statistic:                     9.016\n",
      "Date:                Wed, 29 Nov 2017   Prob (F-statistic):           3.42e-37\n",
      "Time:                        20:53:50   Log-Likelihood:                -2730.2\n",
      "No. Observations:                1072   AIC:                             5526.\n",
      "Df Residuals:                    1039   BIC:                             5691.\n",
      "Df Model:                          32                                         \n",
      "Covariance Type:            nonrobust                                         \n",
      "====================================================================================================\n",
      "                                       coef    std err          t      P>|t|      [95.0% Conf. Int.]\n",
      "----------------------------------------------------------------------------------------------------\n",
      "Intercept                           11.8853      0.818     14.526      0.000        10.280    13.491\n",
      "C(race)[T.1]                        -2.2808      0.435     -5.248      0.000        -3.134    -1.428\n",
      "C(race)[T.2]                        -1.7731      0.520     -3.407      0.001        -2.794    -0.752\n",
      "C(center_project_name)[T.1]          0.6587      0.302      2.181      0.029         0.066     1.251\n",
      "C(center_project_name)[T.2]         -0.4262      0.307     -1.386      0.166        -1.029     0.177\n",
      "C(center_project_name)[T.3]          0.5734      0.310      1.851      0.064        -0.034     1.181\n",
      "C(center_project_name)[T.4]         -0.0019      0.399     -0.005      0.996        -0.786     0.782\n",
      "C(center_project_name)[T.5]         -1.1408      0.395     -2.889      0.004        -1.916    -0.366\n",
      "C(bowel_movement_frequency)[T.1]    -0.8366      0.367     -2.280      0.023        -1.556    -0.117\n",
      "C(bowel_movement_frequency)[T.2]    -1.6991      0.386     -4.406      0.000        -2.456    -0.942\n",
      "C(bowel_movement_frequency)[T.3]    -2.0311      0.491     -4.135      0.000        -2.995    -1.067\n",
      "C(bowel_movement_frequency)[T.4]    -2.9747      0.707     -4.209      0.000        -4.362    -1.588\n",
      "C(types_of_plants)[T.1]              0.5124      0.445      1.151      0.250        -0.361     1.386\n",
      "C(types_of_plants)[T.2]              0.9995      0.438      2.282      0.023         0.140     1.859\n",
      "C(types_of_plants)[T.3]              1.3688      0.466      2.934      0.003         0.453     2.284\n",
      "C(types_of_plants)[T.4]              0.8184      0.526      1.555      0.120        -0.214     1.851\n",
      "C(level_of_education)[T.1]           1.0002      0.529      1.891      0.059        -0.038     2.038\n",
      "C(level_of_education)[T.2]           1.0697      0.479      2.235      0.026         0.130     2.009\n",
      "C(level_of_education)[T.3]           1.3117      0.471      2.788      0.005         0.388     2.235\n",
      "C(country)[T.1]                      1.7207      0.230      7.479      0.000         1.269     2.172\n",
      "C(country)[T.2]                      0.6301      0.859      0.734      0.463        -1.055     2.315\n",
      "C(country)[T.3]                      1.6978      0.650      2.612      0.009         0.422     2.973\n",
      "C(vegetable_frequency)[T.1]          0.0659      0.648      0.102      0.919        -1.205     1.337\n",
      "C(vegetable_frequency)[T.2]         -0.0338      0.594     -0.057      0.955        -1.200     1.132\n",
      "C(vegetable_frequency)[T.3]          0.3173      0.599      0.530      0.596        -0.858     1.492\n",
      "C(antibiotic_history)[T.1]          -0.5339      0.270     -1.980      0.048        -1.063    -0.005\n",
      "C(antibiotic_history)[T.2]          -0.9081      0.313     -2.902      0.004        -1.522    -0.294\n",
      "C(antibiotic_history)[T.3]          -1.8634      0.451     -4.132      0.000        -2.748    -0.979\n",
      "C(drinks_per_session)[T.1]           0.7967      0.345      2.309      0.021         0.120     1.474\n",
      "C(drinks_per_session)[T.2]           0.3838      0.332      1.155      0.248        -0.268     1.036\n",
      "C(drinks_per_session)[T.3]           0.1011      0.373      0.271      0.786        -0.631     0.833\n",
      "C(drinks_per_session)[T.4]           0.0081      0.415      0.019      0.984        -0.807     0.823\n",
      "bloom_fraction                      -1.2192      0.349     -3.494      0.000        -1.904    -0.534\n",
      "==============================================================================\n",
      "Omnibus:                       32.018   Durbin-Watson:                   2.076\n",
      "Prob(Omnibus):                  0.000   Jarque-Bera (JB):               34.720\n",
      "Skew:                           0.402   Prob(JB):                     2.89e-08\n",
      "Kurtosis:                       3.362   Cond. No.                         21.5\n",
      "==============================================================================\n",
      "\n",
      "Warnings:\n",
      "[1] Standard Errors assume that the covariance matrix of the errors is correctly specified.\n"
     ]
    }
   ],
   "source": [
    "fit9 = smf.ols('faiths_pd_1250 ~ bloom_fraction + C(race) + C(center_project_name)'\n",
    "               ' + C(bowel_movement_frequency) + C(types_of_plants)'\n",
    "               ' + C(level_of_education) + C(country) + C(vegetable_frequency)'\n",
    "               ' + C(antibiotic_history) + C(drinks_per_session)', \n",
    "               data=smap_numeric).fit()\n",
    "print(fit9.summary())"
   ]
  },
  {
   "cell_type": "code",
   "execution_count": 26,
   "metadata": {
    "collapsed": false
   },
   "outputs": [
    {
     "name": "stdout",
     "output_type": "stream",
     "text": [
      "                            OLS Regression Results                            \n",
      "==============================================================================\n",
      "Dep. Variable:         faiths_pd_1250   R-squared:                       0.229\n",
      "Model:                            OLS   Adj. R-squared:                  0.204\n",
      "Method:                 Least Squares   F-statistic:                     9.327\n",
      "Date:                Wed, 29 Nov 2017   Prob (F-statistic):           1.14e-39\n",
      "Time:                        20:53:50   Log-Likelihood:                -2722.3\n",
      "No. Observations:                1072   AIC:                             5513.\n",
      "Df Residuals:                    1038   BIC:                             5682.\n",
      "Df Model:                          33                                         \n",
      "Covariance Type:            nonrobust                                         \n",
      "====================================================================================================\n",
      "                                       coef    std err          t      P>|t|      [95.0% Conf. Int.]\n",
      "----------------------------------------------------------------------------------------------------\n",
      "Intercept                           11.3305      0.825     13.735      0.000         9.712    12.949\n",
      "C(race)[T.1]                        -2.0084      0.437     -4.593      0.000        -2.866    -1.150\n",
      "C(race)[T.2]                        -1.6139      0.519     -3.112      0.002        -2.631    -0.596\n",
      "C(center_project_name)[T.1]          0.5359      0.302      1.777      0.076        -0.056     1.128\n",
      "C(center_project_name)[T.2]         -0.5568      0.307     -1.813      0.070        -1.159     0.046\n",
      "C(center_project_name)[T.3]          0.4124      0.310      1.329      0.184        -0.197     1.021\n",
      "C(center_project_name)[T.4]          0.1847      0.400      0.462      0.644        -0.600     0.969\n",
      "C(center_project_name)[T.5]         -1.1798      0.392     -3.007      0.003        -1.950    -0.410\n",
      "C(bowel_movement_frequency)[T.1]    -0.8270      0.364     -2.270      0.023        -1.542    -0.112\n",
      "C(bowel_movement_frequency)[T.2]    -1.6688      0.383     -4.356      0.000        -2.420    -0.917\n",
      "C(bowel_movement_frequency)[T.3]    -2.0652      0.488     -4.233      0.000        -3.023    -1.108\n",
      "C(bowel_movement_frequency)[T.4]    -3.0357      0.702     -4.323      0.000        -4.414    -1.658\n",
      "C(types_of_plants)[T.1]              0.4220      0.443      0.953      0.341        -0.447     1.291\n",
      "C(types_of_plants)[T.2]              0.9183      0.435      2.109      0.035         0.064     1.773\n",
      "C(types_of_plants)[T.3]              1.3215      0.463      2.851      0.004         0.412     2.231\n",
      "C(types_of_plants)[T.4]              0.7187      0.523      1.373      0.170        -0.308     1.746\n",
      "C(level_of_education)[T.1]           0.5528      0.538      1.028      0.304        -0.502     1.608\n",
      "C(level_of_education)[T.2]           0.6679      0.486      1.373      0.170        -0.287     1.622\n",
      "C(level_of_education)[T.3]           0.8134      0.484      1.679      0.093        -0.137     1.764\n",
      "C(country)[T.1]                      1.6672      0.229      7.283      0.000         1.218     2.116\n",
      "C(country)[T.2]                      0.4334      0.854      0.507      0.612        -1.243     2.110\n",
      "C(country)[T.3]                      1.6907      0.646      2.618      0.009         0.424     2.958\n",
      "C(vegetable_frequency)[T.1]          0.0239      0.643      0.037      0.970        -1.239     1.287\n",
      "C(vegetable_frequency)[T.2]         -0.1193      0.590     -0.202      0.840        -1.278     1.039\n",
      "C(vegetable_frequency)[T.3]          0.2474      0.595      0.416      0.678        -0.920     1.415\n",
      "C(antibiotic_history)[T.1]          -0.5604      0.268     -2.092      0.037        -1.086    -0.035\n",
      "C(antibiotic_history)[T.2]          -0.9639      0.311     -3.099      0.002        -1.574    -0.353\n",
      "C(antibiotic_history)[T.3]          -1.9601      0.449     -4.370      0.000        -2.840    -1.080\n",
      "C(drinks_per_session)[T.1]           0.6509      0.345      1.888      0.059        -0.026     1.327\n",
      "C(drinks_per_session)[T.2]           0.3773      0.330      1.143      0.253        -0.270     1.025\n",
      "C(drinks_per_session)[T.3]           0.1088      0.370      0.294      0.769        -0.618     0.835\n",
      "C(drinks_per_session)[T.4]           0.0825      0.413      0.200      0.842        -0.727     0.892\n",
      "bloom_fraction                      -1.2960      0.347     -3.733      0.000        -1.977    -0.615\n",
      "age_corrected                        0.0265      0.007      3.913      0.000         0.013     0.040\n",
      "==============================================================================\n",
      "Omnibus:                       27.188   Durbin-Watson:                   2.071\n",
      "Prob(Omnibus):                  0.000   Jarque-Bera (JB):               28.718\n",
      "Skew:                           0.379   Prob(JB):                     5.81e-07\n",
      "Kurtosis:                       3.261   Cond. No.                         612.\n",
      "==============================================================================\n",
      "\n",
      "Warnings:\n",
      "[1] Standard Errors assume that the covariance matrix of the errors is correctly specified.\n"
     ]
    }
   ],
   "source": [
    "fit10 = smf.ols('faiths_pd_1250 ~ bloom_fraction + C(race) + C(center_project_name)'\n",
    "               ' + C(bowel_movement_frequency) + C(types_of_plants)'\n",
    "               ' + C(level_of_education) + C(country) + C(vegetable_frequency)'\n",
    "               ' + C(antibiotic_history) + C(drinks_per_session)'\n",
    "               ' + age_corrected', \n",
    "               data=smap_numeric).fit()\n",
    "print(fit10.summary())"
   ]
  },
  {
   "cell_type": "code",
   "execution_count": 27,
   "metadata": {
    "collapsed": false
   },
   "outputs": [
    {
     "name": "stdout",
     "output_type": "stream",
     "text": [
      "                            OLS Regression Results                            \n",
      "==============================================================================\n",
      "Dep. Variable:         faiths_pd_1250   R-squared:                       0.229\n",
      "Model:                            OLS   Adj. R-squared:                  0.205\n",
      "Method:                 Least Squares   F-statistic:                     9.362\n",
      "Date:                Wed, 29 Nov 2017   Prob (F-statistic):           7.62e-40\n",
      "Time:                        20:53:50   Log-Likelihood:                -2721.9\n",
      "No. Observations:                1072   AIC:                             5512.\n",
      "Df Residuals:                    1038   BIC:                             5681.\n",
      "Df Model:                          33                                         \n",
      "Covariance Type:            nonrobust                                         \n",
      "====================================================================================================\n",
      "                                       coef    std err          t      P>|t|      [95.0% Conf. Int.]\n",
      "----------------------------------------------------------------------------------------------------\n",
      "Intercept                            9.0214      1.080      8.356      0.000         6.903    11.140\n",
      "C(race)[T.1]                        -2.0295      0.436     -4.655      0.000        -2.885    -1.174\n",
      "C(race)[T.2]                        -1.6460      0.518     -3.180      0.002        -2.662    -0.630\n",
      "C(center_project_name)[T.1]          0.5458      0.301      1.813      0.070        -0.045     1.137\n",
      "C(center_project_name)[T.2]         -0.5454      0.307     -1.779      0.076        -1.147     0.056\n",
      "C(center_project_name)[T.3]          0.4347      0.309      1.405      0.160        -0.173     1.042\n",
      "C(center_project_name)[T.4]          0.1484      0.398      0.373      0.710        -0.633     0.930\n",
      "C(center_project_name)[T.5]         -1.1611      0.392     -2.962      0.003        -1.930    -0.392\n",
      "C(bowel_movement_frequency)[T.1]    -0.8297      0.364     -2.278      0.023        -1.544    -0.115\n",
      "C(bowel_movement_frequency)[T.2]    -1.6524      0.383     -4.314      0.000        -2.404    -0.901\n",
      "C(bowel_movement_frequency)[T.3]    -2.0269      0.488     -4.157      0.000        -2.984    -1.070\n",
      "C(bowel_movement_frequency)[T.4]    -3.0311      0.702     -4.319      0.000        -4.408    -1.654\n",
      "C(types_of_plants)[T.1]              0.4205      0.443      0.950      0.342        -0.448     1.289\n",
      "C(types_of_plants)[T.2]              0.9197      0.435      2.113      0.035         0.066     1.774\n",
      "C(types_of_plants)[T.3]              1.3318      0.463      2.875      0.004         0.423     2.241\n",
      "C(types_of_plants)[T.4]              0.7277      0.523      1.391      0.164        -0.299     1.754\n",
      "C(level_of_education)[T.1]           0.2521      0.557      0.453      0.651        -0.841     1.345\n",
      "C(level_of_education)[T.2]           0.3546      0.507      0.699      0.485        -0.641     1.350\n",
      "C(level_of_education)[T.3]           0.4975      0.509      0.977      0.329        -0.501     1.496\n",
      "C(country)[T.1]                      1.6659      0.229      7.280      0.000         1.217     2.115\n",
      "C(country)[T.2]                      0.3913      0.855      0.458      0.647        -1.286     2.068\n",
      "C(country)[T.3]                      1.7353      0.645      2.688      0.007         0.469     3.002\n",
      "C(vegetable_frequency)[T.1]          0.0162      0.643      0.025      0.980        -1.246     1.278\n",
      "C(vegetable_frequency)[T.2]         -0.1262      0.590     -0.214      0.831        -1.284     1.032\n",
      "C(vegetable_frequency)[T.3]          0.2434      0.595      0.409      0.682        -0.924     1.410\n",
      "C(antibiotic_history)[T.1]          -0.5589      0.268     -2.087      0.037        -1.084    -0.033\n",
      "C(antibiotic_history)[T.2]          -0.9463      0.311     -3.045      0.002        -1.556    -0.337\n",
      "C(antibiotic_history)[T.3]          -1.9387      0.448     -4.327      0.000        -2.818    -1.060\n",
      "C(drinks_per_session)[T.1]           0.5871      0.347      1.694      0.091        -0.093     1.267\n",
      "C(drinks_per_session)[T.2]           0.2935      0.331      0.888      0.375        -0.355     0.942\n",
      "C(drinks_per_session)[T.3]           0.0241      0.371      0.065      0.948        -0.703     0.751\n",
      "C(drinks_per_session)[T.4]          -0.0368      0.412     -0.089      0.929        -0.846     0.772\n",
      "bloom_fraction                      -1.3165      0.347     -3.791      0.000        -1.998    -0.635\n",
      "ln_age                               1.0376      0.258      4.027      0.000         0.532     1.543\n",
      "==============================================================================\n",
      "Omnibus:                       27.203   Durbin-Watson:                   2.075\n",
      "Prob(Omnibus):                  0.000   Jarque-Bera (JB):               28.736\n",
      "Skew:                           0.379   Prob(JB):                     5.75e-07\n",
      "Kurtosis:                       3.261   Cond. No.                         55.0\n",
      "==============================================================================\n",
      "\n",
      "Warnings:\n",
      "[1] Standard Errors assume that the covariance matrix of the errors is correctly specified.\n"
     ]
    }
   ],
   "source": [
    "fit11 = smf.ols('faiths_pd_1250 ~ bloom_fraction + C(race) + C(center_project_name)'\n",
    "               ' + C(bowel_movement_frequency) + C(types_of_plants)'\n",
    "               ' + C(level_of_education) + C(country) + C(vegetable_frequency)'\n",
    "               ' + C(antibiotic_history) + C(drinks_per_session)'\n",
    "               ' + ln_age', \n",
    "               data=smap_numeric).fit()\n",
    "print(fit11.summary())"
   ]
  },
  {
   "cell_type": "code",
   "execution_count": 28,
   "metadata": {
    "collapsed": false
   },
   "outputs": [
    {
     "name": "stdout",
     "output_type": "stream",
     "text": [
      "                            OLS Regression Results                            \n",
      "==============================================================================\n",
      "Dep. Variable:         faiths_pd_1250   R-squared:                       0.229\n",
      "Model:                            OLS   Adj. R-squared:                  0.204\n",
      "Method:                 Least Squares   F-statistic:                     9.078\n",
      "Date:                Wed, 29 Nov 2017   Prob (F-statistic):           2.35e-39\n",
      "Time:                        20:53:50   Log-Likelihood:                -2721.9\n",
      "No. Observations:                1072   AIC:                             5514.\n",
      "Df Residuals:                    1037   BIC:                             5688.\n",
      "Df Model:                          34                                         \n",
      "Covariance Type:            nonrobust                                         \n",
      "====================================================================================================\n",
      "                                       coef    std err          t      P>|t|      [95.0% Conf. Int.]\n",
      "----------------------------------------------------------------------------------------------------\n",
      "Intercept                            9.0271      1.083      8.337      0.000         6.902    11.152\n",
      "C(race)[T.1]                        -2.0295      0.436     -4.653      0.000        -2.885    -1.174\n",
      "C(race)[T.2]                        -1.6470      0.518     -3.179      0.002        -2.664    -0.630\n",
      "C(center_project_name)[T.1]          0.5456      0.301      1.811      0.070        -0.046     1.137\n",
      "C(center_project_name)[T.2]         -0.5471      0.308     -1.779      0.076        -1.151     0.056\n",
      "C(center_project_name)[T.3]          0.4336      0.310      1.399      0.162        -0.175     1.042\n",
      "C(center_project_name)[T.4]          0.1461      0.400      0.366      0.715        -0.638     0.930\n",
      "C(center_project_name)[T.5]         -1.1617      0.392     -2.961      0.003        -1.931    -0.392\n",
      "C(bowel_movement_frequency)[T.1]    -0.8266      0.367     -2.254      0.024        -1.546    -0.107\n",
      "C(bowel_movement_frequency)[T.2]    -1.6488      0.386     -4.271      0.000        -2.406    -0.891\n",
      "C(bowel_movement_frequency)[T.3]    -2.0231      0.490     -4.126      0.000        -2.985    -1.061\n",
      "C(bowel_movement_frequency)[T.4]    -3.0286      0.703     -4.308      0.000        -4.408    -1.649\n",
      "C(types_of_plants)[T.1]              0.4202      0.443      0.949      0.343        -0.449     1.289\n",
      "C(types_of_plants)[T.2]              0.9192      0.435      2.111      0.035         0.065     1.774\n",
      "C(types_of_plants)[T.3]              1.3301      0.464      2.867      0.004         0.420     2.240\n",
      "C(types_of_plants)[T.4]              0.7256      0.524      1.385      0.166        -0.303     1.754\n",
      "C(level_of_education)[T.1]           0.2494      0.558      0.447      0.655        -0.846     1.345\n",
      "C(level_of_education)[T.2]           0.3540      0.508      0.697      0.486        -0.642     1.350\n",
      "C(level_of_education)[T.3]           0.4964      0.509      0.974      0.330        -0.503     1.496\n",
      "C(country)[T.1]                      1.6647      0.229      7.255      0.000         1.214     2.115\n",
      "C(country)[T.2]                      0.3919      0.855      0.458      0.647        -1.286     2.070\n",
      "C(country)[T.3]                      1.7367      0.646      2.688      0.007         0.469     3.004\n",
      "C(vegetable_frequency)[T.1]          0.0178      0.644      0.028      0.978        -1.246     1.281\n",
      "C(vegetable_frequency)[T.2]         -0.1254      0.591     -0.212      0.832        -1.284     1.033\n",
      "C(vegetable_frequency)[T.3]          0.2428      0.595      0.408      0.683        -0.925     1.410\n",
      "C(antibiotic_history)[T.1]          -0.5593      0.268     -2.087      0.037        -1.085    -0.033\n",
      "C(antibiotic_history)[T.2]          -0.9473      0.311     -3.044      0.002        -1.558    -0.337\n",
      "C(antibiotic_history)[T.3]          -1.9410      0.449     -4.320      0.000        -2.823    -1.059\n",
      "C(drinks_per_session)[T.1]           0.5856      0.347      1.686      0.092        -0.096     1.267\n",
      "C(drinks_per_session)[T.2]           0.2941      0.331      0.889      0.374        -0.355     0.944\n",
      "C(drinks_per_session)[T.3]           0.0252      0.371      0.068      0.946        -0.703     0.753\n",
      "C(drinks_per_session)[T.4]          -0.0342      0.414     -0.083      0.934        -0.846     0.778\n",
      "bloom_fraction                      -1.3184      0.348     -3.785      0.000        -2.002    -0.635\n",
      "ln_age                               1.0381      0.258      4.026      0.000         0.532     1.544\n",
      "sex                                 -0.0152      0.200     -0.076      0.939        -0.409     0.378\n",
      "==============================================================================\n",
      "Omnibus:                       27.206   Durbin-Watson:                   2.075\n",
      "Prob(Omnibus):                  0.000   Jarque-Bera (JB):               28.736\n",
      "Skew:                           0.379   Prob(JB):                     5.75e-07\n",
      "Kurtosis:                       3.260   Cond. No.                         55.4\n",
      "==============================================================================\n",
      "\n",
      "Warnings:\n",
      "[1] Standard Errors assume that the covariance matrix of the errors is correctly specified.\n"
     ]
    }
   ],
   "source": [
    "fit12 = smf.ols('faiths_pd_1250 ~ bloom_fraction + C(race) + C(center_project_name)'\n",
    "               ' + C(bowel_movement_frequency) + C(types_of_plants)'\n",
    "               ' + C(level_of_education) + C(country) + C(vegetable_frequency)'\n",
    "               ' + C(antibiotic_history) + C(drinks_per_session)'\n",
    "               ' + ln_age + sex', \n",
    "               data=smap_numeric).fit()\n",
    "print(fit12.summary())"
   ]
  },
  {
   "cell_type": "code",
   "execution_count": 29,
   "metadata": {
    "collapsed": false
   },
   "outputs": [
    {
     "name": "stdout",
     "output_type": "stream",
     "text": [
      "                            OLS Regression Results                            \n",
      "==============================================================================\n",
      "Dep. Variable:         faiths_pd_1250   R-squared:                       0.231\n",
      "Model:                            OLS   Adj. R-squared:                  0.205\n",
      "Method:                 Least Squares   F-statistic:                     8.894\n",
      "Date:                Wed, 29 Nov 2017   Prob (F-statistic):           2.63e-39\n",
      "Time:                        20:53:50   Log-Likelihood:                -2720.7\n",
      "No. Observations:                1072   AIC:                             5513.\n",
      "Df Residuals:                    1036   BIC:                             5693.\n",
      "Df Model:                          35                                         \n",
      "Covariance Type:            nonrobust                                         \n",
      "====================================================================================================\n",
      "                                       coef    std err          t      P>|t|      [95.0% Conf. Int.]\n",
      "----------------------------------------------------------------------------------------------------\n",
      "Intercept                           10.4183      1.427      7.303      0.000         7.619    13.218\n",
      "C(race)[T.1]                        -2.0266      0.436     -4.649      0.000        -2.882    -1.171\n",
      "C(race)[T.2]                        -1.6412      0.518     -3.170      0.002        -2.657    -0.625\n",
      "C(center_project_name)[T.1]          0.5405      0.301      1.795      0.073        -0.050     1.131\n",
      "C(center_project_name)[T.2]         -0.5368      0.307     -1.746      0.081        -1.140     0.067\n",
      "C(center_project_name)[T.3]          0.4413      0.310      1.424      0.155        -0.167     1.049\n",
      "C(center_project_name)[T.4]          0.1403      0.399      0.351      0.726        -0.644     0.924\n",
      "C(center_project_name)[T.5]         -1.1467      0.392     -2.924      0.004        -1.916    -0.377\n",
      "C(bowel_movement_frequency)[T.1]    -0.8268      0.366     -2.256      0.024        -1.546    -0.108\n",
      "C(bowel_movement_frequency)[T.2]    -1.6294      0.386     -4.221      0.000        -2.387    -0.872\n",
      "C(bowel_movement_frequency)[T.3]    -2.0034      0.490     -4.087      0.000        -2.965    -1.041\n",
      "C(bowel_movement_frequency)[T.4]    -2.9722      0.704     -4.224      0.000        -4.353    -1.592\n",
      "C(types_of_plants)[T.1]              0.4400      0.443      0.994      0.321        -0.429     1.309\n",
      "C(types_of_plants)[T.2]              0.9216      0.435      2.118      0.034         0.068     1.776\n",
      "C(types_of_plants)[T.3]              1.3611      0.464      2.933      0.003         0.450     2.272\n",
      "C(types_of_plants)[T.4]              0.7602      0.524      1.450      0.147        -0.268     1.789\n",
      "C(level_of_education)[T.1]           0.1912      0.560      0.342      0.733        -0.907     1.289\n",
      "C(level_of_education)[T.2]           0.2908      0.509      0.571      0.568        -0.708     1.290\n",
      "C(level_of_education)[T.3]           0.4386      0.511      0.859      0.391        -0.563     1.441\n",
      "C(country)[T.1]                      1.6622      0.229      7.248      0.000         1.212     2.112\n",
      "C(country)[T.2]                      0.3629      0.855      0.425      0.671        -1.315     2.040\n",
      "C(country)[T.3]                      1.7517      0.646      2.713      0.007         0.485     3.019\n",
      "C(vegetable_frequency)[T.1]          0.0242      0.644      0.038      0.970        -1.238     1.287\n",
      "C(vegetable_frequency)[T.2]         -0.1181      0.590     -0.200      0.842        -1.276     1.040\n",
      "C(vegetable_frequency)[T.3]          0.2513      0.595      0.423      0.673        -0.916     1.418\n",
      "C(antibiotic_history)[T.1]          -0.5711      0.268     -2.132      0.033        -1.097    -0.045\n",
      "C(antibiotic_history)[T.2]          -0.9531      0.311     -3.064      0.002        -1.563    -0.343\n",
      "C(antibiotic_history)[T.3]          -1.9327      0.449     -4.304      0.000        -2.814    -1.052\n",
      "C(drinks_per_session)[T.1]           0.5710      0.347      1.645      0.100        -0.110     1.252\n",
      "C(drinks_per_session)[T.2]           0.2692      0.331      0.813      0.416        -0.381     0.919\n",
      "C(drinks_per_session)[T.3]          -0.0044      0.371     -0.012      0.991        -0.733     0.724\n",
      "C(drinks_per_session)[T.4]          -0.0726      0.414     -0.175      0.861        -0.886     0.741\n",
      "bloom_fraction                      -1.3211      0.348     -3.795      0.000        -2.004    -0.638\n",
      "ln_age                               0.6828      0.350      1.949      0.052        -0.005     1.370\n",
      "sex                                 -2.5468      1.703     -1.495      0.135        -5.889     0.796\n",
      "ln_age:sex                           0.6704      0.448      1.497      0.135        -0.209     1.549\n",
      "==============================================================================\n",
      "Omnibus:                       26.832   Durbin-Watson:                   2.074\n",
      "Prob(Omnibus):                  0.000   Jarque-Bera (JB):               28.304\n",
      "Skew:                           0.377   Prob(JB):                     7.14e-07\n",
      "Kurtosis:                       3.256   Cond. No.                         102.\n",
      "==============================================================================\n",
      "\n",
      "Warnings:\n",
      "[1] Standard Errors assume that the covariance matrix of the errors is correctly specified.\n"
     ]
    }
   ],
   "source": [
    "fit13 = smf.ols('faiths_pd_1250 ~ bloom_fraction + C(race) + C(center_project_name)'\n",
    "               ' + C(bowel_movement_frequency) + C(types_of_plants)'\n",
    "               ' + C(level_of_education) + C(country) + C(vegetable_frequency)'\n",
    "               ' + C(antibiotic_history) + C(drinks_per_session)'\n",
    "               ' + ln_age * sex', \n",
    "               data=smap_numeric).fit()\n",
    "print(fit13.summary())"
   ]
  },
  {
   "cell_type": "markdown",
   "metadata": {},
   "source": [
    "We can check the fits by looking at the regression coeffecient, decrease in the AIC, and increase in the condition number."
   ]
  },
  {
   "cell_type": "code",
   "execution_count": 30,
   "metadata": {
    "collapsed": false
   },
   "outputs": [],
   "source": [
    "fits = {0: ('bloom_fraction', fit0),\n",
    "        1: ('race', fit1),\n",
    "        2: ('center_project_name', fit2),\n",
    "        3: ('bowel_movement_frequency', fit3),\n",
    "        4: ('types_of_plants', fit4),\n",
    "        5: ('level_of_education', fit5),\n",
    "        6: ('country', fit6),\n",
    "        7: ('vegetable_frequency', fit7),\n",
    "        8: ('antibiotic_history', fit8),\n",
    "        9: ('drinks_per_session', fit9),\n",
    "        10: ('age_corrected', fit10),\n",
    "        11: ('ln_age', fit11),\n",
    "        12: ('+ sex', fit12),\n",
    "        14: ('ln_age * sex', fit13),\n",
    "        }"
   ]
  },
  {
   "cell_type": "code",
   "execution_count": 31,
   "metadata": {
    "collapsed": false
   },
   "outputs": [],
   "source": [
    "fit_summary = pd.DataFrame.from_dict(\n",
    "    {num: {'name': name,\n",
    "           'correlation': fit.rsquared,\n",
    "           'adj_correlation': fit.rsquared_adj,\n",
    "           'cond_no': fit.condition_number,\n",
    "           'aic': fit.aic,\n",
    "           'p-values': fit.f_pvalue,\n",
    "           }\n",
    "     for num, (name, fit) in fits.items()},\n",
    "    orient='index')"
   ]
  },
  {
   "cell_type": "code",
   "execution_count": 32,
   "metadata": {
    "collapsed": false
   },
   "outputs": [
    {
     "data": {
      "text/html": [
       "<div>\n",
       "<table border=\"1\" class=\"dataframe\">\n",
       "  <thead>\n",
       "    <tr style=\"text-align: right;\">\n",
       "      <th></th>\n",
       "      <th>name</th>\n",
       "      <th>correlation</th>\n",
       "      <th>adj_correlation</th>\n",
       "      <th>cond_no</th>\n",
       "      <th>aic</th>\n",
       "      <th>p-values</th>\n",
       "    </tr>\n",
       "  </thead>\n",
       "  <tbody>\n",
       "    <tr>\n",
       "      <th>0</th>\n",
       "      <td>bloom_fraction</td>\n",
       "      <td>0.009414</td>\n",
       "      <td>0.008488</td>\n",
       "      <td>3.661604</td>\n",
       "      <td>5716.909141</td>\n",
       "      <td>1.470072e-03</td>\n",
       "    </tr>\n",
       "    <tr>\n",
       "      <th>1</th>\n",
       "      <td>race</td>\n",
       "      <td>0.057341</td>\n",
       "      <td>0.054693</td>\n",
       "      <td>5.543837</td>\n",
       "      <td>5667.746544</td>\n",
       "      <td>1.281518e-13</td>\n",
       "    </tr>\n",
       "    <tr>\n",
       "      <th>2</th>\n",
       "      <td>center_project_name</td>\n",
       "      <td>0.072981</td>\n",
       "      <td>0.066005</td>\n",
       "      <td>6.604768</td>\n",
       "      <td>5659.810689</td>\n",
       "      <td>3.402842e-14</td>\n",
       "    </tr>\n",
       "    <tr>\n",
       "      <th>3</th>\n",
       "      <td>bowel_movement_frequency</td>\n",
       "      <td>0.105051</td>\n",
       "      <td>0.094910</td>\n",
       "      <td>11.168799</td>\n",
       "      <td>5630.069045</td>\n",
       "      <td>1.487158e-19</td>\n",
       "    </tr>\n",
       "    <tr>\n",
       "      <th>4</th>\n",
       "      <td>types_of_plants</td>\n",
       "      <td>0.133321</td>\n",
       "      <td>0.120178</td>\n",
       "      <td>12.783683</td>\n",
       "      <td>5603.659118</td>\n",
       "      <td>3.228868e-24</td>\n",
       "    </tr>\n",
       "    <tr>\n",
       "      <th>5</th>\n",
       "      <td>level_of_education</td>\n",
       "      <td>0.141478</td>\n",
       "      <td>0.125972</td>\n",
       "      <td>15.285403</td>\n",
       "      <td>5599.522653</td>\n",
       "      <td>1.156634e-24</td>\n",
       "    </tr>\n",
       "    <tr>\n",
       "      <th>6</th>\n",
       "      <td>country</td>\n",
       "      <td>0.188817</td>\n",
       "      <td>0.171804</td>\n",
       "      <td>15.971317</td>\n",
       "      <td>5544.720647</td>\n",
       "      <td>6.500985e-35</td>\n",
       "    </tr>\n",
       "    <tr>\n",
       "      <th>7</th>\n",
       "      <td>vegetable_frequency</td>\n",
       "      <td>0.191767</td>\n",
       "      <td>0.172450</td>\n",
       "      <td>20.376670</td>\n",
       "      <td>5546.813879</td>\n",
       "      <td>4.177836e-34</td>\n",
       "    </tr>\n",
       "    <tr>\n",
       "      <th>8</th>\n",
       "      <td>antibiotic_history</td>\n",
       "      <td>0.210631</td>\n",
       "      <td>0.189440</td>\n",
       "      <td>20.716366</td>\n",
       "      <td>5527.497869</td>\n",
       "      <td>1.926245e-37</td>\n",
       "    </tr>\n",
       "    <tr>\n",
       "      <th>9</th>\n",
       "      <td>drinks_per_session</td>\n",
       "      <td>0.217334</td>\n",
       "      <td>0.193229</td>\n",
       "      <td>21.537844</td>\n",
       "      <td>5526.355116</td>\n",
       "      <td>3.416514e-37</td>\n",
       "    </tr>\n",
       "    <tr>\n",
       "      <th>10</th>\n",
       "      <td>age_corrected</td>\n",
       "      <td>0.228711</td>\n",
       "      <td>0.204190</td>\n",
       "      <td>611.845022</td>\n",
       "      <td>5512.658685</td>\n",
       "      <td>1.138074e-39</td>\n",
       "    </tr>\n",
       "    <tr>\n",
       "      <th>11</th>\n",
       "      <td>ln_age</td>\n",
       "      <td>0.229373</td>\n",
       "      <td>0.204874</td>\n",
       "      <td>55.016252</td>\n",
       "      <td>5511.737444</td>\n",
       "      <td>7.616638e-40</td>\n",
       "    </tr>\n",
       "    <tr>\n",
       "      <th>12</th>\n",
       "      <td>+ sex</td>\n",
       "      <td>0.229378</td>\n",
       "      <td>0.204111</td>\n",
       "      <td>55.373862</td>\n",
       "      <td>5513.731480</td>\n",
       "      <td>2.351364e-39</td>\n",
       "    </tr>\n",
       "    <tr>\n",
       "      <th>14</th>\n",
       "      <td>ln_age * sex</td>\n",
       "      <td>0.231040</td>\n",
       "      <td>0.205062</td>\n",
       "      <td>101.871260</td>\n",
       "      <td>5513.416310</td>\n",
       "      <td>2.634202e-39</td>\n",
       "    </tr>\n",
       "  </tbody>\n",
       "</table>\n",
       "</div>"
      ],
      "text/plain": [
       "                        name  correlation  adj_correlation     cond_no  \\\n",
       "0             bloom_fraction     0.009414         0.008488    3.661604   \n",
       "1                       race     0.057341         0.054693    5.543837   \n",
       "2        center_project_name     0.072981         0.066005    6.604768   \n",
       "3   bowel_movement_frequency     0.105051         0.094910   11.168799   \n",
       "4            types_of_plants     0.133321         0.120178   12.783683   \n",
       "5         level_of_education     0.141478         0.125972   15.285403   \n",
       "6                    country     0.188817         0.171804   15.971317   \n",
       "7        vegetable_frequency     0.191767         0.172450   20.376670   \n",
       "8         antibiotic_history     0.210631         0.189440   20.716366   \n",
       "9         drinks_per_session     0.217334         0.193229   21.537844   \n",
       "10             age_corrected     0.228711         0.204190  611.845022   \n",
       "11                    ln_age     0.229373         0.204874   55.016252   \n",
       "12                     + sex     0.229378         0.204111   55.373862   \n",
       "14              ln_age * sex     0.231040         0.205062  101.871260   \n",
       "\n",
       "            aic      p-values  \n",
       "0   5716.909141  1.470072e-03  \n",
       "1   5667.746544  1.281518e-13  \n",
       "2   5659.810689  3.402842e-14  \n",
       "3   5630.069045  1.487158e-19  \n",
       "4   5603.659118  3.228868e-24  \n",
       "5   5599.522653  1.156634e-24  \n",
       "6   5544.720647  6.500985e-35  \n",
       "7   5546.813879  4.177836e-34  \n",
       "8   5527.497869  1.926245e-37  \n",
       "9   5526.355116  3.416514e-37  \n",
       "10  5512.658685  1.138074e-39  \n",
       "11  5511.737444  7.616638e-40  \n",
       "12  5513.731480  2.351364e-39  \n",
       "14  5513.416310  2.634202e-39  "
      ]
     },
     "execution_count": 32,
     "metadata": {},
     "output_type": "execute_result"
    }
   ],
   "source": [
    "pd.DataFrame.from_dict(fit_summary)"
   ]
  },
  {
   "cell_type": "markdown",
   "metadata": {},
   "source": [
    "Based on the aic, R<sup>2</sup>, and condition number, the best fit for this model is fit 11, with an equation of:\n",
    "\n",
    "$faiths\\_pd = bloom\\_fraction + race + center\\_project\\_name + bowel\\_movement\\_frequency + types\\_of\\_plants + \n",
    "level\\_of\\_education + country + vegetable\\_frequency + antibiotic\\_history + drinks\\_per\\_session + ln(age)$"
   ]
  },
  {
   "cell_type": "code",
   "execution_count": 33,
   "metadata": {
    "collapsed": false
   },
   "outputs": [
    {
     "name": "stdout",
     "output_type": "stream",
     "text": [
      "                            OLS Regression Results                            \n",
      "==============================================================================\n",
      "Dep. Variable:         faiths_pd_1250   R-squared:                       0.229\n",
      "Model:                            OLS   Adj. R-squared:                  0.205\n",
      "Method:                 Least Squares   F-statistic:                     9.362\n",
      "Date:                Wed, 29 Nov 2017   Prob (F-statistic):           7.62e-40\n",
      "Time:                        20:53:50   Log-Likelihood:                -2721.9\n",
      "No. Observations:                1072   AIC:                             5512.\n",
      "Df Residuals:                    1038   BIC:                             5681.\n",
      "Df Model:                          33                                         \n",
      "Covariance Type:            nonrobust                                         \n",
      "====================================================================================================\n",
      "                                       coef    std err          t      P>|t|      [95.0% Conf. Int.]\n",
      "----------------------------------------------------------------------------------------------------\n",
      "Intercept                            9.0214      1.080      8.356      0.000         6.903    11.140\n",
      "C(race)[T.1]                        -2.0295      0.436     -4.655      0.000        -2.885    -1.174\n",
      "C(race)[T.2]                        -1.6460      0.518     -3.180      0.002        -2.662    -0.630\n",
      "C(center_project_name)[T.1]          0.5458      0.301      1.813      0.070        -0.045     1.137\n",
      "C(center_project_name)[T.2]         -0.5454      0.307     -1.779      0.076        -1.147     0.056\n",
      "C(center_project_name)[T.3]          0.4347      0.309      1.405      0.160        -0.173     1.042\n",
      "C(center_project_name)[T.4]          0.1484      0.398      0.373      0.710        -0.633     0.930\n",
      "C(center_project_name)[T.5]         -1.1611      0.392     -2.962      0.003        -1.930    -0.392\n",
      "C(bowel_movement_frequency)[T.1]    -0.8297      0.364     -2.278      0.023        -1.544    -0.115\n",
      "C(bowel_movement_frequency)[T.2]    -1.6524      0.383     -4.314      0.000        -2.404    -0.901\n",
      "C(bowel_movement_frequency)[T.3]    -2.0269      0.488     -4.157      0.000        -2.984    -1.070\n",
      "C(bowel_movement_frequency)[T.4]    -3.0311      0.702     -4.319      0.000        -4.408    -1.654\n",
      "C(types_of_plants)[T.1]              0.4205      0.443      0.950      0.342        -0.448     1.289\n",
      "C(types_of_plants)[T.2]              0.9197      0.435      2.113      0.035         0.066     1.774\n",
      "C(types_of_plants)[T.3]              1.3318      0.463      2.875      0.004         0.423     2.241\n",
      "C(types_of_plants)[T.4]              0.7277      0.523      1.391      0.164        -0.299     1.754\n",
      "C(level_of_education)[T.1]           0.2521      0.557      0.453      0.651        -0.841     1.345\n",
      "C(level_of_education)[T.2]           0.3546      0.507      0.699      0.485        -0.641     1.350\n",
      "C(level_of_education)[T.3]           0.4975      0.509      0.977      0.329        -0.501     1.496\n",
      "C(country)[T.1]                      1.6659      0.229      7.280      0.000         1.217     2.115\n",
      "C(country)[T.2]                      0.3913      0.855      0.458      0.647        -1.286     2.068\n",
      "C(country)[T.3]                      1.7353      0.645      2.688      0.007         0.469     3.002\n",
      "C(vegetable_frequency)[T.1]          0.0162      0.643      0.025      0.980        -1.246     1.278\n",
      "C(vegetable_frequency)[T.2]         -0.1262      0.590     -0.214      0.831        -1.284     1.032\n",
      "C(vegetable_frequency)[T.3]          0.2434      0.595      0.409      0.682        -0.924     1.410\n",
      "C(antibiotic_history)[T.1]          -0.5589      0.268     -2.087      0.037        -1.084    -0.033\n",
      "C(antibiotic_history)[T.2]          -0.9463      0.311     -3.045      0.002        -1.556    -0.337\n",
      "C(antibiotic_history)[T.3]          -1.9387      0.448     -4.327      0.000        -2.818    -1.060\n",
      "C(drinks_per_session)[T.1]           0.5871      0.347      1.694      0.091        -0.093     1.267\n",
      "C(drinks_per_session)[T.2]           0.2935      0.331      0.888      0.375        -0.355     0.942\n",
      "C(drinks_per_session)[T.3]           0.0241      0.371      0.065      0.948        -0.703     0.751\n",
      "C(drinks_per_session)[T.4]          -0.0368      0.412     -0.089      0.929        -0.846     0.772\n",
      "bloom_fraction                      -1.3165      0.347     -3.791      0.000        -1.998    -0.635\n",
      "ln_age                               1.0376      0.258      4.027      0.000         0.532     1.543\n",
      "==============================================================================\n",
      "Omnibus:                       27.203   Durbin-Watson:                   2.075\n",
      "Prob(Omnibus):                  0.000   Jarque-Bera (JB):               28.736\n",
      "Skew:                           0.379   Prob(JB):                     5.75e-07\n",
      "Kurtosis:                       3.261   Cond. No.                         55.0\n",
      "==============================================================================\n",
      "\n",
      "Warnings:\n",
      "[1] Standard Errors assume that the covariance matrix of the errors is correctly specified.\n"
     ]
    }
   ],
   "source": [
    "print(fit11.summary())"
   ]
  },
  {
   "cell_type": "code",
   "execution_count": 34,
   "metadata": {
    "collapsed": false
   },
   "outputs": [
    {
     "name": "stderr",
     "output_type": "stream",
     "text": [
      "/Users/jwdebelius/miniconda3/envs/agp_2017/lib/python3.6/site-packages/statsmodels/nonparametric/kdetools.py:20: VisibleDeprecationWarning: using a non-integer number instead of an integer will result in an error in the future\n",
      "  y = X[:m/2+1] + np.r_[0,X[m/2+1:],0]*1j\n"
     ]
    },
    {
     "data": {
      "text/plain": [
       "<matplotlib.axes._subplots.AxesSubplot at 0x11c2f61d0>"
      ]
     },
     "execution_count": 34,
     "metadata": {},
     "output_type": "execute_result"
    },
    {
     "data": {
      "image/png": "[encoded data removed]",
      "text/plain": [
       "<matplotlib.figure.Figure at 0x11c2e7668>"
      ]
     },
     "metadata": {},
     "output_type": "display_data"
    }
   ],
   "source": [
    "sn.distplot(fit11.resid)"
   ]
  }
 ],
 "metadata": {
  "kernelspec": {
   "display_name": "Python 3",
   "language": "python",
   "name": "python3"
  },
  "language_info": {
   "codemirror_mode": {
    "name": "ipython",
    "version": 3
   },
   "file_extension": ".py",
   "mimetype": "text/x-python",
   "name": "python",
   "nbconvert_exporter": "python",
   "pygments_lexer": "ipython3",
   "version": "3.6.0"
  }
 },
 "nbformat": 4,
 "nbformat_minor": 2
}
