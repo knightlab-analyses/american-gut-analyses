{
 "cells": [
  {
   "cell_type": "markdown",
   "metadata": {},
   "source": [
    "**DATE**: 13 November 2017 <br>\n",
    "**ENVIRONMENT**: qiime2_mental_illness <br>\n",
    "**AUTHOR**: Max Abramson, Tomasz Kosciolek"
   ]
  },
  {
   "cell_type": "markdown",
   "metadata": {},
   "source": [
    "# This notebook analyses AGP participants who endorsed mental health problems, as reported in \"A living dataset\" section of the American Gut manuscript"
   ]
  },
  {
   "cell_type": "code",
   "execution_count": 1,
   "metadata": {},
   "outputs": [],
   "source": [
    "import pandas as pd"
   ]
  },
  {
   "cell_type": "code",
   "execution_count": 2,
   "metadata": {},
   "outputs": [],
   "source": [
    "# INPUTS\n",
    "root_inp = 'data/mental_illness/'\n",
    "original_table=root_inp+'mental_illness_250.biom'\n",
    "original_tree=root_inp+'ag_tree.tree'\n",
    "metadata = root_inp+'AGP_metadata_mental_illness_250.txt'\n",
    "\n",
    "# OUTPUTS\n",
    "root_out = 'data/mental_illness/out/'\n",
    "\n",
    "table_all = root_out+'feature_table_raw.qza'\n",
    "table_rarefied = root_out+'feature_table_rare1397.qza'\n",
    "tree_artifact = root_out+'rooted_tree.qza'\n",
    "\n",
    "metadata_US = root_out+'US_metadata.txt'\n",
    "metadata_UK = root_out+'UK_metadata.txt'\n",
    "metadata_women = root_out+'women_metadata.txt'\n",
    "metadata_young = root_out+'young_metadata.txt'\n",
    "\n",
    "beta_all = root_out+'weightedUniFrac_all.qza'\n",
    "\n",
    "sign_all = root_out+'all_weighted_unifrac_case_significance.qzv'\n",
    "sign_US = root_out+'US_weighted_unifrac_case_significance.qzv'\n",
    "sign_UK = root_out+'UK_weighted_unifrac_case_significance.qzv'\n",
    "sign_women = root_out+'women_weighted_unifrac_case_significance.qzv'\n",
    "sign_young = root_out+'young_weighted_unifrac_case_significance.qzv'"
   ]
  },
  {
   "cell_type": "markdown",
   "metadata": {},
   "source": [
    "## Import raw data as QIIME2 artifacts"
   ]
  },
  {
   "cell_type": "code",
   "execution_count": 3,
   "metadata": {},
   "outputs": [],
   "source": [
    "!qiime tools import \\\n",
    "  --input-path $original_table \\\n",
    "  --type FeatureTable[Frequency] \\\n",
    "  --source-format BIOMV210Format \\\n",
    "  --output-path $table_all"
   ]
  },
  {
   "cell_type": "code",
   "execution_count": 4,
   "metadata": {},
   "outputs": [],
   "source": [
    "!qiime tools import \\\n",
    "  --input-path $original_tree \\\n",
    "  --output-path $tree_artifact \\\n",
    "  --type 'Phylogeny[Rooted]'"
   ]
  },
  {
   "cell_type": "markdown",
   "metadata": {},
   "source": [
    "Read metadata into a `pd.DataFrame`"
   ]
  },
  {
   "cell_type": "code",
   "execution_count": 5,
   "metadata": {},
   "outputs": [],
   "source": [
    "mf = pd.read_csv(metadata, sep='\\t', dtype=str).set_index('sample_name')"
   ]
  },
  {
   "cell_type": "markdown",
   "metadata": {},
   "source": [
    "## Rarefy all tables"
   ]
  },
  {
   "cell_type": "code",
   "execution_count": 6,
   "metadata": {},
   "outputs": [
    {
     "name": "stdout",
     "output_type": "stream",
     "text": [
      "\u001b[32mSaved FeatureTable[Frequency] to: data/mental_illness/out/feature_table_rare1397.qza\u001b[0m\r\n"
     ]
    }
   ],
   "source": [
    "# rarefy at 1397 to retain all samples\n",
    "!qiime feature-table rarefy \\\n",
    "  --i-table $table_all \\\n",
    "  --p-sampling-depth 1397 \\\n",
    "  --o-rarefied-table $table_rarefied"
   ]
  },
  {
   "cell_type": "markdown",
   "metadata": {},
   "source": [
    "# ALL samples"
   ]
  },
  {
   "cell_type": "markdown",
   "metadata": {},
   "source": [
    "## Run weighted UniFrac calculation\n"
   ]
  },
  {
   "cell_type": "code",
   "execution_count": 7,
   "metadata": {},
   "outputs": [
    {
     "name": "stdout",
     "output_type": "stream",
     "text": [
      "\u001b[32mSaved DistanceMatrix % Properties(['phylogenetic']) to: data/mental_illness/out/weightedUniFrac_all.qza\u001b[0m\r\n"
     ]
    }
   ],
   "source": [
    "!qiime diversity beta-phylogenetic \\\n",
    "  --i-table $table_rarefied \\\n",
    "  --i-phylogeny $tree_artifact \\\n",
    "  --p-metric weighted_unifrac \\\n",
    "  --o-distance-matrix $beta_all"
   ]
  },
  {
   "cell_type": "markdown",
   "metadata": {},
   "source": [
    "## Beta diversity analysis"
   ]
  },
  {
   "cell_type": "markdown",
   "metadata": {},
   "source": [
    "### Weighted UniFrac distance matrix specifically looking at 'case'"
   ]
  },
  {
   "cell_type": "code",
   "execution_count": 8,
   "metadata": {},
   "outputs": [
    {
     "name": "stdout",
     "output_type": "stream",
     "text": [
      "\u001b[32mSaved Visualization to: data/mental_illness/out/all_weighted_unifrac_case_significance.qzv\u001b[0m\r\n"
     ]
    }
   ],
   "source": [
    "!qiime diversity beta-group-significance \\\n",
    "  --i-distance-matrix $beta_all \\\n",
    "  --m-metadata-file $metadata \\\n",
    "  --m-metadata-category case_control \\\n",
    "  --o-visualization $sign_all \\\n",
    "  --p-pairwise"
   ]
  },
  {
   "cell_type": "markdown",
   "metadata": {},
   "source": [
    "# USA-only samples"
   ]
  },
  {
   "cell_type": "code",
   "execution_count": 9,
   "metadata": {},
   "outputs": [],
   "source": [
    "mf_usa = mf[mf['country_residence'] == 'USA']\n",
    "mf_usa.to_csv(metadata_US, sep='\\t')"
   ]
  },
  {
   "cell_type": "code",
   "execution_count": 10,
   "metadata": {},
   "outputs": [
    {
     "name": "stdout",
     "output_type": "stream",
     "text": [
      "\u001b[32mSaved Visualization to: data/mental_illness/out/US_weighted_unifrac_case_significance.qzv\u001b[0m\r\n"
     ]
    }
   ],
   "source": [
    "!qiime diversity beta-group-significance \\\n",
    "  --i-distance-matrix $beta_all \\\n",
    "  --m-metadata-file $metadata_US \\\n",
    "  --m-metadata-category case_control \\\n",
    "  --o-visualization $sign_US \\\n",
    "  --p-pairwise"
   ]
  },
  {
   "cell_type": "markdown",
   "metadata": {},
   "source": [
    "# UK-only samples"
   ]
  },
  {
   "cell_type": "code",
   "execution_count": 11,
   "metadata": {},
   "outputs": [],
   "source": [
    "mf_uk = mf[mf['country_residence'] == 'UK']\n",
    "mf_uk.to_csv(metadata_UK, sep='\\t')"
   ]
  },
  {
   "cell_type": "code",
   "execution_count": 12,
   "metadata": {},
   "outputs": [
    {
     "name": "stdout",
     "output_type": "stream",
     "text": [
      "\u001b[32mSaved Visualization to: data/mental_illness/out/UK_weighted_unifrac_case_significance.qzv\u001b[0m\r\n"
     ]
    }
   ],
   "source": [
    "!qiime diversity beta-group-significance \\\n",
    "  --i-distance-matrix $beta_all \\\n",
    "  --m-metadata-file $metadata_UK \\\n",
    "  --m-metadata-category case_control \\\n",
    "  --o-visualization $sign_UK \\\n",
    "  --p-pairwise"
   ]
  },
  {
   "cell_type": "markdown",
   "metadata": {},
   "source": [
    "# Women-only samples"
   ]
  },
  {
   "cell_type": "code",
   "execution_count": 13,
   "metadata": {},
   "outputs": [],
   "source": [
    "mf_women = mf[mf['sex'] == 'female']\n",
    "mf_women.to_csv(metadata_women, sep='\\t')"
   ]
  },
  {
   "cell_type": "code",
   "execution_count": 14,
   "metadata": {},
   "outputs": [
    {
     "name": "stdout",
     "output_type": "stream",
     "text": [
      "\u001b[32mSaved Visualization to: data/mental_illness/out/women_weighted_unifrac_case_significance.qzv\u001b[0m\r\n"
     ]
    }
   ],
   "source": [
    "!qiime diversity beta-group-significance \\\n",
    "  --i-distance-matrix $beta_all \\\n",
    "  --m-metadata-file $metadata_women \\\n",
    "  --m-metadata-category case_control \\\n",
    "  --o-visualization $sign_women \\\n",
    "  --p-pairwise"
   ]
  },
  {
   "cell_type": "markdown",
   "metadata": {},
   "source": [
    "# Age <= 45 samples"
   ]
  },
  {
   "cell_type": "code",
   "execution_count": 15,
   "metadata": {},
   "outputs": [],
   "source": [
    "mf_young = mf[mf['age_years'].astype(int) <= 45]\n",
    "mf_young.to_csv(metadata_young, sep='\\t')"
   ]
  },
  {
   "cell_type": "code",
   "execution_count": 16,
   "metadata": {},
   "outputs": [
    {
     "name": "stdout",
     "output_type": "stream",
     "text": [
      "\u001b[32mSaved Visualization to: data/mental_illness/out/young_weighted_unifrac_case_significance.qzv\u001b[0m\r\n"
     ]
    }
   ],
   "source": [
    "!qiime diversity beta-group-significance \\\n",
    "  --i-distance-matrix $beta_all \\\n",
    "  --m-metadata-file $metadata_young \\\n",
    "  --m-metadata-category case_control \\\n",
    "  --o-visualization $sign_young \\\n",
    "  --p-pairwise"
   ]
  },
  {
   "cell_type": "markdown",
   "metadata": {},
   "source": [
    "# Visualize"
   ]
  },
  {
   "cell_type": "markdown",
   "metadata": {},
   "source": [
    "ALL"
   ]
  },
  {
   "cell_type": "code",
   "execution_count": 17,
   "metadata": {},
   "outputs": [
    {
     "name": "stdout",
     "output_type": "stream",
     "text": [
      "Press the 'q' key, Control-C, or Control-D to quit. This view may no longer be accessible or work correctly after quitting.\n",
      "Press the 'q' key, Control-C, or Control-D to quit. This view may no longer be accessible or work correctly after quitting."
     ]
    }
   ],
   "source": [
    "!qiime tools view $sign_all"
   ]
  },
  {
   "cell_type": "markdown",
   "metadata": {},
   "source": [
    "USA-only"
   ]
  },
  {
   "cell_type": "code",
   "execution_count": 18,
   "metadata": {},
   "outputs": [
    {
     "name": "stdout",
     "output_type": "stream",
     "text": [
      "Press the 'q' key, Control-C, or Control-D to quit. This view may no longer be accessible or work correctly after quitting.\n",
      "Press the 'q' key, Control-C, or Control-D to quit. This view may no longer be accessible or work correctly after quitting."
     ]
    }
   ],
   "source": [
    "!qiime tools view $sign_US"
   ]
  },
  {
   "cell_type": "markdown",
   "metadata": {},
   "source": [
    "UK-only"
   ]
  },
  {
   "cell_type": "code",
   "execution_count": 19,
   "metadata": {},
   "outputs": [
    {
     "name": "stdout",
     "output_type": "stream",
     "text": [
      "Press the 'q' key, Control-C, or Control-D to quit. This view may no longer be accessible or work correctly after quitting.\n",
      "Press the 'q' key, Control-C, or Control-D to quit. This view may no longer be accessible or work correctly after quitting."
     ]
    }
   ],
   "source": [
    "!qiime tools view $sign_UK"
   ]
  },
  {
   "cell_type": "markdown",
   "metadata": {},
   "source": [
    "Women"
   ]
  },
  {
   "cell_type": "code",
   "execution_count": 20,
   "metadata": {},
   "outputs": [
    {
     "name": "stdout",
     "output_type": "stream",
     "text": [
      "Press the 'q' key, Control-C, or Control-D to quit. This view may no longer be accessible or work correctly after quitting.\n",
      "Press the 'q' key, Control-C, or Control-D to quit. This view may no longer be accessible or work correctly after quitting."
     ]
    }
   ],
   "source": [
    "!qiime tools view $sign_women"
   ]
  },
  {
   "cell_type": "markdown",
   "metadata": {},
   "source": [
    "<= 45 years"
   ]
  },
  {
   "cell_type": "code",
   "execution_count": 21,
   "metadata": {},
   "outputs": [
    {
     "name": "stdout",
     "output_type": "stream",
     "text": [
      "Press the 'q' key, Control-C, or Control-D to quit. This view may no longer be accessible or work correctly after quitting.\n",
      "Press the 'q' key, Control-C, or Control-D to quit. This view may no longer be accessible or work correctly after quitting."
     ]
    }
   ],
   "source": [
    "!qiime tools view $sign_young"
   ]
  }
 ],
 "metadata": {
  "kernelspec": {
   "display_name": "Python 3",
   "language": "python",
   "name": "python3"
  },
  "language_info": {
   "codemirror_mode": {
    "name": "ipython",
    "version": 3
   },
   "file_extension": ".py",
   "mimetype": "text/x-python",
   "name": "python",
   "nbconvert_exporter": "python",
   "pygments_lexer": "ipython3",
   "version": "3.5.4"
  }
 },
 "nbformat": 4,
 "nbformat_minor": 2
}
