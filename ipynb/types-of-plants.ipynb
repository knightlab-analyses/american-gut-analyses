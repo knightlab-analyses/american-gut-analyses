{
 "cells": [
  {
   "cell_type": "code",
   "execution_count": 1,
   "metadata": {
    "collapsed": true
   },
   "outputs": [],
   "source": [
    "import pandas as pd\n",
    "from biom import load_table\n",
    "import matplotlib.pyplot as plt\n",
    "import numpy as np\n",
    "from skbio import TreeNode\n",
    "import seaborn as sns\n",
    "%matplotlib inline\n",
    "sns.set_style('ticks')"
   ]
  },
  {
   "cell_type": "code",
   "execution_count": 2,
   "metadata": {},
   "outputs": [
    {
     "name": "stderr",
     "output_type": "stream",
     "text": [
      "/Users/mortonjt/miniconda3/envs/bio/lib/python3.5/site-packages/IPython/core/interactiveshell.py:2698: DtypeWarning: Columns (0,66) have mixed types. Specify dtype option on import or set low_memory=False.\n",
      "  interactivity=interactivity, compiler=compiler, result=result)\n"
     ]
    }
   ],
   "source": [
    "metadata = pd.read_table('../data/ag_map_with_alpha.txt', index_col=0)\n",
    "table = load_table('../data/deblur_125nt_no_blooms.biom')\n",
    "ids = pd.read_table('../data/plants.ids', dtype=np.str, header=None)\n",
    "tree = TreeNode.read('../data/ag_tree.tre')"
   ]
  },
  {
   "cell_type": "code",
   "execution_count": 3,
   "metadata": {},
   "outputs": [
    {
     "ename": "FileNotFoundError",
     "evalue": "File b'../data/taxa.txt' does not exist",
     "output_type": "error",
     "traceback": [
      "\u001b[0;31m---------------------------------------------------------------------------\u001b[0m",
      "\u001b[0;31mFileNotFoundError\u001b[0m                         Traceback (most recent call last)",
      "\u001b[0;32m<ipython-input-3-70f95a7404a9>\u001b[0m in \u001b[0;36m<module>\u001b[0;34m()\u001b[0m\n\u001b[0;32m----> 1\u001b[0;31m \u001b[0mtaxa\u001b[0m \u001b[0;34m=\u001b[0m \u001b[0mpd\u001b[0m\u001b[0;34m.\u001b[0m\u001b[0mread_table\u001b[0m\u001b[0;34m(\u001b[0m\u001b[0;34m'../data/taxa.txt'\u001b[0m\u001b[0;34m,\u001b[0m \u001b[0mindex_col\u001b[0m\u001b[0;34m=\u001b[0m\u001b[0;36m0\u001b[0m\u001b[0;34m)\u001b[0m\u001b[0;34m\u001b[0m\u001b[0m\n\u001b[0m",
      "\u001b[0;32m~/miniconda3/envs/bio/lib/python3.5/site-packages/pandas/io/parsers.py\u001b[0m in \u001b[0;36mparser_f\u001b[0;34m(filepath_or_buffer, sep, delimiter, header, names, index_col, usecols, squeeze, prefix, mangle_dupe_cols, dtype, engine, converters, true_values, false_values, skipinitialspace, skiprows, nrows, na_values, keep_default_na, na_filter, verbose, skip_blank_lines, parse_dates, infer_datetime_format, keep_date_col, date_parser, dayfirst, iterator, chunksize, compression, thousands, decimal, lineterminator, quotechar, quoting, escapechar, comment, encoding, dialect, tupleize_cols, error_bad_lines, warn_bad_lines, skipfooter, skip_footer, doublequote, delim_whitespace, as_recarray, compact_ints, use_unsigned, low_memory, buffer_lines, memory_map, float_precision)\u001b[0m\n\u001b[1;32m    653\u001b[0m                     skip_blank_lines=skip_blank_lines)\n\u001b[1;32m    654\u001b[0m \u001b[0;34m\u001b[0m\u001b[0m\n\u001b[0;32m--> 655\u001b[0;31m         \u001b[0;32mreturn\u001b[0m \u001b[0m_read\u001b[0m\u001b[0;34m(\u001b[0m\u001b[0mfilepath_or_buffer\u001b[0m\u001b[0;34m,\u001b[0m \u001b[0mkwds\u001b[0m\u001b[0;34m)\u001b[0m\u001b[0;34m\u001b[0m\u001b[0m\n\u001b[0m\u001b[1;32m    656\u001b[0m \u001b[0;34m\u001b[0m\u001b[0m\n\u001b[1;32m    657\u001b[0m     \u001b[0mparser_f\u001b[0m\u001b[0;34m.\u001b[0m\u001b[0m__name__\u001b[0m \u001b[0;34m=\u001b[0m \u001b[0mname\u001b[0m\u001b[0;34m\u001b[0m\u001b[0m\n",
      "\u001b[0;32m~/miniconda3/envs/bio/lib/python3.5/site-packages/pandas/io/parsers.py\u001b[0m in \u001b[0;36m_read\u001b[0;34m(filepath_or_buffer, kwds)\u001b[0m\n\u001b[1;32m    403\u001b[0m \u001b[0;34m\u001b[0m\u001b[0m\n\u001b[1;32m    404\u001b[0m     \u001b[0;31m# Create the parser.\u001b[0m\u001b[0;34m\u001b[0m\u001b[0;34m\u001b[0m\u001b[0m\n\u001b[0;32m--> 405\u001b[0;31m     \u001b[0mparser\u001b[0m \u001b[0;34m=\u001b[0m \u001b[0mTextFileReader\u001b[0m\u001b[0;34m(\u001b[0m\u001b[0mfilepath_or_buffer\u001b[0m\u001b[0;34m,\u001b[0m \u001b[0;34m**\u001b[0m\u001b[0mkwds\u001b[0m\u001b[0;34m)\u001b[0m\u001b[0;34m\u001b[0m\u001b[0m\n\u001b[0m\u001b[1;32m    406\u001b[0m \u001b[0;34m\u001b[0m\u001b[0m\n\u001b[1;32m    407\u001b[0m     \u001b[0;32mif\u001b[0m \u001b[0mchunksize\u001b[0m \u001b[0;32mor\u001b[0m \u001b[0miterator\u001b[0m\u001b[0;34m:\u001b[0m\u001b[0;34m\u001b[0m\u001b[0m\n",
      "\u001b[0;32m~/miniconda3/envs/bio/lib/python3.5/site-packages/pandas/io/parsers.py\u001b[0m in \u001b[0;36m__init__\u001b[0;34m(self, f, engine, **kwds)\u001b[0m\n\u001b[1;32m    762\u001b[0m             \u001b[0mself\u001b[0m\u001b[0;34m.\u001b[0m\u001b[0moptions\u001b[0m\u001b[0;34m[\u001b[0m\u001b[0;34m'has_index_names'\u001b[0m\u001b[0;34m]\u001b[0m \u001b[0;34m=\u001b[0m \u001b[0mkwds\u001b[0m\u001b[0;34m[\u001b[0m\u001b[0;34m'has_index_names'\u001b[0m\u001b[0;34m]\u001b[0m\u001b[0;34m\u001b[0m\u001b[0m\n\u001b[1;32m    763\u001b[0m \u001b[0;34m\u001b[0m\u001b[0m\n\u001b[0;32m--> 764\u001b[0;31m         \u001b[0mself\u001b[0m\u001b[0;34m.\u001b[0m\u001b[0m_make_engine\u001b[0m\u001b[0;34m(\u001b[0m\u001b[0mself\u001b[0m\u001b[0;34m.\u001b[0m\u001b[0mengine\u001b[0m\u001b[0;34m)\u001b[0m\u001b[0;34m\u001b[0m\u001b[0m\n\u001b[0m\u001b[1;32m    765\u001b[0m \u001b[0;34m\u001b[0m\u001b[0m\n\u001b[1;32m    766\u001b[0m     \u001b[0;32mdef\u001b[0m \u001b[0mclose\u001b[0m\u001b[0;34m(\u001b[0m\u001b[0mself\u001b[0m\u001b[0;34m)\u001b[0m\u001b[0;34m:\u001b[0m\u001b[0;34m\u001b[0m\u001b[0m\n",
      "\u001b[0;32m~/miniconda3/envs/bio/lib/python3.5/site-packages/pandas/io/parsers.py\u001b[0m in \u001b[0;36m_make_engine\u001b[0;34m(self, engine)\u001b[0m\n\u001b[1;32m    983\u001b[0m     \u001b[0;32mdef\u001b[0m \u001b[0m_make_engine\u001b[0m\u001b[0;34m(\u001b[0m\u001b[0mself\u001b[0m\u001b[0;34m,\u001b[0m \u001b[0mengine\u001b[0m\u001b[0;34m=\u001b[0m\u001b[0;34m'c'\u001b[0m\u001b[0;34m)\u001b[0m\u001b[0;34m:\u001b[0m\u001b[0;34m\u001b[0m\u001b[0m\n\u001b[1;32m    984\u001b[0m         \u001b[0;32mif\u001b[0m \u001b[0mengine\u001b[0m \u001b[0;34m==\u001b[0m \u001b[0;34m'c'\u001b[0m\u001b[0;34m:\u001b[0m\u001b[0;34m\u001b[0m\u001b[0m\n\u001b[0;32m--> 985\u001b[0;31m             \u001b[0mself\u001b[0m\u001b[0;34m.\u001b[0m\u001b[0m_engine\u001b[0m \u001b[0;34m=\u001b[0m \u001b[0mCParserWrapper\u001b[0m\u001b[0;34m(\u001b[0m\u001b[0mself\u001b[0m\u001b[0;34m.\u001b[0m\u001b[0mf\u001b[0m\u001b[0;34m,\u001b[0m \u001b[0;34m**\u001b[0m\u001b[0mself\u001b[0m\u001b[0;34m.\u001b[0m\u001b[0moptions\u001b[0m\u001b[0;34m)\u001b[0m\u001b[0;34m\u001b[0m\u001b[0m\n\u001b[0m\u001b[1;32m    986\u001b[0m         \u001b[0;32melse\u001b[0m\u001b[0;34m:\u001b[0m\u001b[0;34m\u001b[0m\u001b[0m\n\u001b[1;32m    987\u001b[0m             \u001b[0;32mif\u001b[0m \u001b[0mengine\u001b[0m \u001b[0;34m==\u001b[0m \u001b[0;34m'python'\u001b[0m\u001b[0;34m:\u001b[0m\u001b[0;34m\u001b[0m\u001b[0m\n",
      "\u001b[0;32m~/miniconda3/envs/bio/lib/python3.5/site-packages/pandas/io/parsers.py\u001b[0m in \u001b[0;36m__init__\u001b[0;34m(self, src, **kwds)\u001b[0m\n\u001b[1;32m   1603\u001b[0m         \u001b[0mkwds\u001b[0m\u001b[0;34m[\u001b[0m\u001b[0;34m'allow_leading_cols'\u001b[0m\u001b[0;34m]\u001b[0m \u001b[0;34m=\u001b[0m \u001b[0mself\u001b[0m\u001b[0;34m.\u001b[0m\u001b[0mindex_col\u001b[0m \u001b[0;32mis\u001b[0m \u001b[0;32mnot\u001b[0m \u001b[0;32mFalse\u001b[0m\u001b[0;34m\u001b[0m\u001b[0m\n\u001b[1;32m   1604\u001b[0m \u001b[0;34m\u001b[0m\u001b[0m\n\u001b[0;32m-> 1605\u001b[0;31m         \u001b[0mself\u001b[0m\u001b[0;34m.\u001b[0m\u001b[0m_reader\u001b[0m \u001b[0;34m=\u001b[0m \u001b[0mparsers\u001b[0m\u001b[0;34m.\u001b[0m\u001b[0mTextReader\u001b[0m\u001b[0;34m(\u001b[0m\u001b[0msrc\u001b[0m\u001b[0;34m,\u001b[0m \u001b[0;34m**\u001b[0m\u001b[0mkwds\u001b[0m\u001b[0;34m)\u001b[0m\u001b[0;34m\u001b[0m\u001b[0m\n\u001b[0m\u001b[1;32m   1606\u001b[0m \u001b[0;34m\u001b[0m\u001b[0m\n\u001b[1;32m   1607\u001b[0m         \u001b[0;31m# XXX\u001b[0m\u001b[0;34m\u001b[0m\u001b[0;34m\u001b[0m\u001b[0m\n",
      "\u001b[0;32mpandas/_libs/parsers.pyx\u001b[0m in \u001b[0;36mpandas._libs.parsers.TextReader.__cinit__ (pandas/_libs/parsers.c:4209)\u001b[0;34m()\u001b[0m\n",
      "\u001b[0;32mpandas/_libs/parsers.pyx\u001b[0m in \u001b[0;36mpandas._libs.parsers.TextReader._setup_parser_source (pandas/_libs/parsers.c:8873)\u001b[0;34m()\u001b[0m\n",
      "\u001b[0;31mFileNotFoundError\u001b[0m: File b'../data/taxa.txt' does not exist"
     ]
    }
   ],
   "source": [
    "taxa = pd.read_table('../data/taxa.txt', index_col=0)"
   ]
  },
  {
   "cell_type": "markdown",
   "metadata": {},
   "source": [
    "Here we will perform some filtering based on low abundance, sparsity and variance"
   ]
  },
  {
   "cell_type": "code",
   "execution_count": null,
   "metadata": {
    "collapsed": true
   },
   "outputs": [],
   "source": [
    "otu_filter = lambda val, id_, md: val.sum() > 10\n",
    "var_filter = lambda val, id_, md: np.var(val) > 10\n",
    "sparse_filter = lambda val, id_, md: (val>0).sum() > 10\n",
    "id_filter = lambda val, id_, md: id_ in ids[0].values\n",
    "table = table.filter(id_filter, axis='sample')\n",
    "table = table.filter(otu_filter, axis='observation')\n",
    "#table = table.filter(var_filter, axis='observation')\n",
    "table = table.filter(sparse_filter, axis='observation')\n",
    "\n",
    "table = pd.DataFrame(np.array(table.matrix_data.todense()).T, \n",
    "                     index=table.ids(axis='sample'),\n",
    "                     columns=table.ids(axis='observation'))"
   ]
  },
  {
   "cell_type": "markdown",
   "metadata": {},
   "source": [
    "Now we will clean the labels, merge together the categories \"Less than 5\" and \"6 to 10\" together. We'll only compare those categories to \"More than 30\", so we'll drop the other categories."
   ]
  },
  {
   "cell_type": "code",
   "execution_count": null,
   "metadata": {
    "collapsed": true
   },
   "outputs": [],
   "source": [
    "from gneiss.util import match\n",
    "def preprocess_plants(x):\n",
    "    if x in 'Less than 5' or x in '6 to 10':\n",
    "        return 'Less than 10'\n",
    "    elif x in 'More than 30':\n",
    "        return 'More than 30'\n",
    "    else:\n",
    "        return np.nan\n",
    "metadata['cleaned_plants'] = metadata.types_of_plants.apply(preprocess_plants)\n",
    "metadata = metadata.dropna(subset=['cleaned_plants'])\n",
    "table, metadata = match(table, metadata)"
   ]
  },
  {
   "cell_type": "code",
   "execution_count": null,
   "metadata": {},
   "outputs": [],
   "source": [
    "metadata.cleaned_plants.value_counts()"
   ]
  },
  {
   "cell_type": "code",
   "execution_count": null,
   "metadata": {},
   "outputs": [],
   "source": [
    "from sklearn.exceptions import ConvergenceWarning\n",
    "from skbio.stats.composition import closure\n",
    "from sklearn.linear_model import (LogisticRegressionCV,\n",
    "                                  RandomizedLogisticRegression)\n",
    "from sklearn.ensemble import ExtraTreesClassifier\n",
    "from sklearn import preprocessing\n",
    "from skbio.stats.composition import clr, centralize, multiplicative_replacement\n",
    "from numpy.random import RandomState\n",
    "\n",
    "le = preprocessing.LabelEncoder()\n",
    "le.fit(metadata.cleaned_plants)\n",
    "y = le.transform(metadata.cleaned_plants)\n",
    "clf = ExtraTreesClassifier(100, random_state=0)\n",
    "clf.fit(table.values, y)"
   ]
  },
  {
   "cell_type": "code",
   "execution_count": null,
   "metadata": {
    "collapsed": true
   },
   "outputs": [],
   "source": [
    "scores = pd.Series(clf.feature_importances_, index=table.columns)"
   ]
  },
  {
   "cell_type": "code",
   "execution_count": null,
   "metadata": {
    "collapsed": true
   },
   "outputs": [],
   "source": []
  },
  {
   "cell_type": "markdown",
   "metadata": {},
   "source": [
    "clf = RandomizedLogisticRegression(random_state=1234, n_resampling=2000).fit(closure(table.values), y)"
   ]
  },
  {
   "cell_type": "markdown",
   "metadata": {},
   "source": [
    "clf.scores_"
   ]
  },
  {
   "cell_type": "code",
   "execution_count": null,
   "metadata": {
    "collapsed": true
   },
   "outputs": [],
   "source": [
    "table = table.loc[:, clf.feature_importances_>0.004]"
   ]
  },
  {
   "cell_type": "code",
   "execution_count": null,
   "metadata": {
    "collapsed": true
   },
   "outputs": [],
   "source": [
    "tree = tree.shear(table.columns)"
   ]
  },
  {
   "cell_type": "code",
   "execution_count": null,
   "metadata": {
    "collapsed": true
   },
   "outputs": [],
   "source": [
    "from gneiss.util import rename_internal_nodes\n",
    "tree = rename_internal_nodes(tree)"
   ]
  },
  {
   "cell_type": "code",
   "execution_count": null,
   "metadata": {
    "collapsed": true
   },
   "outputs": [],
   "source": [
    "from gneiss.composition import ilr_transform\n",
    "from skbio.stats.composition import clr, centralize, multiplicative_replacement\n",
    "from gneiss.cluster import correlation_clustering\n",
    "ctable = pd.DataFrame(multiplicative_replacement(table),\n",
    "                      index=table.index, columns=table.columns)\n",
    "#tree = correlation_clustering(ctable)\n",
    "balances = ilr_transform(ctable, tree)"
   ]
  },
  {
   "cell_type": "code",
   "execution_count": null,
   "metadata": {
    "collapsed": true
   },
   "outputs": [],
   "source": [
    "from gneiss.regression import ols\n",
    "res = ols(\"C(country)+C(types_of_plants)\", balances, metadata)\n",
    "res.fit() "
   ]
  },
  {
   "cell_type": "code",
   "execution_count": null,
   "metadata": {},
   "outputs": [],
   "source": [
    "res.pvalues.loc['C(types_of_plants)[T.More than 30]'].sort_values()"
   ]
  },
  {
   "cell_type": "code",
   "execution_count": null,
   "metadata": {
    "collapsed": true
   },
   "outputs": [],
   "source": [
    "y = res.pvalues.apply(np.argmin, axis=1)['C(types_of_plants)[T.More than 30]']"
   ]
  },
  {
   "cell_type": "code",
   "execution_count": null,
   "metadata": {},
   "outputs": [],
   "source": [
    "import seaborn as sns\n",
    "data = pd.merge(balances, metadata, left_index=True, right_index=True)\n",
    "fig = plt.figure()\n",
    "sns.boxplot(y=y, x='cleaned_plants', data=data, order=['Less than 10', 'More than 30'])\n",
    "plt.xlabel('Types of Plants')\n",
    "fig.savefig('plants.pdf')"
   ]
  },
  {
   "cell_type": "code",
   "execution_count": null,
   "metadata": {
    "collapsed": true
   },
   "outputs": [],
   "source": [
    "def fastaize(x, title=\"\"):\n",
    "    k = [\">%s%d\\n%s\" % (title, i, s) for i, s in enumerate(x)]\n",
    "    return '\\n'.join(k)"
   ]
  },
  {
   "cell_type": "code",
   "execution_count": null,
   "metadata": {
    "collapsed": true,
    "scrolled": true
   },
   "outputs": [],
   "source": [
    "from gneiss.util import NUMERATOR, DENOMINATOR\n",
    "num = list(tree.find(y).children[NUMERATOR].subset())\n",
    "#print(fastaize(num, title='numerator'))"
   ]
  },
  {
   "cell_type": "code",
   "execution_count": null,
   "metadata": {},
   "outputs": [],
   "source": [
    "taxa.loc[tree.find(y).children[NUMERATOR].subset()]"
   ]
  },
  {
   "cell_type": "code",
   "execution_count": null,
   "metadata": {},
   "outputs": [],
   "source": [
    "denom = list(tree.find(y).children[DENOMINATOR].subset())\n",
    "print(fastaize(denom, title='denominator'))"
   ]
  },
  {
   "cell_type": "code",
   "execution_count": null,
   "metadata": {},
   "outputs": [],
   "source": [
    "def f(x):\n",
    "    tabs = ['k__', 'p__', 'c__', 'o__', 'f__', 'g__', 's__']\n",
    "    x_ = x\n",
    "    for i in range(1, len(x)):\n",
    "        if x[i] in tabs:\n",
    "            x_[i] = x[i-1]\n",
    "    return x_\n",
    "taxa = taxa.loc[num+denom]\n",
    "taxa.apply(f, axis=1)"
   ]
  },
  {
   "cell_type": "code",
   "execution_count": null,
   "metadata": {
    "scrolled": true
   },
   "outputs": [],
   "source": [
    "data"
   ]
  },
  {
   "cell_type": "code",
   "execution_count": null,
   "metadata": {},
   "outputs": [],
   "source": [
    "taxa.loc[num, '6'].values"
   ]
  },
  {
   "cell_type": "code",
   "execution_count": null,
   "metadata": {},
   "outputs": [],
   "source": [
    "import seaborn as sns\n",
    "sns.set_style('ticks')\n",
    "from matplotlib.gridspec import GridSpec\n",
    "gs = GridSpec(100, 100)\n",
    "plt.figure(figsize=(7, 7))\n",
    "ax1 = plt.subplot(gs[:30, :])\n",
    "ax2 = plt.subplot(gs[30:, :], sharex=ax1)\n",
    "\n",
    "sns.set_style('ticks')\n",
    "sns.set(font_scale=1.2)  # crazy big\n",
    "\n",
    "ctable = pd.DataFrame(closure(table), index=table.index, columns=table.columns)\n",
    "cmetadata = metadata.copy()\n",
    "cmetadata['Types of Plants'] = metadata[['cleaned_plants']]\n",
    "data_num = pd.merge(ctable[num], cmetadata[['Types of Plants']], left_index=True, right_index=True)\n",
    "data_denom = pd.merge(ctable[denom], cmetadata[['Types of Plants']], left_index=True, right_index=True)\n",
    "#data = pd.concat((data_num, data_denom.iloc[:, :-2]), axis=1)\n",
    "\n",
    "data_num = pd.melt(data_num, id_vars=['Types of Plants'], value_vars=num, \n",
    "                   value_name='proportion', var_name='Numerator sequences')\n",
    "data_denom = pd.melt(data_denom, id_vars=['Types of Plants'], value_vars=denom, \n",
    "                     value_name='proportion', var_name='Denominator sequences')\n",
    "\n",
    "#data['location'] = data.sequence.apply(lambda x: 'numerator' if x in num else 'denominator')\n",
    "data_num = data_num.dropna(subset=['proportion'])\n",
    "\n",
    "data_denom = data_denom.dropna(subset=['proportion'])\n",
    "\n",
    "g = sns.barplot(x='proportion', hue='Types of Plants', \n",
    "                y='Numerator sequences', \n",
    "                data=data_num,\n",
    "                #palette={'More than 30': 'green', 'Less than 10': '#F7CE2B'},\n",
    "                #order=['Less than 10', 'More than 30'],\n",
    "                ax=ax1\n",
    ")\n",
    "_ = g.set(yticklabels=taxa.loc[num, '6'].values)\n",
    "_ = g.set(xlabel=\"\")\n",
    "\n",
    "g = sns.barplot(x='proportion', hue='Types of Plants', \n",
    "                y='Denominator sequences', \n",
    "                data=data_denom,\n",
    "                #palette={'More than 30': 'green', 'Less than 10': '#F7CE2B'},\n",
    "                #order=['Less than 10', 'More than 30'],\n",
    "                ax=ax2\n",
    ")\n",
    "_ = g.set(yticklabels=taxa.loc[denom, '6'].values, )\n",
    "plt.tight_layout()\n",
    "ax2.legend_.remove()\n",
    "# ax2.set_xticklabels('')\n",
    "sns.despine()\n",
    "plt.savefig('Types_of_Plants_barplot.pdf')"
   ]
  },
  {
   "cell_type": "code",
   "execution_count": null,
   "metadata": {
    "collapsed": true
   },
   "outputs": [],
   "source": [
    "import seaborn as sns\n",
    "from matplotlib.gridspec import GridSpec\n",
    "\n",
    "#sns.set_style('ticks')\n",
    "sns.set(font_scale=1.1)  # crazy big\n",
    "\n",
    "ctable = pd.DataFrame(closure(table), index=table.index, columns=table.columns)\n",
    "cmetadata = metadata.copy()\n",
    "cmetadata['Types of Plants'] = metadata[['cleaned_plants']]\n",
    "data_num = pd.merge(ctable[num], cmetadata[['Types of Plants']], left_index=True, right_index=True)\n",
    "data_denom = pd.merge(ctable[denom], cmetadata[['Types of Plants']], left_index=True, right_index=True)\n",
    "data = pd.concat((data_num, data_denom.iloc[:, :-2]), axis=1)\n",
    "data = pd.melt(data, id_vars=['Types of Plants'], value_vars=num+denom, \n",
    "               value_name='proportion', var_name='sequence')"
   ]
  },
  {
   "cell_type": "code",
   "execution_count": null,
   "metadata": {
    "scrolled": false
   },
   "outputs": [],
   "source": [
    "import matplotlib as mpl\n",
    "mpl.rcParams['pdf.fonttype'] = 42\n",
    "\n",
    "sns.set_style('ticks')\n",
    "#data['location'] = data.sequence.apply(lambda x: 'numerator' if x in num else 'denominator')\n",
    "data = data.dropna(subset=['proportion'])\n",
    "data['log_proportion'] = np.log(data['proportion']+1e-5)\n",
    "\n",
    "num_idx = np.argsort(list(map(lambda x: x[3:].lower(), taxa.loc[num, '6'].values)))\n",
    "num_taxa = taxa.loc[[num[i] for i in num_idx], '6']\n",
    "\n",
    "denom_idx = np.argsort(list(map(lambda x: x[3:].lower(), taxa.loc[denom, '6'].values)))\n",
    "denom_taxa = taxa.loc[[denom[i] for i in denom_idx], '6']\n",
    "\n",
    "g = sns.factorplot(x='proportion',  \n",
    "                   y='sequence', \n",
    "                   col='Types of Plants',\n",
    "                   data=data,\n",
    "                   kind='bar',\n",
    "                   size=5,\n",
    "                   aspect=1.5,\n",
    "                   color='b',\n",
    "                   col_order=['Less than 10', 'More than 30'],\n",
    "                   order=list(num_taxa.index)+list(denom_taxa.index),\n",
    "                   #hue='Types of Plants',\n",
    "                   sharex=False\n",
    ")\n",
    "_ = g.set(yticklabels=taxa.loc[list(num_taxa.index)+list(denom_taxa.index), '6'].values)\n",
    "[[ax1, ax2]] = g.axes\n",
    "max_xlim = max(ax1.get_xlim()[1], ax2.get_xlim()[1])\n",
    "min_xlim = max(ax1.get_xlim()[0], ax2.get_xlim()[0])\n",
    "xlim = ([min_xlim, max_xlim])\n",
    "ax1.set_xlim(max_xlim, min_xlim)\n",
    "ax2.set_xlim(min_xlim, max_xlim)\n",
    "#_ = g.set(xlabel=\"\")\n",
    "ax1.set_position([0.2, 0.125, 0.3, 0.75])\n",
    "ax2.set_position([0.5, 0.125, 0.3, 0.75])\n",
    "\n",
    "# plt.tight_layout()\n",
    "plt.savefig('Types_of_Plants_cool.pdf')"
   ]
  }
 ],
 "metadata": {
  "kernelspec": {
   "display_name": "Python 3",
   "language": "python",
   "name": "python3"
  },
  "language_info": {
   "codemirror_mode": {
    "name": "ipython",
    "version": 3
   },
   "file_extension": ".py",
   "mimetype": "text/x-python",
   "name": "python",
   "nbconvert_exporter": "python",
   "pygments_lexer": "ipython3",
   "version": "3.5.3"
  }
 },
 "nbformat": 4,
 "nbformat_minor": 2
}
