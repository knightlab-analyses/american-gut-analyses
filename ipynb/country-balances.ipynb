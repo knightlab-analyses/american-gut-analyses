{
 "cells": [
  {
   "cell_type": "code",
   "execution_count": 7,
   "metadata": {
    "collapsed": true
   },
   "outputs": [],
   "source": [
    "import pandas as pd\n",
    "import numpy as np\n",
    "import matplotlib.pyplot as plt\n",
    "import seaborn as sns\n",
    "import qiime2\n",
    "from skbio import TreeNode\n",
    "from biom import load_table\n",
    "%matplotlib inline"
   ]
  },
  {
   "cell_type": "code",
   "execution_count": 8,
   "metadata": {},
   "outputs": [
    {
     "name": "stderr",
     "output_type": "stream",
     "text": [
      "/Users/mortonjt/miniconda3/envs/gneiss_env/lib/python3.5/site-packages/IPython/core/interactiveshell.py:2698: DtypeWarning: Columns (0,66) have mixed types. Specify dtype option on import or set low_memory=False.\n",
      "  interactivity=interactivity, compiler=compiler, result=result)\n"
     ]
    }
   ],
   "source": [
    "#mapping = pd.read_table('../results/coded_regression_map_5k.txt', index_col=0)\n",
    "mapping = pd.read_table('../data/ag_map_with_alpha.txt', index_col=0)\n",
    "table = load_table('../data/deblur_125nt_no_blooms.biom')\n",
    "balances = -1* pd.read_csv('../results/trimmed_balances.csv', index_col=0)\n",
    "taxa = pd.read_table('../results/taxa.txt', index_col=0)\n",
    "#pvalues = pd.read_csv('../results/pvalues.csv', index_col=0)\n",
    "tree = qiime2.Artifact.load('../results/deblur_125nt_no_blooms_rare.biom.tree.nwk.qza').view(TreeNode)"
   ]
  },
  {
   "cell_type": "code",
   "execution_count": 9,
   "metadata": {},
   "outputs": [
    {
     "data": {
      "text/plain": [
       "7723 x 7676 <class 'biom.table.Table'> with 1523256 nonzero entries (2% dense)"
      ]
     },
     "execution_count": 9,
     "metadata": {},
     "output_type": "execute_result"
    }
   ],
   "source": [
    "#otu_filter = lambda val, id_, md: val.sum() > 10\n",
    "#sparse_filter = lambda val, id_, md: (val>0).sum() > 10\n",
    "#sample_filter = lambda val, id_, md: val.sum() > 5000\n",
    "\n",
    "table.filter(otu_filter, axis='observation')\n",
    "table.filter(sparse_filter, axis='observation')\n",
    "table.filter(sample_filter, axis='sample')"
   ]
  },
  {
   "cell_type": "code",
   "execution_count": 10,
   "metadata": {
    "collapsed": true
   },
   "outputs": [],
   "source": [
    "table = pd.DataFrame(np.array(table.matrix_data.todense()).T, \n",
    "                     index=table.ids(axis='sample'),\n",
    "                     columns=table.ids(axis='observation'))"
   ]
  },
  {
   "cell_type": "code",
   "execution_count": 11,
   "metadata": {
    "collapsed": true
   },
   "outputs": [],
   "source": [
    "taxa = pd.DataFrame(list(taxa.apply(lambda x: x['taxonomy'].split(';'), axis=1)), \n",
    "                    columns=['kingdom', 'phylum', 'class', 'order', 'family', 'genus', 'species'],\n",
    "                    index=taxa.index)"
   ]
  },
  {
   "cell_type": "code",
   "execution_count": 12,
   "metadata": {
    "collapsed": true
   },
   "outputs": [],
   "source": [
    "from gneiss.util import match_tips\n",
    "table, tree = match_tips(table, tree)"
   ]
  },
  {
   "cell_type": "code",
   "execution_count": 16,
   "metadata": {},
   "outputs": [
    {
     "data": {
      "text/plain": [
       "<TreeNode, name: y4, internal node count: 6351, tips count: 6353>"
      ]
     },
     "execution_count": 16,
     "metadata": {},
     "output_type": "execute_result"
    }
   ],
   "source": [
    "tree.find('y2').children[NUMERATOR]"
   ]
  },
  {
   "cell_type": "code",
   "execution_count": 17,
   "metadata": {
    "collapsed": true
   },
   "outputs": [],
   "source": [
    "from gneiss.util import NUMERATOR, DENOMINATOR\n",
    "\n",
    "balance_summary = pd.concat((taxa.loc[tree.find('y2').children[NUMERATOR].subset()],\n",
    "                             taxa.loc[tree.find('y2').children[DENOMINATOR].subset()]))\n",
    "def position(x):\n",
    "    if (x in tree.find('y2').children[NUMERATOR].subset()):\n",
    "        return 'denominator'\n",
    "    else:\n",
    "        return 'numerator'\n",
    "\n",
    "balance_summary['balance'] = 'y2'\n",
    "balance_summary['position'] = list(map(position, balance_summary.index))\n",
    "balance_summary.to_csv('country_balance_summary.csv')"
   ]
  },
  {
   "cell_type": "code",
   "execution_count": 8,
   "metadata": {},
   "outputs": [
    {
     "name": "stderr",
     "output_type": "stream",
     "text": [
      "/Users/mortonjt/miniconda3/envs/gneiss_env/lib/python3.5/site-packages/seaborn/categorical.py:2171: UserWarning: The boxplot API has been changed. Attempting to adjust your arguments for the new API (which might not work). Please update your code. See the version 0.6 release notes for more info.\n",
      "  warnings.warn(msg, UserWarning)\n"
     ]
    },
    {
     "ename": "KeyError",
     "evalue": "'United Kingdom'",
     "output_type": "error",
     "traceback": [
      "\u001b[0;31m---------------------------------------------------------------------------\u001b[0m",
      "\u001b[0;31mKeyError\u001b[0m                                  Traceback (most recent call last)",
      "\u001b[0;32m<ipython-input-8-5185c255bd64>\u001b[0m in \u001b[0;36m<module>\u001b[0;34m()\u001b[0m\n\u001b[1;32m     12\u001b[0m             palette={0: '#b22637',\n\u001b[1;32m     13\u001b[0m                      \u001b[0;36m1\u001b[0m\u001b[0;34m:\u001b[0m \u001b[0;34m'#224191'\u001b[0m\u001b[0;34m,\u001b[0m\u001b[0;34m\u001b[0m\u001b[0m\n\u001b[0;32m---> 14\u001b[0;31m                      \u001b[0;36m2\u001b[0m\u001b[0;34m:\u001b[0m \u001b[0;34m'#fffef3'\u001b[0m\u001b[0;34m\u001b[0m\u001b[0m\n\u001b[0m\u001b[1;32m     15\u001b[0m                     })\n\u001b[1;32m     16\u001b[0m \u001b[0;31m# #16295b blue United Kingdom\u001b[0m\u001b[0;34m\u001b[0m\u001b[0;34m\u001b[0m\u001b[0m\n",
      "\u001b[0;32m~/miniconda3/envs/gneiss_env/lib/python3.5/site-packages/seaborn/categorical.py\u001b[0m in \u001b[0;36mboxplot\u001b[0;34m(x, y, hue, data, order, hue_order, orient, color, palette, saturation, width, fliersize, linewidth, whis, notch, ax, **kwargs)\u001b[0m\n\u001b[1;32m   2173\u001b[0m     plotter = _BoxPlotter(x, y, hue, data, order, hue_order,\n\u001b[1;32m   2174\u001b[0m                           \u001b[0morient\u001b[0m\u001b[0;34m,\u001b[0m \u001b[0mcolor\u001b[0m\u001b[0;34m,\u001b[0m \u001b[0mpalette\u001b[0m\u001b[0;34m,\u001b[0m \u001b[0msaturation\u001b[0m\u001b[0;34m,\u001b[0m\u001b[0;34m\u001b[0m\u001b[0m\n\u001b[0;32m-> 2175\u001b[0;31m                           width, fliersize, linewidth)\n\u001b[0m\u001b[1;32m   2176\u001b[0m \u001b[0;34m\u001b[0m\u001b[0m\n\u001b[1;32m   2177\u001b[0m     \u001b[0;32mif\u001b[0m \u001b[0max\u001b[0m \u001b[0;32mis\u001b[0m \u001b[0;32mNone\u001b[0m\u001b[0;34m:\u001b[0m\u001b[0;34m\u001b[0m\u001b[0m\n",
      "\u001b[0;32m~/miniconda3/envs/gneiss_env/lib/python3.5/site-packages/seaborn/categorical.py\u001b[0m in \u001b[0;36m__init__\u001b[0;34m(self, x, y, hue, data, order, hue_order, orient, color, palette, saturation, width, fliersize, linewidth)\u001b[0m\n\u001b[1;32m    425\u001b[0m \u001b[0;34m\u001b[0m\u001b[0m\n\u001b[1;32m    426\u001b[0m         \u001b[0mself\u001b[0m\u001b[0;34m.\u001b[0m\u001b[0mestablish_variables\u001b[0m\u001b[0;34m(\u001b[0m\u001b[0mx\u001b[0m\u001b[0;34m,\u001b[0m \u001b[0my\u001b[0m\u001b[0;34m,\u001b[0m \u001b[0mhue\u001b[0m\u001b[0;34m,\u001b[0m \u001b[0mdata\u001b[0m\u001b[0;34m,\u001b[0m \u001b[0morient\u001b[0m\u001b[0;34m,\u001b[0m \u001b[0morder\u001b[0m\u001b[0;34m,\u001b[0m \u001b[0mhue_order\u001b[0m\u001b[0;34m)\u001b[0m\u001b[0;34m\u001b[0m\u001b[0m\n\u001b[0;32m--> 427\u001b[0;31m         \u001b[0mself\u001b[0m\u001b[0;34m.\u001b[0m\u001b[0mestablish_colors\u001b[0m\u001b[0;34m(\u001b[0m\u001b[0mcolor\u001b[0m\u001b[0;34m,\u001b[0m \u001b[0mpalette\u001b[0m\u001b[0;34m,\u001b[0m \u001b[0msaturation\u001b[0m\u001b[0;34m)\u001b[0m\u001b[0;34m\u001b[0m\u001b[0m\n\u001b[0m\u001b[1;32m    428\u001b[0m \u001b[0;34m\u001b[0m\u001b[0m\n\u001b[1;32m    429\u001b[0m         \u001b[0mself\u001b[0m\u001b[0;34m.\u001b[0m\u001b[0mwidth\u001b[0m \u001b[0;34m=\u001b[0m \u001b[0mwidth\u001b[0m\u001b[0;34m\u001b[0m\u001b[0m\n",
      "\u001b[0;32m~/miniconda3/envs/gneiss_env/lib/python3.5/site-packages/seaborn/categorical.py\u001b[0m in \u001b[0;36mestablish_colors\u001b[0;34m(self, color, palette, saturation)\u001b[0m\n\u001b[1;32m    291\u001b[0m                 \u001b[0;32melse\u001b[0m\u001b[0;34m:\u001b[0m\u001b[0;34m\u001b[0m\u001b[0m\n\u001b[1;32m    292\u001b[0m                     \u001b[0mlevels\u001b[0m \u001b[0;34m=\u001b[0m \u001b[0mself\u001b[0m\u001b[0;34m.\u001b[0m\u001b[0mhue_names\u001b[0m\u001b[0;34m\u001b[0m\u001b[0m\n\u001b[0;32m--> 293\u001b[0;31m                 \u001b[0mpalette\u001b[0m \u001b[0;34m=\u001b[0m \u001b[0;34m[\u001b[0m\u001b[0mpalette\u001b[0m\u001b[0;34m[\u001b[0m\u001b[0ml\u001b[0m\u001b[0;34m]\u001b[0m \u001b[0;32mfor\u001b[0m \u001b[0ml\u001b[0m \u001b[0;32min\u001b[0m \u001b[0mlevels\u001b[0m\u001b[0;34m]\u001b[0m\u001b[0;34m\u001b[0m\u001b[0m\n\u001b[0m\u001b[1;32m    294\u001b[0m \u001b[0;34m\u001b[0m\u001b[0m\n\u001b[1;32m    295\u001b[0m             \u001b[0mcolors\u001b[0m \u001b[0;34m=\u001b[0m \u001b[0mcolor_palette\u001b[0m\u001b[0;34m(\u001b[0m\u001b[0mpalette\u001b[0m\u001b[0;34m,\u001b[0m \u001b[0mn_colors\u001b[0m\u001b[0;34m)\u001b[0m\u001b[0;34m\u001b[0m\u001b[0m\n",
      "\u001b[0;32m~/miniconda3/envs/gneiss_env/lib/python3.5/site-packages/seaborn/categorical.py\u001b[0m in \u001b[0;36m<listcomp>\u001b[0;34m(.0)\u001b[0m\n\u001b[1;32m    291\u001b[0m                 \u001b[0;32melse\u001b[0m\u001b[0;34m:\u001b[0m\u001b[0;34m\u001b[0m\u001b[0m\n\u001b[1;32m    292\u001b[0m                     \u001b[0mlevels\u001b[0m \u001b[0;34m=\u001b[0m \u001b[0mself\u001b[0m\u001b[0;34m.\u001b[0m\u001b[0mhue_names\u001b[0m\u001b[0;34m\u001b[0m\u001b[0m\n\u001b[0;32m--> 293\u001b[0;31m                 \u001b[0mpalette\u001b[0m \u001b[0;34m=\u001b[0m \u001b[0;34m[\u001b[0m\u001b[0mpalette\u001b[0m\u001b[0;34m[\u001b[0m\u001b[0ml\u001b[0m\u001b[0;34m]\u001b[0m \u001b[0;32mfor\u001b[0m \u001b[0ml\u001b[0m \u001b[0;32min\u001b[0m \u001b[0mlevels\u001b[0m\u001b[0;34m]\u001b[0m\u001b[0;34m\u001b[0m\u001b[0m\n\u001b[0m\u001b[1;32m    294\u001b[0m \u001b[0;34m\u001b[0m\u001b[0m\n\u001b[1;32m    295\u001b[0m             \u001b[0mcolors\u001b[0m \u001b[0;34m=\u001b[0m \u001b[0mcolor_palette\u001b[0m\u001b[0;34m(\u001b[0m\u001b[0mpalette\u001b[0m\u001b[0;34m,\u001b[0m \u001b[0mn_colors\u001b[0m\u001b[0;34m)\u001b[0m\u001b[0;34m\u001b[0m\u001b[0m\n",
      "\u001b[0;31mKeyError\u001b[0m: 'United Kingdom'"
     ]
    },
    {
     "data": {
      "image/png": "[encoded data removed]",
      "text/plain": [
       "<matplotlib.figure.Figure at 0x112ae5f98>"
      ]
     },
     "metadata": {},
     "output_type": "display_data"
    }
   ],
   "source": [
    "from gneiss.plot import balance_boxplot, balance_barplots\n",
    "\n",
    "from matplotlib import rc\n",
    "rc('font',**{'family':'sans-serif','sans-serif':['Helvetica']})\n",
    "rc('text', usetex=True)\n",
    "\n",
    "fig, ax = plt.subplots()\n",
    "data = pd.merge(mapping, balances.T, left_index=True, right_index=True)\n",
    "data['y2_y'] = -1*data['y2']\n",
    "\n",
    "sns.boxplot(x='country', y='y2_y', data=data, notch=True, vert=False,  ax=ax,\n",
    "            palette={'United States': '#b22637',\n",
    "                     : '#224191',\n",
    "                     2: '#fffef3'\n",
    "                    })\n",
    "# #16295b blue United Kingdom\n",
    "# #224191 blue United Kingdom\n",
    "# #b22637 red  United States\n",
    "ax.set_yticklabels(['United States', 'United Kingdom', 'Canada'])\n",
    "ax.set_xlabel(r'$\\ln \\big(\\frac{\\textrm{Relative Abundance Clostridiales}}{\\textrm{Total Relative Abundance Remaining} }\\big)$', fontsize=16)\n",
    "plt.tight_layout()\n",
    "\n",
    "plt.savefig('country.pdf')"
   ]
  },
  {
   "cell_type": "code",
   "execution_count": null,
   "metadata": {
    "collapsed": true
   },
   "outputs": [],
   "source": [
    "len(list(tree.find('y2').children[0].subset()))"
   ]
  },
  {
   "cell_type": "code",
   "execution_count": 9,
   "metadata": {},
   "outputs": [
    {
     "data": {
      "text/html": [
       "<div>\n",
       "<style>\n",
       "    .dataframe thead tr:only-child th {\n",
       "        text-align: right;\n",
       "    }\n",
       "\n",
       "    .dataframe thead th {\n",
       "        text-align: left;\n",
       "    }\n",
       "\n",
       "    .dataframe tbody tr th {\n",
       "        vertical-align: top;\n",
       "    }\n",
       "</style>\n",
       "<table border=\"1\" class=\"dataframe\">\n",
       "  <thead>\n",
       "    <tr style=\"text-align: right;\">\n",
       "      <th></th>\n",
       "      <th>kingdom</th>\n",
       "      <th>phylum</th>\n",
       "      <th>class</th>\n",
       "      <th>order</th>\n",
       "      <th>family</th>\n",
       "      <th>genus</th>\n",
       "      <th>species</th>\n",
       "    </tr>\n",
       "  </thead>\n",
       "  <tbody>\n",
       "    <tr>\n",
       "      <th>TACGTAGGTGGCAAGCGTTGTCCGGATTTACTGGGTGTAAAGGGCGTGTAGGCGGAGAAGCAAGTCAGAAGTGAAATCCATGGGCTTAACCCATGAACTGCTTTTGAAACTGTTTCCCTTGAGTA</th>\n",
       "      <td>k__Bacteria</td>\n",
       "      <td>p__Firmicutes</td>\n",
       "      <td>c__Clostridia</td>\n",
       "      <td>o__Clostridiales</td>\n",
       "      <td>f__Ruminococcaceae</td>\n",
       "      <td>g__</td>\n",
       "      <td>s__</td>\n",
       "    </tr>\n",
       "    <tr>\n",
       "      <th>TACGTAGGTGGCAAGCGTTGTCCGGATTTACTGGGTGTAAAGGGCGTGCAGCCGGGAATGCAAGTCAGATGTGAAATCCATGGGCTTAACCCATGAACTGCATTTGAAACTGTATTTCTTGAGTA</th>\n",
       "      <td>k__Bacteria</td>\n",
       "      <td>p__Firmicutes</td>\n",
       "      <td>c__Clostridia</td>\n",
       "      <td>o__Clostridiales</td>\n",
       "      <td>f__Ruminococcaceae</td>\n",
       "      <td>g__Oscillospira</td>\n",
       "      <td>s__</td>\n",
       "    </tr>\n",
       "    <tr>\n",
       "      <th>TACGTAGGGGGCGAGCGTTGTCCGGAATTACTGGGCGTAAAGGGTGCGTAGGCGGTTTGGTAAGTTGGATGTGAAATACCCGGGCTTAACTTGGGGGCTGCATCCAATACTGTCGGACTTGAGTG</th>\n",
       "      <td>k__Bacteria</td>\n",
       "      <td>p__Firmicutes</td>\n",
       "      <td>c__Clostridia</td>\n",
       "      <td>o__Clostridiales</td>\n",
       "      <td>f__Christensenellaceae</td>\n",
       "      <td>g__</td>\n",
       "      <td>s__</td>\n",
       "    </tr>\n",
       "    <tr>\n",
       "      <th>TACGTAGGTGGCAAGCGTTGTCCGGATTTACTGGGTGTAAAGGGCGTGTAGCCGGGAGGGCAAGTCAGATGTGAAATCCACGGGCTCAACTCGTGAACTGCATTTGAAACTACTCTTCTTGAGTA</th>\n",
       "      <td>k__Bacteria</td>\n",
       "      <td>p__Firmicutes</td>\n",
       "      <td>c__Clostridia</td>\n",
       "      <td>o__Clostridiales</td>\n",
       "      <td>f__Ruminococcaceae</td>\n",
       "      <td>g__</td>\n",
       "      <td>s__</td>\n",
       "    </tr>\n",
       "    <tr>\n",
       "      <th>TACGTAGGTTGCAAGCGTTGTCCGGATTTACTGGGTGTAAAGGGCGTGTAGGCGGAGATGCAAGTTGGGAGTGAAATCCATGGGCTCAACCCATGAACTGCTCTCAAAACTGTATCCCTTGAGTA</th>\n",
       "      <td>k__Bacteria</td>\n",
       "      <td>p__Firmicutes</td>\n",
       "      <td>c__Clostridia</td>\n",
       "      <td>o__Clostridiales</td>\n",
       "      <td>f__Ruminococcaceae</td>\n",
       "      <td>g__</td>\n",
       "      <td>s__</td>\n",
       "    </tr>\n",
       "    <tr>\n",
       "      <th>TACGTAGGGGGCAAGCGTTGTCCGGAATAATTGGGCGTAAAGGGCGCGTAGGCGGCTCGGTAAGTCTGGAGTGAAAGTCCTGCTTTTAAGGTGGGAATTGCTTTGGATACTGTCGGGCTTGAGTG</th>\n",
       "      <td>k__Bacteria</td>\n",
       "      <td>p__Firmicutes</td>\n",
       "      <td>c__Clostridia</td>\n",
       "      <td>o__Clostridiales</td>\n",
       "      <td>f__</td>\n",
       "      <td>g__</td>\n",
       "      <td>s__</td>\n",
       "    </tr>\n",
       "    <tr>\n",
       "      <th>TACGTAGGTGGCAAGCGTTGTCCGGATTTACTGGGTGTAAAGGGCGTGTAGGCGGGAGAGCAAGTCAGAAGTGAAATCTATGGGCTTAACCCATAAACTGCTTTTGAAACTGTTCTTCTTGAGTA</th>\n",
       "      <td>k__Bacteria</td>\n",
       "      <td>p__Firmicutes</td>\n",
       "      <td>c__Clostridia</td>\n",
       "      <td>o__Clostridiales</td>\n",
       "      <td>f__Ruminococcaceae</td>\n",
       "      <td>g__</td>\n",
       "      <td>s__</td>\n",
       "    </tr>\n",
       "    <tr>\n",
       "      <th>TACGTAGGTGGCAAGCGTTGTCCGGAATTACTGGGTGTAAAGGGAGCGTAGGCGGGCAGGCAAGTCAGGCGTGAAATATATCGGCTCAACCGGTAACGGCGCTTGAAACTGCAGGTCTTGAGTGA</th>\n",
       "      <td>k__Bacteria</td>\n",
       "      <td>p__Firmicutes</td>\n",
       "      <td>c__Clostridia</td>\n",
       "      <td>o__Clostridiales</td>\n",
       "      <td>f__Ruminococcaceae</td>\n",
       "      <td>g__</td>\n",
       "      <td>s__</td>\n",
       "    </tr>\n",
       "    <tr>\n",
       "      <th>CACCGGCAGCTCTAGTGGTAGCAGTTTTTATTGGGCCTAAAGCGTCCGTAGCCGGTTTAATAAGTCTCTGGTGAAATCCTGCAGCTTAACTGTGGGAATTGCTGGAGATACTATTAGACTTGAGA</th>\n",
       "      <td>k__Archaea</td>\n",
       "      <td>p__Euryarchaeota</td>\n",
       "      <td>c__Methanobacteria</td>\n",
       "      <td>o__Methanobacteriales</td>\n",
       "      <td>f__Methanobacteriaceae</td>\n",
       "      <td>g__Methanobrevibacter</td>\n",
       "      <td>s__</td>\n",
       "    </tr>\n",
       "    <tr>\n",
       "      <th>TACGTAGGTGGCAAGCGTTATCCGGATTTACTGGGTGTAAAGGGCGCGTAGGCGGGGATACAAGTCAGATGTGAAATCTATGGGCTTAACCCATAAACTGCATTTGAAACTGTATCTCTTGAGTG</th>\n",
       "      <td>k__Bacteria</td>\n",
       "      <td>p__Firmicutes</td>\n",
       "      <td>c__Clostridia</td>\n",
       "      <td>o__Clostridiales</td>\n",
       "      <td>f__Ruminococcaceae</td>\n",
       "      <td>g__</td>\n",
       "      <td>s__</td>\n",
       "    </tr>\n",
       "    <tr>\n",
       "      <th>TACGTAGGGGGCGAGCGTTGTCCGGAATTACTGGGCGTAAAGGGAGCGTAGGCGGTCGATTAAGTTAGATGTGAAACCCCCGGGCTTAACTTGGGGACTGCATCTAATACTGGTTGACTTAGAGT</th>\n",
       "      <td>k__Bacteria</td>\n",
       "      <td>p__Firmicutes</td>\n",
       "      <td>c__Clostridia</td>\n",
       "      <td>o__Clostridiales</td>\n",
       "      <td>f__Christensenellaceae</td>\n",
       "      <td>g__</td>\n",
       "      <td>s__</td>\n",
       "    </tr>\n",
       "    <tr>\n",
       "      <th>TACGTAGGGGGCGAGCGTTGTCCGGAATTACTGGGCGTAAAGGGAGCGTAGGCGGTCTGATAAGTTGGATGTGAAATACCCGGGCTTAACTTGGGGGGTGCATCCAATACTGTTGGACTAGAGTA</th>\n",
       "      <td>k__Bacteria</td>\n",
       "      <td>p__Firmicutes</td>\n",
       "      <td>c__Clostridia</td>\n",
       "      <td>o__Clostridiales</td>\n",
       "      <td>f__Christensenellaceae</td>\n",
       "      <td>g__</td>\n",
       "      <td>s__</td>\n",
       "    </tr>\n",
       "    <tr>\n",
       "      <th>TACGTAGGTGGCAAGCGTTGTCCGGATTTACTGGGTGTAAAGGGCGCGTAGGCGGGATGGCAAGTCAGATGTGAAATCCATGGGCTCAACCCATGAACTGCATTTGAAACTGTCGTTCTTGAGTA</th>\n",
       "      <td>k__Bacteria</td>\n",
       "      <td>p__Firmicutes</td>\n",
       "      <td>c__Clostridia</td>\n",
       "      <td>o__Clostridiales</td>\n",
       "      <td>f__Ruminococcaceae</td>\n",
       "      <td>g__</td>\n",
       "      <td>s__</td>\n",
       "    </tr>\n",
       "    <tr>\n",
       "      <th>TACGTAGGGGGCGAGCGTTGTCCGGAATGATTGGGCGTAAAGGGCGCGTAGGCGGCCTGCTAAGTCTGAAGTGAAAGTCCTGCTTTCAAGGTGGGAAGTGCTTTGGATACTGGTGGGCTGGAGTG</th>\n",
       "      <td>k__Bacteria</td>\n",
       "      <td>p__Firmicutes</td>\n",
       "      <td>c__Clostridia</td>\n",
       "      <td>o__Clostridiales</td>\n",
       "      <td>f__</td>\n",
       "      <td>g__</td>\n",
       "      <td>s__</td>\n",
       "    </tr>\n",
       "    <tr>\n",
       "      <th>TACGTAGGTGGCAAGCGTTATCCGGATTTACTGGGTGTAAAGGGCGCGTAGGCGGGGATGCAAGTCAGATGTGAAATCTATGGGCTTAACCCATAAACTGCATTTGAAACTGTATCTCTTGAGTG</th>\n",
       "      <td>k__Bacteria</td>\n",
       "      <td>p__Firmicutes</td>\n",
       "      <td>c__Clostridia</td>\n",
       "      <td>o__Clostridiales</td>\n",
       "      <td>f__Ruminococcaceae</td>\n",
       "      <td>g__</td>\n",
       "      <td>s__</td>\n",
       "    </tr>\n",
       "    <tr>\n",
       "      <th>TACGTAGGGAGCGAGCGTTATCCGGATTTATTGGGTGTAAAGGGTGCGTAGACGGGAATACAAGTTAGTTGTGAAATACCTCGGCTTAACTGAGGAACTGCAACTAAAACTATATTTCTTGAGTA</th>\n",
       "      <td>k__Bacteria</td>\n",
       "      <td>p__Firmicutes</td>\n",
       "      <td>c__Clostridia</td>\n",
       "      <td>o__Clostridiales</td>\n",
       "      <td>f__</td>\n",
       "      <td>g__</td>\n",
       "      <td>s__</td>\n",
       "    </tr>\n",
       "  </tbody>\n",
       "</table>\n",
       "</div>"
      ],
      "text/plain": [
       "                                                        kingdom  \\\n",
       "TACGTAGGTGGCAAGCGTTGTCCGGATTTACTGGGTGTAAAGGGCGT...  k__Bacteria   \n",
       "TACGTAGGTGGCAAGCGTTGTCCGGATTTACTGGGTGTAAAGGGCGT...  k__Bacteria   \n",
       "TACGTAGGGGGCGAGCGTTGTCCGGAATTACTGGGCGTAAAGGGTGC...  k__Bacteria   \n",
       "TACGTAGGTGGCAAGCGTTGTCCGGATTTACTGGGTGTAAAGGGCGT...  k__Bacteria   \n",
       "TACGTAGGTTGCAAGCGTTGTCCGGATTTACTGGGTGTAAAGGGCGT...  k__Bacteria   \n",
       "TACGTAGGGGGCAAGCGTTGTCCGGAATAATTGGGCGTAAAGGGCGC...  k__Bacteria   \n",
       "TACGTAGGTGGCAAGCGTTGTCCGGATTTACTGGGTGTAAAGGGCGT...  k__Bacteria   \n",
       "TACGTAGGTGGCAAGCGTTGTCCGGAATTACTGGGTGTAAAGGGAGC...  k__Bacteria   \n",
       "CACCGGCAGCTCTAGTGGTAGCAGTTTTTATTGGGCCTAAAGCGTCC...   k__Archaea   \n",
       "TACGTAGGTGGCAAGCGTTATCCGGATTTACTGGGTGTAAAGGGCGC...  k__Bacteria   \n",
       "TACGTAGGGGGCGAGCGTTGTCCGGAATTACTGGGCGTAAAGGGAGC...  k__Bacteria   \n",
       "TACGTAGGGGGCGAGCGTTGTCCGGAATTACTGGGCGTAAAGGGAGC...  k__Bacteria   \n",
       "TACGTAGGTGGCAAGCGTTGTCCGGATTTACTGGGTGTAAAGGGCGC...  k__Bacteria   \n",
       "TACGTAGGGGGCGAGCGTTGTCCGGAATGATTGGGCGTAAAGGGCGC...  k__Bacteria   \n",
       "TACGTAGGTGGCAAGCGTTATCCGGATTTACTGGGTGTAAAGGGCGC...  k__Bacteria   \n",
       "TACGTAGGGAGCGAGCGTTATCCGGATTTATTGGGTGTAAAGGGTGC...  k__Bacteria   \n",
       "\n",
       "                                                              phylum  \\\n",
       "TACGTAGGTGGCAAGCGTTGTCCGGATTTACTGGGTGTAAAGGGCGT...     p__Firmicutes   \n",
       "TACGTAGGTGGCAAGCGTTGTCCGGATTTACTGGGTGTAAAGGGCGT...     p__Firmicutes   \n",
       "TACGTAGGGGGCGAGCGTTGTCCGGAATTACTGGGCGTAAAGGGTGC...     p__Firmicutes   \n",
       "TACGTAGGTGGCAAGCGTTGTCCGGATTTACTGGGTGTAAAGGGCGT...     p__Firmicutes   \n",
       "TACGTAGGTTGCAAGCGTTGTCCGGATTTACTGGGTGTAAAGGGCGT...     p__Firmicutes   \n",
       "TACGTAGGGGGCAAGCGTTGTCCGGAATAATTGGGCGTAAAGGGCGC...     p__Firmicutes   \n",
       "TACGTAGGTGGCAAGCGTTGTCCGGATTTACTGGGTGTAAAGGGCGT...     p__Firmicutes   \n",
       "TACGTAGGTGGCAAGCGTTGTCCGGAATTACTGGGTGTAAAGGGAGC...     p__Firmicutes   \n",
       "CACCGGCAGCTCTAGTGGTAGCAGTTTTTATTGGGCCTAAAGCGTCC...  p__Euryarchaeota   \n",
       "TACGTAGGTGGCAAGCGTTATCCGGATTTACTGGGTGTAAAGGGCGC...     p__Firmicutes   \n",
       "TACGTAGGGGGCGAGCGTTGTCCGGAATTACTGGGCGTAAAGGGAGC...     p__Firmicutes   \n",
       "TACGTAGGGGGCGAGCGTTGTCCGGAATTACTGGGCGTAAAGGGAGC...     p__Firmicutes   \n",
       "TACGTAGGTGGCAAGCGTTGTCCGGATTTACTGGGTGTAAAGGGCGC...     p__Firmicutes   \n",
       "TACGTAGGGGGCGAGCGTTGTCCGGAATGATTGGGCGTAAAGGGCGC...     p__Firmicutes   \n",
       "TACGTAGGTGGCAAGCGTTATCCGGATTTACTGGGTGTAAAGGGCGC...     p__Firmicutes   \n",
       "TACGTAGGGAGCGAGCGTTATCCGGATTTATTGGGTGTAAAGGGTGC...     p__Firmicutes   \n",
       "\n",
       "                                                                 class  \\\n",
       "TACGTAGGTGGCAAGCGTTGTCCGGATTTACTGGGTGTAAAGGGCGT...       c__Clostridia   \n",
       "TACGTAGGTGGCAAGCGTTGTCCGGATTTACTGGGTGTAAAGGGCGT...       c__Clostridia   \n",
       "TACGTAGGGGGCGAGCGTTGTCCGGAATTACTGGGCGTAAAGGGTGC...       c__Clostridia   \n",
       "TACGTAGGTGGCAAGCGTTGTCCGGATTTACTGGGTGTAAAGGGCGT...       c__Clostridia   \n",
       "TACGTAGGTTGCAAGCGTTGTCCGGATTTACTGGGTGTAAAGGGCGT...       c__Clostridia   \n",
       "TACGTAGGGGGCAAGCGTTGTCCGGAATAATTGGGCGTAAAGGGCGC...       c__Clostridia   \n",
       "TACGTAGGTGGCAAGCGTTGTCCGGATTTACTGGGTGTAAAGGGCGT...       c__Clostridia   \n",
       "TACGTAGGTGGCAAGCGTTGTCCGGAATTACTGGGTGTAAAGGGAGC...       c__Clostridia   \n",
       "CACCGGCAGCTCTAGTGGTAGCAGTTTTTATTGGGCCTAAAGCGTCC...  c__Methanobacteria   \n",
       "TACGTAGGTGGCAAGCGTTATCCGGATTTACTGGGTGTAAAGGGCGC...       c__Clostridia   \n",
       "TACGTAGGGGGCGAGCGTTGTCCGGAATTACTGGGCGTAAAGGGAGC...       c__Clostridia   \n",
       "TACGTAGGGGGCGAGCGTTGTCCGGAATTACTGGGCGTAAAGGGAGC...       c__Clostridia   \n",
       "TACGTAGGTGGCAAGCGTTGTCCGGATTTACTGGGTGTAAAGGGCGC...       c__Clostridia   \n",
       "TACGTAGGGGGCGAGCGTTGTCCGGAATGATTGGGCGTAAAGGGCGC...       c__Clostridia   \n",
       "TACGTAGGTGGCAAGCGTTATCCGGATTTACTGGGTGTAAAGGGCGC...       c__Clostridia   \n",
       "TACGTAGGGAGCGAGCGTTATCCGGATTTATTGGGTGTAAAGGGTGC...       c__Clostridia   \n",
       "\n",
       "                                                                    order  \\\n",
       "TACGTAGGTGGCAAGCGTTGTCCGGATTTACTGGGTGTAAAGGGCGT...       o__Clostridiales   \n",
       "TACGTAGGTGGCAAGCGTTGTCCGGATTTACTGGGTGTAAAGGGCGT...       o__Clostridiales   \n",
       "TACGTAGGGGGCGAGCGTTGTCCGGAATTACTGGGCGTAAAGGGTGC...       o__Clostridiales   \n",
       "TACGTAGGTGGCAAGCGTTGTCCGGATTTACTGGGTGTAAAGGGCGT...       o__Clostridiales   \n",
       "TACGTAGGTTGCAAGCGTTGTCCGGATTTACTGGGTGTAAAGGGCGT...       o__Clostridiales   \n",
       "TACGTAGGGGGCAAGCGTTGTCCGGAATAATTGGGCGTAAAGGGCGC...       o__Clostridiales   \n",
       "TACGTAGGTGGCAAGCGTTGTCCGGATTTACTGGGTGTAAAGGGCGT...       o__Clostridiales   \n",
       "TACGTAGGTGGCAAGCGTTGTCCGGAATTACTGGGTGTAAAGGGAGC...       o__Clostridiales   \n",
       "CACCGGCAGCTCTAGTGGTAGCAGTTTTTATTGGGCCTAAAGCGTCC...  o__Methanobacteriales   \n",
       "TACGTAGGTGGCAAGCGTTATCCGGATTTACTGGGTGTAAAGGGCGC...       o__Clostridiales   \n",
       "TACGTAGGGGGCGAGCGTTGTCCGGAATTACTGGGCGTAAAGGGAGC...       o__Clostridiales   \n",
       "TACGTAGGGGGCGAGCGTTGTCCGGAATTACTGGGCGTAAAGGGAGC...       o__Clostridiales   \n",
       "TACGTAGGTGGCAAGCGTTGTCCGGATTTACTGGGTGTAAAGGGCGC...       o__Clostridiales   \n",
       "TACGTAGGGGGCGAGCGTTGTCCGGAATGATTGGGCGTAAAGGGCGC...       o__Clostridiales   \n",
       "TACGTAGGTGGCAAGCGTTATCCGGATTTACTGGGTGTAAAGGGCGC...       o__Clostridiales   \n",
       "TACGTAGGGAGCGAGCGTTATCCGGATTTATTGGGTGTAAAGGGTGC...       o__Clostridiales   \n",
       "\n",
       "                                                                    family  \\\n",
       "TACGTAGGTGGCAAGCGTTGTCCGGATTTACTGGGTGTAAAGGGCGT...      f__Ruminococcaceae   \n",
       "TACGTAGGTGGCAAGCGTTGTCCGGATTTACTGGGTGTAAAGGGCGT...      f__Ruminococcaceae   \n",
       "TACGTAGGGGGCGAGCGTTGTCCGGAATTACTGGGCGTAAAGGGTGC...  f__Christensenellaceae   \n",
       "TACGTAGGTGGCAAGCGTTGTCCGGATTTACTGGGTGTAAAGGGCGT...      f__Ruminococcaceae   \n",
       "TACGTAGGTTGCAAGCGTTGTCCGGATTTACTGGGTGTAAAGGGCGT...      f__Ruminococcaceae   \n",
       "TACGTAGGGGGCAAGCGTTGTCCGGAATAATTGGGCGTAAAGGGCGC...                     f__   \n",
       "TACGTAGGTGGCAAGCGTTGTCCGGATTTACTGGGTGTAAAGGGCGT...      f__Ruminococcaceae   \n",
       "TACGTAGGTGGCAAGCGTTGTCCGGAATTACTGGGTGTAAAGGGAGC...      f__Ruminococcaceae   \n",
       "CACCGGCAGCTCTAGTGGTAGCAGTTTTTATTGGGCCTAAAGCGTCC...  f__Methanobacteriaceae   \n",
       "TACGTAGGTGGCAAGCGTTATCCGGATTTACTGGGTGTAAAGGGCGC...      f__Ruminococcaceae   \n",
       "TACGTAGGGGGCGAGCGTTGTCCGGAATTACTGGGCGTAAAGGGAGC...  f__Christensenellaceae   \n",
       "TACGTAGGGGGCGAGCGTTGTCCGGAATTACTGGGCGTAAAGGGAGC...  f__Christensenellaceae   \n",
       "TACGTAGGTGGCAAGCGTTGTCCGGATTTACTGGGTGTAAAGGGCGC...      f__Ruminococcaceae   \n",
       "TACGTAGGGGGCGAGCGTTGTCCGGAATGATTGGGCGTAAAGGGCGC...                     f__   \n",
       "TACGTAGGTGGCAAGCGTTATCCGGATTTACTGGGTGTAAAGGGCGC...      f__Ruminococcaceae   \n",
       "TACGTAGGGAGCGAGCGTTATCCGGATTTATTGGGTGTAAAGGGTGC...                     f__   \n",
       "\n",
       "                                                                    genus  \\\n",
       "TACGTAGGTGGCAAGCGTTGTCCGGATTTACTGGGTGTAAAGGGCGT...                    g__   \n",
       "TACGTAGGTGGCAAGCGTTGTCCGGATTTACTGGGTGTAAAGGGCGT...        g__Oscillospira   \n",
       "TACGTAGGGGGCGAGCGTTGTCCGGAATTACTGGGCGTAAAGGGTGC...                    g__   \n",
       "TACGTAGGTGGCAAGCGTTGTCCGGATTTACTGGGTGTAAAGGGCGT...                    g__   \n",
       "TACGTAGGTTGCAAGCGTTGTCCGGATTTACTGGGTGTAAAGGGCGT...                    g__   \n",
       "TACGTAGGGGGCAAGCGTTGTCCGGAATAATTGGGCGTAAAGGGCGC...                    g__   \n",
       "TACGTAGGTGGCAAGCGTTGTCCGGATTTACTGGGTGTAAAGGGCGT...                    g__   \n",
       "TACGTAGGTGGCAAGCGTTGTCCGGAATTACTGGGTGTAAAGGGAGC...                    g__   \n",
       "CACCGGCAGCTCTAGTGGTAGCAGTTTTTATTGGGCCTAAAGCGTCC...  g__Methanobrevibacter   \n",
       "TACGTAGGTGGCAAGCGTTATCCGGATTTACTGGGTGTAAAGGGCGC...                    g__   \n",
       "TACGTAGGGGGCGAGCGTTGTCCGGAATTACTGGGCGTAAAGGGAGC...                    g__   \n",
       "TACGTAGGGGGCGAGCGTTGTCCGGAATTACTGGGCGTAAAGGGAGC...                    g__   \n",
       "TACGTAGGTGGCAAGCGTTGTCCGGATTTACTGGGTGTAAAGGGCGC...                    g__   \n",
       "TACGTAGGGGGCGAGCGTTGTCCGGAATGATTGGGCGTAAAGGGCGC...                    g__   \n",
       "TACGTAGGTGGCAAGCGTTATCCGGATTTACTGGGTGTAAAGGGCGC...                    g__   \n",
       "TACGTAGGGAGCGAGCGTTATCCGGATTTATTGGGTGTAAAGGGTGC...                    g__   \n",
       "\n",
       "                                                   species  \n",
       "TACGTAGGTGGCAAGCGTTGTCCGGATTTACTGGGTGTAAAGGGCGT...     s__  \n",
       "TACGTAGGTGGCAAGCGTTGTCCGGATTTACTGGGTGTAAAGGGCGT...     s__  \n",
       "TACGTAGGGGGCGAGCGTTGTCCGGAATTACTGGGCGTAAAGGGTGC...     s__  \n",
       "TACGTAGGTGGCAAGCGTTGTCCGGATTTACTGGGTGTAAAGGGCGT...     s__  \n",
       "TACGTAGGTTGCAAGCGTTGTCCGGATTTACTGGGTGTAAAGGGCGT...     s__  \n",
       "TACGTAGGGGGCAAGCGTTGTCCGGAATAATTGGGCGTAAAGGGCGC...     s__  \n",
       "TACGTAGGTGGCAAGCGTTGTCCGGATTTACTGGGTGTAAAGGGCGT...     s__  \n",
       "TACGTAGGTGGCAAGCGTTGTCCGGAATTACTGGGTGTAAAGGGAGC...     s__  \n",
       "CACCGGCAGCTCTAGTGGTAGCAGTTTTTATTGGGCCTAAAGCGTCC...     s__  \n",
       "TACGTAGGTGGCAAGCGTTATCCGGATTTACTGGGTGTAAAGGGCGC...     s__  \n",
       "TACGTAGGGGGCGAGCGTTGTCCGGAATTACTGGGCGTAAAGGGAGC...     s__  \n",
       "TACGTAGGGGGCGAGCGTTGTCCGGAATTACTGGGCGTAAAGGGAGC...     s__  \n",
       "TACGTAGGTGGCAAGCGTTGTCCGGATTTACTGGGTGTAAAGGGCGC...     s__  \n",
       "TACGTAGGGGGCGAGCGTTGTCCGGAATGATTGGGCGTAAAGGGCGC...     s__  \n",
       "TACGTAGGTGGCAAGCGTTATCCGGATTTACTGGGTGTAAAGGGCGC...     s__  \n",
       "TACGTAGGGAGCGAGCGTTATCCGGATTTATTGGGTGTAAAGGGTGC...     s__  "
      ]
     },
     "execution_count": 9,
     "metadata": {},
     "output_type": "execute_result"
    }
   ],
   "source": [
    "taxa.loc[tree.find('y2').children[0].subset()]"
   ]
  },
  {
   "cell_type": "code",
   "execution_count": null,
   "metadata": {
    "collapsed": true
   },
   "outputs": [],
   "source": [
    "from gneiss.util import NUMERATOR, DENOMINATOR\n",
    "taxa.loc[tree.find('y2').children[NUMERATOR].subset()].to_csv('y2_numerator.csv')\n",
    "taxa.loc[tree.find('y2').children[DENOMINATOR].subset()].to_csv('y2_denominator.csv')"
   ]
  },
  {
   "cell_type": "code",
   "execution_count": null,
   "metadata": {
    "collapsed": true
   },
   "outputs": [],
   "source": [
    "from gneiss.plot import balance_boxplot, balance_barplots\n",
    "data = pd.merge(mapping, balances.T, left_index=True, right_index=True)"
   ]
  },
  {
   "cell_type": "code",
   "execution_count": null,
   "metadata": {
    "collapsed": true
   },
   "outputs": [],
   "source": [
    "tree.find('y310').children"
   ]
  },
  {
   "cell_type": "code",
   "execution_count": null,
   "metadata": {
    "collapsed": true
   },
   "outputs": [],
   "source": [
    "taxa.loc[tree.find('y310').subset()]"
   ]
  },
  {
   "cell_type": "code",
   "execution_count": null,
   "metadata": {
    "collapsed": true
   },
   "outputs": [],
   "source": [
    "mapping = mapping.loc[mapping['sex'] != 'Unspecified']\n",
    "mapping = mapping.loc[mapping['sex'] != 'other']"
   ]
  },
  {
   "cell_type": "code",
   "execution_count": 126,
   "metadata": {
    "collapsed": true
   },
   "outputs": [],
   "source": [
    "seqs = list(table.columns)"
   ]
  },
  {
   "cell_type": "code",
   "execution_count": 127,
   "metadata": {
    "collapsed": true
   },
   "outputs": [],
   "source": [
    "table.columns = np.arange(len(table.columns))"
   ]
  },
  {
   "cell_type": "code",
   "execution_count": 131,
   "metadata": {
    "collapsed": true
   },
   "outputs": [],
   "source": [
    "data_otu = pd.merge(mapping, table, left_index=True, right_index=True)"
   ]
  },
  {
   "cell_type": "code",
   "execution_count": 138,
   "metadata": {},
   "outputs": [
    {
     "data": {
      "text/plain": [
       "(0, 20)"
      ]
     },
     "execution_count": 138,
     "metadata": {},
     "output_type": "execute_result"
    },
    {
     "data": {
      "image/png": "[encoded data removed]",
      "text/plain": [
       "<matplotlib.figure.Figure at 0x145c312e8>"
      ]
     },
     "metadata": {},
     "output_type": "display_data"
    }
   ],
   "source": [
    "i = seqs.index('TACGTAGGTGGCAAGCGTTGTCCGGATTTACTGGGTGTAAAGGGCGTGCAGCCGGGCTGGCAAGTCAGGCGTGAAATCCCAGGGCTCAACCCTGGAACTGCGTTTGAAACTGCTGGTCTTGAGTA')\n",
    "_ = sns.factorplot(x='sex',y=i, data=data_otu, kind='box')\n",
    "plt.ylim([0, 20])"
   ]
  },
  {
   "cell_type": "code",
   "execution_count": null,
   "metadata": {
    "collapsed": true
   },
   "outputs": [],
   "source": []
  },
  {
   "cell_type": "code",
   "execution_count": 12,
   "metadata": {},
   "outputs": [
    {
     "data": {
      "text/plain": [
       "kingdom              k__Bacteria\n",
       "phylum             p__Firmicutes\n",
       "class              c__Clostridia\n",
       "order           o__Clostridiales\n",
       "family     f__[Mogibacteriaceae]\n",
       "genus                        g__\n",
       "species                      s__\n",
       "Name: TACGTAGGGGGCGAGCGTTATCCGGAATTATTGGGCGTAAAGAGTGCGTAGGTGGTAACTTAAGCGCGGGGTTTAAGGCAATGGCTTAACCATTGTTCGCCCTGCGAACTGGGATACTTGAGTGC, dtype: object"
      ]
     },
     "execution_count": 12,
     "metadata": {},
     "output_type": "execute_result"
    }
   ],
   "source": [
    "taxa.loc['TACGTAGGGGGCGAGCGTTATCCGGAATTATTGGGCGTAAAGAGTGCGTAGGTGGTAACTTAAGCGCGGGGTTTAAGGCAATGGCTTAACCATTGTTCGCCCTGCGAACTGGGATACTTGAGTGC']"
   ]
  },
  {
   "cell_type": "code",
   "execution_count": 13,
   "metadata": {},
   "outputs": [
    {
     "data": {
      "text/plain": [
       "frozenset({'TACGTAGGGGGCGAGCGTTATCCGGAATTATTGGGCGTAAAGAGTGCGTAGGTGGTAACTTAAGCGCGGGGTTTAAGGCAATGGCTTAACCATTGTTCGCCCTGCGAACTGGGATACTTGAGTGC',\n",
       "           'TACGTAGGTGGCAAGCGTTGTCCGGATTTACTGGGTGTAAAGGGCGTGCAGCCGGGCTGGCAAGTCAGGCGTGAAATCCCAGGGCTCAACCCTGGAACTGCGTTTGAAACTGCTGGTCTTGAGTA'})"
      ]
     },
     "execution_count": 13,
     "metadata": {},
     "output_type": "execute_result"
    }
   ],
   "source": [
    "tree.find('y309').children[0].subset()"
   ]
  },
  {
   "cell_type": "code",
   "execution_count": 14,
   "metadata": {
    "collapsed": true
   },
   "outputs": [],
   "source": [
    "NUMERATOR, DENOMINATOR = 1, 0\n",
    "taxa.loc[tree.find('y309').children[NUMERATOR].subset()].to_csv('y309_numerator.csv')\n",
    "taxa.loc[tree.find('y309').children[DENOMINATOR].subset()].to_csv('y309_denominator.csv')"
   ]
  },
  {
   "cell_type": "code",
   "execution_count": 15,
   "metadata": {},
   "outputs": [
    {
     "data": {
      "text/plain": [
       "<seaborn.axisgrid.FacetGrid at 0x11761b828>"
      ]
     },
     "execution_count": 15,
     "metadata": {},
     "output_type": "execute_result"
    },
    {
     "data": {
      "image/png": "[encoded data removed]",
      "text/plain": [
       "<matplotlib.figure.Figure at 0x11761b080>"
      ]
     },
     "metadata": {},
     "output_type": "display_data"
    }
   ],
   "source": [
    "from gneiss.plot import balance_boxplot, balance_barplots\n",
    "data = pd.merge(mapping, balances.T, left_index=True, right_index=True)\n",
    "sns.factorplot(x='race', y='y142', data=data, kind='box', notch=True)"
   ]
  },
  {
   "cell_type": "markdown",
   "metadata": {},
   "source": [
    "Bifidobacterium tsurumiense : commonly found in dental plaques"
   ]
  },
  {
   "cell_type": "code",
   "execution_count": 16,
   "metadata": {
    "collapsed": true
   },
   "outputs": [],
   "source": [
    "x = tree.find('y142').children[DENOMINATOR]\n",
    "\n",
    "taxa.loc[tree.find('y142').children[NUMERATOR].subset()].to_csv('y142_numerator.csv')\n",
    "pd.DataFrame({x.name: taxa.loc[x.name]}).to_csv('y142_denominator.csv')"
   ]
  },
  {
   "cell_type": "code",
   "execution_count": 17,
   "metadata": {},
   "outputs": [
    {
     "data": {
      "text/plain": [
       "ibd\n",
       "0   -0.000446\n",
       "1   -0.003976\n",
       "2    0.343279\n",
       "Name: y1417, dtype: float64"
      ]
     },
     "execution_count": 17,
     "metadata": {},
     "output_type": "execute_result"
    }
   ],
   "source": [
    "data.groupby(\"ibd\").mean().y1417"
   ]
  },
  {
   "cell_type": "code",
   "execution_count": 18,
   "metadata": {},
   "outputs": [
    {
     "data": {
      "text/plain": [
       "ibd\n",
       "0    0.088378\n",
       "1    0.002606\n",
       "2    1.044322\n",
       "Name: y1417, dtype: float64"
      ]
     },
     "execution_count": 18,
     "metadata": {},
     "output_type": "execute_result"
    }
   ],
   "source": [
    "data.groupby(\"ibd\").std().y1417"
   ]
  },
  {
   "cell_type": "code",
   "execution_count": 19,
   "metadata": {},
   "outputs": [
    {
     "data": {
      "text/plain": [
       "<seaborn.axisgrid.FacetGrid at 0x1175fe400>"
      ]
     },
     "execution_count": 19,
     "metadata": {},
     "output_type": "execute_result"
    },
    {
     "data": {
      "image/png": "[encoded data removed]",
      "text/plain": [
       "<matplotlib.figure.Figure at 0x125b57a58>"
      ]
     },
     "metadata": {},
     "output_type": "display_data"
    }
   ],
   "source": [
    "from gneiss.plot import balance_boxplot, balance_barplots\n",
    "data = pd.merge(mapping, balances.T, left_index=True, right_index=True)\n",
    "sns.factorplot(x='age_cat', hue='sex', y='y1931', data=data, kind='violin', notch=True, \n",
    "               order=['Child', 'Teen', '20s', '30s', '40s', '60s', '70+'])"
   ]
  },
  {
   "cell_type": "code",
   "execution_count": 20,
   "metadata": {},
   "outputs": [
    {
     "data": {
      "text/plain": [
       "<matplotlib.collections.PathCollection at 0x126fbd908>"
      ]
     },
     "execution_count": 20,
     "metadata": {},
     "output_type": "execute_result"
    },
    {
     "data": {
      "image/png": "[encoded data removed]",
      "text/plain": [
       "<matplotlib.figure.Figure at 0x10a06a518>"
      ]
     },
     "metadata": {},
     "output_type": "display_data"
    }
   ],
   "source": [
    "data_0 = data.loc[mapping.sex==0]\n",
    "data_1 = data.loc[mapping.sex==1]\n",
    "plt.scatter(data_0.age_corrected, data_0.y1931, s=10)\n",
    "plt.scatter(data_1.age_corrected, data_1.y1931, s=10)"
   ]
  },
  {
   "cell_type": "code",
   "execution_count": 21,
   "metadata": {},
   "outputs": [
    {
     "data": {
      "text/plain": [
       "<TreeNode, name: TACGTAGGGTGCAAGCGTTATCCGGAATTATTGGGCGTAAAGGGCTCGTAGGCGGTTCGTCGCGTCCGGTGTGAAAGTCCATCGCTTAACGGTGGATCTGCGCCGGGTACGGGCGGGCTGGAGTG, internal node count: 0, tips count: 0>"
      ]
     },
     "execution_count": 21,
     "metadata": {},
     "output_type": "execute_result"
    }
   ],
   "source": [
    "x"
   ]
  },
  {
   "cell_type": "code",
   "execution_count": 22,
   "metadata": {
    "collapsed": true
   },
   "outputs": [],
   "source": [
    "x = tree.find('y1931').children[DENOMINATOR]\n",
    "\n",
    "taxa.loc[tree.find('y1931').children[NUMERATOR].subset()].to_csv('y1931_numerator.csv')\n",
    "pd.DataFrame({x.name: taxa.loc[x.name]}).T.to_csv('y1931_denominator.csv')"
   ]
  },
  {
   "cell_type": "code",
   "execution_count": 23,
   "metadata": {},
   "outputs": [
    {
     "data": {
      "text/plain": [
       "<seaborn.axisgrid.FacetGrid at 0x124355cc0>"
      ]
     },
     "execution_count": 23,
     "metadata": {},
     "output_type": "execute_result"
    },
    {
     "data": {
      "image/png": "[encoded data removed]",
      "text/plain": [
       "<matplotlib.figure.Figure at 0x126f469e8>"
      ]
     },
     "metadata": {},
     "output_type": "display_data"
    }
   ],
   "source": [
    "from gneiss.plot import balance_boxplot, balance_barplots\n",
    "data = pd.merge(mapping, balances.T, left_index=True, right_index=True)\n",
    "sns.factorplot(x='types_of_plants', y='y363', data=data, kind='violin', notch=True)"
   ]
  },
  {
   "cell_type": "code",
   "execution_count": 24,
   "metadata": {},
   "outputs": [
    {
     "data": {
      "text/plain": [
       "<seaborn.axisgrid.FacetGrid at 0x126f64c50>"
      ]
     },
     "execution_count": 24,
     "metadata": {},
     "output_type": "execute_result"
    },
    {
     "data": {
      "image/png": "[encoded data removed]",
      "text/plain": [
       "<matplotlib.figure.Figure at 0x126f49e10>"
      ]
     },
     "metadata": {},
     "output_type": "display_data"
    }
   ],
   "source": [
    "from gneiss.plot import balance_boxplot, balance_barplots\n",
    "data = pd.merge(mapping, balances.T, left_index=True, right_index=True)\n",
    "sns.factorplot(x='types_of_plants', y='y363', data=data, kind='box', notch=True)"
   ]
  },
  {
   "cell_type": "code",
   "execution_count": 25,
   "metadata": {},
   "outputs": [
    {
     "ename": "NameError",
     "evalue": "name 'pvalues' is not defined",
     "output_type": "error",
     "traceback": [
      "\u001b[0;31m---------------------------------------------------------------------------\u001b[0m",
      "\u001b[0;31mNameError\u001b[0m                                 Traceback (most recent call last)",
      "\u001b[0;32m<ipython-input-25-6133d6297447>\u001b[0m in \u001b[0;36m<module>\u001b[0;34m()\u001b[0m\n\u001b[0;32m----> 1\u001b[0;31m \u001b[0msubset_pvalues\u001b[0m \u001b[0;34m=\u001b[0m \u001b[0mpvalues\u001b[0m\u001b[0;34m.\u001b[0m\u001b[0mloc\u001b[0m\u001b[0;34m[\u001b[0m\u001b[0mbalances\u001b[0m\u001b[0;34m.\u001b[0m\u001b[0mindex\u001b[0m\u001b[0;34m]\u001b[0m\u001b[0;34m\u001b[0m\u001b[0m\n\u001b[0m\u001b[1;32m      2\u001b[0m \u001b[0msubset_pvalues\u001b[0m\u001b[0;34m.\u001b[0m\u001b[0mapply\u001b[0m\u001b[0;34m(\u001b[0m\u001b[0mnp\u001b[0m\u001b[0;34m.\u001b[0m\u001b[0margmin\u001b[0m\u001b[0;34m,\u001b[0m \u001b[0maxis\u001b[0m\u001b[0;34m=\u001b[0m\u001b[0;36m0\u001b[0m\u001b[0;34m)\u001b[0m\u001b[0;34m\u001b[0m\u001b[0m\n",
      "\u001b[0;31mNameError\u001b[0m: name 'pvalues' is not defined"
     ]
    }
   ],
   "source": [
    "subset_pvalues = pvalues.loc[balances.index]\n",
    "subset_pvalues.apply(np.argmin, axis=0)"
   ]
  },
  {
   "cell_type": "code",
   "execution_count": 26,
   "metadata": {},
   "outputs": [
    {
     "data": {
      "image/png": "[encoded data removed]",
      "text/plain": [
       "<matplotlib.figure.Figure at 0x12ab572b0>"
      ]
     },
     "metadata": {},
     "output_type": "display_data"
    }
   ],
   "source": [
    "sns.set(font_scale=1.3) \n",
    "sns.set_style('ticks')\n",
    "\n",
    "data = pd.merge(mapping, balances.T, left_index=True, right_index=True)\n",
    "f, axes = plt.subplots(1, 3, figsize=(12, 4))\n",
    "\n",
    "sns.boxplot(x='country', y='y2', data=data, notch=True, ax=axes[0])\n",
    "\n",
    "sns.boxplot(x='types_of_plants', y='y363', data=data, notch=True, ax=axes[1])\n",
    "\n",
    "sns.boxplot(x='age_cat', hue='sex', y='y1931', data=data, notch=True, \n",
    "               ax=axes[2], order=['Child', 'Teen', '20s', '30s', '40s', '60s', '70+'])\n",
    "f.tight_layout()\n",
    "f.savefig('../results/country_plants_age_balances.pdf')"
   ]
  },
  {
   "cell_type": "code",
   "execution_count": 27,
   "metadata": {},
   "outputs": [
    {
     "data": {
      "text/plain": [
       "kingdom               k__Bacteria\n",
       "phylum          p__Proteobacteria\n",
       "class      c__Gammaproteobacteria\n",
       "order          o__Pseudomonadales\n",
       "family           f__Moraxellaceae\n",
       "genus            g__Acinetobacter\n",
       "species                       s__\n",
       "Name: TACAGAGGGTGCGAGCGTTAATCGGATTTACTGGGCGTAAAGCGTGCGTAGGCGGCCAATTAAGTCAAATGTGAAATCCCCGAGCTTAACTTGGGAATTGCATTCGATACTGGTTGGCTAGAGTA, dtype: object"
      ]
     },
     "execution_count": 27,
     "metadata": {},
     "output_type": "execute_result"
    }
   ],
   "source": [
    "taxa.loc[tree.find('y1931').children[DENOMINATOR].name]"
   ]
  },
  {
   "cell_type": "code",
   "execution_count": 30,
   "metadata": {},
   "outputs": [
    {
     "data": {
      "text/plain": [
       "<TreeNode, name: y3, internal node count: 14, tips count: 16>"
      ]
     },
     "execution_count": 30,
     "metadata": {},
     "output_type": "execute_result"
    }
   ],
   "source": [
    "tree.find('y2').children[DENOMINATOR]"
   ]
  },
  {
   "cell_type": "code",
   "execution_count": 29,
   "metadata": {},
   "outputs": [
    {
     "ename": "NameError",
     "evalue": "name 'pvalues' is not defined",
     "output_type": "error",
     "traceback": [
      "\u001b[0;31m---------------------------------------------------------------------------\u001b[0m",
      "\u001b[0;31mNameError\u001b[0m                                 Traceback (most recent call last)",
      "\u001b[0;32m<ipython-input-29-9d36f40d5acc>\u001b[0m in \u001b[0;36m<module>\u001b[0;34m()\u001b[0m\n\u001b[1;32m      2\u001b[0m \u001b[0mbalances\u001b[0m \u001b[0;34m=\u001b[0m \u001b[0;34m[\u001b[0m\u001b[0;34m'y2'\u001b[0m\u001b[0;34m,\u001b[0m \u001b[0;34m'y363'\u001b[0m\u001b[0;34m,\u001b[0m \u001b[0;34m'y1931'\u001b[0m\u001b[0;34m]\u001b[0m\u001b[0;34m\u001b[0m\u001b[0m\n\u001b[1;32m      3\u001b[0m \u001b[0mvarz\u001b[0m \u001b[0;34m=\u001b[0m \u001b[0;34m[\u001b[0m\u001b[0;34m'C(country)[T.1.0]'\u001b[0m\u001b[0;34m,\u001b[0m \u001b[0;34m'types_of_plants'\u001b[0m\u001b[0;34m,\u001b[0m \u001b[0;34m'ln_age'\u001b[0m\u001b[0;34m,\u001b[0m \u001b[0;34m'C(sex)[T.1.0]'\u001b[0m\u001b[0;34m,\u001b[0m \u001b[0;34m'ln_age:C(sex)[T.1.0]'\u001b[0m\u001b[0;34m]\u001b[0m\u001b[0;34m\u001b[0m\u001b[0m\n\u001b[0;32m----> 4\u001b[0;31m \u001b[0mpvalues\u001b[0m\u001b[0;34m.\u001b[0m\u001b[0mloc\u001b[0m\u001b[0;34m[\u001b[0m\u001b[0mbalances\u001b[0m\u001b[0;34m,\u001b[0m \u001b[0mvarz\u001b[0m\u001b[0;34m]\u001b[0m\u001b[0;34m\u001b[0m\u001b[0m\n\u001b[0m",
      "\u001b[0;31mNameError\u001b[0m: name 'pvalues' is not defined"
     ]
    }
   ],
   "source": [
    "\n",
    "balances = ['y2', 'y363', 'y1931']\n",
    "varz = ['C(country)[T.1.0]', 'types_of_plants', 'ln_age', 'C(sex)[T.1.0]', 'ln_age:C(sex)[T.1.0]']\n",
    "pvalues.loc[balances, varz]"
   ]
  },
  {
   "cell_type": "code",
   "execution_count": null,
   "metadata": {
    "collapsed": true
   },
   "outputs": [],
   "source": [
    "pvalues.loc['y2']"
   ]
  },
  {
   "cell_type": "code",
   "execution_count": null,
   "metadata": {
    "collapsed": true
   },
   "outputs": [],
   "source": []
  }
 ],
 "metadata": {
  "kernelspec": {
   "display_name": "Python 3",
   "language": "python",
   "name": "python3"
  },
  "language_info": {
   "codemirror_mode": {
    "name": "ipython",
    "version": 3
   },
   "file_extension": ".py",
   "mimetype": "text/x-python",
   "name": "python",
   "nbconvert_exporter": "python",
   "pygments_lexer": "ipython3",
   "version": "3.5.3"
  }
 },
 "nbformat": 4,
 "nbformat_minor": 2
}
