{
 "cells": [
  {
   "cell_type": "markdown",
   "metadata": {},
   "source": [
    "Here, we will construct balances from a phylogenetic tree to explore microbial evolutionary divergences with respect to plant diet.\n",
    "\n",
    "Make sure that the appropriate files are downloaded.  They can be obtained from the ftp link using the following commands\n",
    "\n",
    "```bash\n",
    "wget ftp://ftp.microbio.me/AmericanGut/manuscript-package/1250/deblur_125nt_no_blooms.biom\n",
    "\n",
    "wget ftp://ftp.microbio.me/AmericanGut/manuscript-package/1250/ag_map_with_alpha.txt\n",
    "```\n"
   ]
  },
  {
   "cell_type": "code",
   "execution_count": null,
   "metadata": {
    "collapsed": true
   },
   "outputs": [],
   "source": [
    "import pandas as pd\n",
    "from biom import load_table\n",
    "import matplotlib.pyplot as plt\n",
    "import numpy as np\n",
    "from skbio import TreeNode\n",
    "import seaborn as sns\n",
    "%matplotlib inline\n",
    "sns.set_style('ticks')"
   ]
  },
  {
   "cell_type": "markdown",
   "metadata": {},
   "source": [
    "We will only analyze samples from a small subset -- specifically those samples that only have metabolics samples."
   ]
  },
  {
   "cell_type": "code",
   "execution_count": 2,
   "metadata": {},
   "outputs": [
    {
     "name": "stderr",
     "output_type": "stream",
     "text": [
      "/Users/mortonjt/miniconda3/envs/bio/lib/python3.5/site-packages/IPython/core/interactiveshell.py:2698: DtypeWarning: Columns (0,66) have mixed types. Specify dtype option on import or set low_memory=False.\n",
      "  interactivity=interactivity, compiler=compiler, result=result)\n"
     ]
    }
   ],
   "source": [
    "from gneiss.util import match_tips\n",
    "\n",
    "metadata = pd.read_table('ag_map_with_alpha.txt', index_col=0)\n",
    "table = load_table('deblur_125nt_no_blooms.biom')\n",
    "ids = pd.read_table('plants.ids', dtype=np.str, header=None)\n",
    "\n",
    "# prune tree down\n",
    "tree = TreeNode.read('ag_tree.tre')\n",
    "tree = tree.shear(table.ids(axis='observation'))\n",
    "\n",
    "obs_ids = table.ids(axis='observation')\n",
    "taxa = [table.metadata(id=i, axis='observation')['taxonomy'] for i in obs_ids]\n",
    "taxa = pd.DataFrame(taxa, index=obs_ids, \n",
    "                    columns=['kingdom', 'phylum', 'class', 'order', \n",
    "                             'family', 'genus', 'species'])"
   ]
  },
  {
   "cell_type": "markdown",
   "metadata": {},
   "source": [
    "We'll perform some relaxed filters to remove sequences that are likely not interesting."
   ]
  },
  {
   "cell_type": "code",
   "execution_count": 3,
   "metadata": {
    "collapsed": true
   },
   "outputs": [],
   "source": [
    "otu_filter = lambda val, id_, md: val.sum() > 10\n",
    "var_filter = lambda val, id_, md: np.var(val) > 10\n",
    "sparse_filter = lambda val, id_, md: (val>0).sum() > 10\n",
    "id_filter = lambda val, id_, md: id_ in ids[0].values\n",
    "table = table.filter(id_filter, axis='sample')\n",
    "table = table.filter(otu_filter, axis='observation')\n",
    "#table = table.filter(var_filter, axis='observation')\n",
    "table = table.filter(sparse_filter, axis='observation')\n",
    "\n",
    "table = pd.DataFrame(np.array(table.matrix_data.todense()).T, \n",
    "                     index=table.ids(axis='sample'),\n",
    "                     columns=table.ids(axis='observation'))"
   ]
  },
  {
   "cell_type": "markdown",
   "metadata": {},
   "source": [
    "We'll also remove participants that aren't on extreme ends of the spectrum.  Specifically participants that have said that they consume between 10 and 30 plants a week."
   ]
  },
  {
   "cell_type": "code",
   "execution_count": 4,
   "metadata": {
    "collapsed": true
   },
   "outputs": [],
   "source": [
    "from gneiss.util import match\n",
    "def preprocess_plants(x):\n",
    "    if x in 'Less than 5' or x in '6 to 10':\n",
    "        return 'Less than 10'\n",
    "    elif x in 'More than 30':\n",
    "        return 'More than 30'\n",
    "    else:\n",
    "        return np.nan\n",
    "metadata['cleaned_plants'] = metadata.types_of_plants.apply(preprocess_plants)\n",
    "metadata = metadata.dropna(subset=['cleaned_plants'])\n",
    "table, metadata = match(table, metadata)"
   ]
  },
  {
   "cell_type": "markdown",
   "metadata": {},
   "source": [
    "Since we have seen well defined patterns in the Partial Least Squares analysis, we will use Random Forests as a feature selection method to remove features that poorly explain the differences due to plant diet."
   ]
  },
  {
   "cell_type": "code",
   "execution_count": 5,
   "metadata": {},
   "outputs": [
    {
     "data": {
      "text/plain": [
       "ExtraTreesClassifier(bootstrap=False, class_weight=None, criterion='gini',\n",
       "           max_depth=None, max_features='auto', max_leaf_nodes=None,\n",
       "           min_impurity_split=1e-07, min_samples_leaf=1,\n",
       "           min_samples_split=2, min_weight_fraction_leaf=0.0,\n",
       "           n_estimators=100, n_jobs=1, oob_score=False, random_state=0,\n",
       "           verbose=0, warm_start=False)"
      ]
     },
     "execution_count": 5,
     "metadata": {},
     "output_type": "execute_result"
    }
   ],
   "source": [
    "from sklearn.exceptions import ConvergenceWarning\n",
    "from skbio.stats.composition import closure\n",
    "from sklearn.ensemble import ExtraTreesClassifier\n",
    "from sklearn import preprocessing\n",
    "from skbio.stats.composition import clr, centralize, multiplicative_replacement\n",
    "from numpy.random import RandomState\n",
    "\n",
    "le = preprocessing.LabelEncoder()\n",
    "le.fit(metadata.cleaned_plants)\n",
    "y = le.transform(metadata.cleaned_plants)\n",
    "clf = ExtraTreesClassifier(100, random_state=0)\n",
    "clf.fit(table.values, y)"
   ]
  },
  {
   "cell_type": "code",
   "execution_count": 6,
   "metadata": {
    "collapsed": true
   },
   "outputs": [],
   "source": [
    "table = table.loc[:, clf.feature_importances_>0.004]"
   ]
  },
  {
   "cell_type": "markdown",
   "metadata": {},
   "source": [
    "With this filtered table, we'll align the tree tips with the table."
   ]
  },
  {
   "cell_type": "code",
   "execution_count": 7,
   "metadata": {
    "collapsed": true,
    "scrolled": true
   },
   "outputs": [],
   "source": [
    "from gneiss.util import rename_internal_nodes\n",
    "table, tree = match_tips(table, tree)\n",
    "tree = rename_internal_nodes(tree)"
   ]
  },
  {
   "cell_type": "markdown",
   "metadata": {},
   "source": [
    "Now we'll perform the ilr transform to obtain the balance.  Remember, we cannot have zeros prior to using the ilr transform, so we'll use the `multiplicative_replacement` to remove these zeros."
   ]
  },
  {
   "cell_type": "code",
   "execution_count": 8,
   "metadata": {
    "collapsed": true
   },
   "outputs": [],
   "source": [
    "from gneiss.composition import ilr_transform\n",
    "from skbio.stats.composition import clr, centralize, multiplicative_replacement\n",
    "from gneiss.cluster import correlation_clustering\n",
    "ctable = pd.DataFrame(multiplicative_replacement(table),\n",
    "                      index=table.index, columns=table.columns)\n",
    "balances = ilr_transform(ctable, tree)"
   ]
  },
  {
   "cell_type": "markdown",
   "metadata": {},
   "source": [
    "Now we will perform the regression.  Based on the country analysis, country was one of the larger driving factors.  So we'll factor that into our regression model.  This way, we can control for the country effect to investigate differences due to the plant diet."
   ]
  },
  {
   "cell_type": "code",
   "execution_count": 9,
   "metadata": {
    "collapsed": true
   },
   "outputs": [],
   "source": [
    "from gneiss.regression import ols\n",
    "res = ols(\"C(country)+C(types_of_plants)\", balances, metadata)\n",
    "res.fit() "
   ]
  },
  {
   "cell_type": "markdown",
   "metadata": {},
   "source": [
    "We'll investigate the balance in this case that has the smallest pvalue."
   ]
  },
  {
   "cell_type": "code",
   "execution_count": 10,
   "metadata": {
    "collapsed": true
   },
   "outputs": [],
   "source": [
    "from gneiss.util import NUMERATOR, DENOMINATOR\n",
    "y = res.pvalues.apply(np.argmin, axis=1)['C(types_of_plants)[T.More than 30]']\n",
    "\n",
    "num = list(tree.find(y).children[NUMERATOR].subset())\n",
    "denom = list(tree.find(y).children[DENOMINATOR].subset())"
   ]
  },
  {
   "cell_type": "markdown",
   "metadata": {},
   "source": [
    "Before we start plotting, we'll want to manipulate the dataframe, since we want to display the contents of the balances separately."
   ]
  },
  {
   "cell_type": "code",
   "execution_count": 11,
   "metadata": {
    "collapsed": true
   },
   "outputs": [],
   "source": [
    "import seaborn as sns\n",
    "from matplotlib.gridspec import GridSpec\n",
    "\n",
    "#sns.set_style('ticks')\n",
    "sns.set(font_scale=1.1)  # crazy big\n",
    "\n",
    "ctable = pd.DataFrame(closure(table), index=table.index, columns=table.columns)\n",
    "cmetadata = metadata.copy()\n",
    "cmetadata['Types of Plants'] = metadata[['cleaned_plants']]\n",
    "data_num = pd.merge(ctable[num], cmetadata[['Types of Plants']], left_index=True, right_index=True)\n",
    "data_denom = pd.merge(ctable[denom], cmetadata[['Types of Plants']], left_index=True, right_index=True)\n",
    "data = pd.concat((data_num, data_denom.iloc[:, :-2]), axis=1)\n",
    "data = pd.melt(data, id_vars=['Types of Plants'], value_vars=num+denom, \n",
    "               value_name='proportion', var_name='sequence')"
   ]
  },
  {
   "cell_type": "markdown",
   "metadata": {},
   "source": [
    "We'll want to collapse unannotated annotations, so that if a species isn't known, then we'll default to the last identified annotation."
   ]
  },
  {
   "cell_type": "code",
   "execution_count": 12,
   "metadata": {
    "collapsed": true
   },
   "outputs": [],
   "source": [
    "def f(x):\n",
    "    tabs = ['k__', 'p__', 'c__', 'o__', 'f__', 'g__', 's__']\n",
    "    x_ = x\n",
    "    for i in range(1, len(x)):\n",
    "        if x[i] in tabs:\n",
    "            x_[i] = x[i-1]\n",
    "    return x_\n",
    "taxa = taxa.loc[num+denom]\n",
    "taxa = taxa.apply(f, axis=1)"
   ]
  },
  {
   "cell_type": "markdown",
   "metadata": {},
   "source": [
    "Now let's plot the interesting balance below in terms of its numerator and denominator components."
   ]
  },
  {
   "cell_type": "code",
   "execution_count": 17,
   "metadata": {},
   "outputs": [
    {
     "data": {
      "image/png": "[encoded data removed]",
      "text/plain": [
       "<matplotlib.figure.Figure at 0x1161a1eb8>"
      ]
     },
     "metadata": {},
     "output_type": "display_data"
    }
   ],
   "source": [
    "import matplotlib as mpl\n",
    "mpl.rcParams['pdf.fonttype'] = 42\n",
    "level = 'genus'\n",
    "sns.set_style('ticks')\n",
    "data = data.dropna(subset=['proportion'])\n",
    "data['log_proportion'] = np.log(data['proportion']+1e-5)\n",
    "\n",
    "num_idx = np.argsort(list(map(lambda x: x[3:].lower(), taxa.loc[num, level].values)))\n",
    "num_taxa = taxa.loc[[num[i] for i in num_idx], level]\n",
    "\n",
    "denom_idx = np.argsort(list(map(lambda x: x[3:].lower(), taxa.loc[denom, level].values)))\n",
    "denom_taxa = taxa.loc[[denom[i] for i in denom_idx], level]\n",
    "\n",
    "g = sns.factorplot(x='proportion',  \n",
    "                   y='sequence', \n",
    "                   col='Types of Plants',\n",
    "                   data=data,\n",
    "                   kind='bar',\n",
    "                   size=5,\n",
    "                   aspect=1.5,\n",
    "                   color='b',\n",
    "                   col_order=['Less than 10', 'More than 30'],\n",
    "                   order=list(denom_taxa.index) + list(num_taxa.index),\n",
    "                   #hue='Types of Plants',\n",
    "                   sharex=False\n",
    ")\n",
    "_ = g.set(yticklabels=taxa.loc[list(denom_taxa.index) + list(num_taxa.index), level].values)\n",
    "[[ax1, ax2]] = g.axes\n",
    "max_xlim = max(ax1.get_xlim()[1], ax2.get_xlim()[1])\n",
    "min_xlim = max(ax1.get_xlim()[0], ax2.get_xlim()[0])\n",
    "xlim = ([min_xlim, max_xlim])\n",
    "ax1.set_xlim(max_xlim, min_xlim)\n",
    "ax2.set_xlim(min_xlim, max_xlim)\n",
    "ax1.set_position([0.2, 0.125, 0.3, 0.75])\n",
    "ax2.set_position([0.5, 0.125, 0.3, 0.75])\n",
    "\n",
    "plt.savefig('Types_of_Plants_cool.pdf')"
   ]
  },
  {
   "cell_type": "markdown",
   "metadata": {
    "collapsed": true
   },
   "source": [
    "From here, we can see that there some differences between clade with respect to plant diet."
   ]
  }
 ],
 "metadata": {
  "kernelspec": {
   "display_name": "Python 3",
   "language": "python",
   "name": "python3"
  },
  "language_info": {
   "codemirror_mode": {
    "name": "ipython",
    "version": 3
   },
   "file_extension": ".py",
   "mimetype": "text/x-python",
   "name": "python",
   "nbconvert_exporter": "python",
   "pygments_lexer": "ipython3",
   "version": "3.5.3"
  }
 },
 "nbformat": 4,
 "nbformat_minor": 2
}
