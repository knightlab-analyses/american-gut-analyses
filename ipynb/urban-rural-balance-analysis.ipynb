{
 "cells": [
  {
   "cell_type": "markdown",
   "metadata": {},
   "source": [
    "Here we will be analyzing the urban / rural data using balances on a phylogeny.  Specifically, we will be constructing our balances from a phylogeny, and run linear regression to test for specific microbial evolutionary divergences that could explain the differences between hunter/gatherer groups, rural and urban populations."
   ]
  },
  {
   "cell_type": "code",
   "execution_count": 1,
   "metadata": {
    "collapsed": true
   },
   "outputs": [],
   "source": [
    "from gneiss.composition import ilr_transform\n",
    "import matplotlib.pyplot as plt\n",
    "import pandas as pd\n",
    "import numpy as np\n",
    "from matplotlib import rc\n",
    "\n",
    "from biom import load_table\n",
    "from skbio import TreeNode\n",
    "%matplotlib inline"
   ]
  },
  {
   "cell_type": "markdown",
   "metadata": {},
   "source": [
    "We'll import the data and parse out the taxonomy.  The phylogeny tree is rather large, so we'll prune it down to make it a little more managable."
   ]
  },
  {
   "cell_type": "code",
   "execution_count": 2,
   "metadata": {},
   "outputs": [],
   "source": [
    "metadata = pd.read_table('mapping_meta_urban_rural.txt', index_col=0)\n",
    "table = load_table('meta_urban_rural.biom')\n",
    "\n",
    "ids = table.ids(axis='observation')\n",
    "taxa = [table.metadata(id=i, axis='observation')['taxonomy'] for i in ids]\n",
    "taxa = pd.DataFrame(taxa, index=ids, \n",
    "                    columns=['kingdom', 'phylum', 'class', 'order', \n",
    "                             'family', 'genus', 'species'])\n",
    "\n",
    "#tree = TreeNode.read('meta_ag4.27.17_qs850_qs10052_qs1448_100nt_placement.tog.tre')\n",
    "tree = TreeNode.read('rural_phylogeny.nwk')"
   ]
  },
  {
   "cell_type": "markdown",
   "metadata": {},
   "source": [
    "We'll filter out the low abundance species and clean up the metadata."
   ]
  },
  {
   "cell_type": "code",
   "execution_count": 3,
   "metadata": {},
   "outputs": [],
   "source": [
    "otu_filter = lambda val, id_, md: val.sum() > 10\n",
    "sparse_filter = lambda val, id_, md: (val>0).sum() > 10\n",
    "table.filter(otu_filter, axis='observation')\n",
    "table.filter(sparse_filter, axis='observation')\n",
    "\n",
    "# drop out rows that are complete duplicates\n",
    "metadata = metadata.drop_duplicates()\n",
    "\n",
    "table = pd.DataFrame(np.array(table.matrix_data.todense()).T,\n",
    "                     columns=table.ids(axis='observation'),\n",
    "                     index=table.ids(axis='sample'))"
   ]
  },
  {
   "cell_type": "markdown",
   "metadata": {
    "collapsed": true
   },
   "source": [
    "Now we'll match the metadata and otu table axes. In addition, we'll make sure that the tree and the table are aligned appropriately."
   ]
  },
  {
   "cell_type": "code",
   "execution_count": 4,
   "metadata": {},
   "outputs": [],
   "source": [
    "from gneiss.util import match, match_tips, rename_internal_nodes\n",
    "table, metadata = match(table, metadata)\n",
    "table, tree = match_tips(table, tree)\n",
    "# name the internal nodes that haven't been labeled\n",
    "i = 0\n",
    "for n in tree.levelorder():\n",
    "    if n.name is None:\n",
    "        n.name = \"y%d\" % i\n",
    "        i+=1"
   ]
  },
  {
   "cell_type": "markdown",
   "metadata": {
    "collapsed": true
   },
   "source": [
    "Since we are using a phylogeny, there is a real danger that the balances that we are interested in are close to the tips of the tree.  Because of this, we will want to account for the noise due to low count variability.\n",
    "\n",
    "So we will employ Dirichilet Multinomial bootstrapping, and bootstrap the balances.  This will give us an idea about the confidence intervals of our pvalues."
   ]
  },
  {
   "cell_type": "code",
   "execution_count": 5,
   "metadata": {
    "collapsed": true
   },
   "outputs": [],
   "source": [
    "from gneiss.composition import ilr_transform\n",
    "from gneiss.regression import ols\n",
    "from scipy.stats import dirichlet\n",
    "from statsmodels.sandbox.stats.multicomp import multipletests\n",
    "\n",
    "seed = np.random.RandomState(0)\n",
    "alpha = np.ones(table.shape)\n",
    "T = 50\n",
    "models = []\n",
    "for i in range(T):\n",
    "    draw = np.zeros(table.shape)\n",
    "    draw = np.vstack([dirichlet.rvs(table.values[j, :] + alpha[j, :], random_state=seed) \n",
    "                      for j in range(table.shape[0])])\n",
    "    draw = pd.DataFrame(draw, table.index, table.columns)\n",
    "    res = ols(r\"country + C(life_style_2, Treatment('urban'))\", ilr_transform(draw, tree), metadata)\n",
    "    res.fit()\n",
    "    models.append(res)"
   ]
  },
  {
   "cell_type": "markdown",
   "metadata": {},
   "source": [
    "After we have completed the bootstrapping, we will only investigate the median pvalue for variables in question.\n",
    "Here, we will investigate the differences between the urban and remote farmers, and the differences between the urban and hunter/gather populations."
   ]
  },
  {
   "cell_type": "code",
   "execution_count": 6,
   "metadata": {
    "collapsed": true
   },
   "outputs": [],
   "source": [
    "urban_pvals = pd.DataFrame({\n",
    "    'rep%d'%i: r.pvalues.loc[\"C(life_style_2, Treatment('urban'))[T.remote_farmer]\"] \n",
    "    for i, r in enumerate(models)})\n",
    "\n",
    "med_urban_pvals = urban_pvals.apply(np.median, axis=1)\n",
    "sig_urban_pvals = med_urban_pvals.loc[multipletests(med_urban_pvals, method='fdr_bh')[0]]\n",
    "\n",
    "hunter_pvals = pd.DataFrame({\n",
    "    'rep%d'%i: r.pvalues.loc[\"C(life_style_2, Treatment('urban'))[T.hunter-gatherer]\"]    \n",
    "    for i, r in enumerate(models)})\n",
    "\n",
    "med_hunter_pvals = hunter_pvals.apply(np.median, axis=1)\n",
    "sig_hunter_pvals = med_urban_pvals.loc[multipletests(med_hunter_pvals, method='fdr_bh')[0]]"
   ]
  },
  {
   "cell_type": "markdown",
   "metadata": {},
   "source": [
    "Let's try to investigate some of the interesting balances."
   ]
  },
  {
   "cell_type": "code",
   "execution_count": 7,
   "metadata": {},
   "outputs": [
    {
     "data": {
      "text/plain": [
       "y2281    6.675979e-39\n",
       "y1799    1.774245e-33\n",
       "y463     1.467310e-32\n",
       "y1699    1.427039e-20\n",
       "y2230    7.149831e-15\n",
       "y1555    1.470060e-13\n",
       "y196     7.341755e-13\n",
       "y2105    1.351000e-11\n",
       "y855     6.248841e-11\n",
       "y2173    9.408221e-10\n",
       "y2161    1.360334e-09\n",
       "y1328    2.394268e-09\n",
       "y118     2.994078e-09\n",
       "y488     3.695213e-09\n",
       "y979     9.853145e-09\n",
       "y1479    1.683942e-08\n",
       "y46      2.168458e-08\n",
       "y726     2.172699e-08\n",
       "y1336    9.588275e-08\n",
       "y2371    1.155596e-07\n",
       "dtype: float64"
      ]
     },
     "execution_count": 7,
     "metadata": {},
     "output_type": "execute_result"
    }
   ],
   "source": [
    "sig_urban_pvals.sort_values().head(20)"
   ]
  },
  {
   "cell_type": "code",
   "execution_count": 8,
   "metadata": {},
   "outputs": [
    {
     "data": {
      "text/plain": [
       "y2281                                      6.675979e-39\n",
       "y1799                                      1.774245e-33\n",
       "y463                                       1.467310e-32\n",
       "y1699                                      1.427039e-20\n",
       "y196                                       7.341755e-13\n",
       "y855                                       6.248841e-11\n",
       "y118                                       2.994078e-09\n",
       "y1479                                      1.683942e-08\n",
       "y46                                        2.168458e-08\n",
       "y1099                                      9.608367e-05\n",
       "HOcQnKrPN003897g  Phascolarctobacterium    3.134678e-03\n",
       "y166                                       1.953626e-02\n",
       "y1959                                      3.052993e-02\n",
       "y268                                       6.943671e-02\n",
       "y41                                        1.320395e-01\n",
       "y793                                       4.744925e-01\n",
       "dtype: float64"
      ]
     },
     "execution_count": 8,
     "metadata": {},
     "output_type": "execute_result"
    }
   ],
   "source": [
    "sig_hunter_pvals.sort_values().head(20)"
   ]
  },
  {
   "cell_type": "markdown",
   "metadata": {
    "collapsed": true
   },
   "source": [
    "A couple of balances that appear to interesting as noted as y46 and y463.  Let's investigate those balances in more detail."
   ]
  },
  {
   "cell_type": "code",
   "execution_count": 9,
   "metadata": {
    "collapsed": true
   },
   "outputs": [],
   "source": [
    "from gneiss.util import NUMERATOR, DENOMINATOR\n",
    "balances = ilr_transform(table+1, tree)\n",
    "balance_summary = pd.concat((taxa.loc[tree.find('y46').children[NUMERATOR].subset()],\n",
    "                             taxa.loc[tree.find('y46').children[DENOMINATOR].subset()],\n",
    "                             taxa.loc[tree.find('y463').children[NUMERATOR].subset()],\n",
    "                             taxa.loc[tree.find('y463').children[DENOMINATOR].subset()]))"
   ]
  },
  {
   "cell_type": "markdown",
   "metadata": {},
   "source": [
    "Since we want to try to visualize both of these balances together, we'll need to perform some manipulations on the dataframes. Below, we will define some convenience functions to do this."
   ]
  },
  {
   "cell_type": "code",
   "execution_count": 10,
   "metadata": {
    "collapsed": true
   },
   "outputs": [],
   "source": [
    "def balance_name(x):\n",
    "    if x in tree.find('y46').subset():\n",
    "        return 'y46'\n",
    "    else:\n",
    "        return 'y436'\n",
    "\n",
    "def position(x):\n",
    "    if (x in tree.find('y46').children[NUMERATOR].subset() or\n",
    "        x in tree.find('y463').children[NUMERATOR].subset()\n",
    "       ):\n",
    "        return 'numerator'\n",
    "    else:\n",
    "        return 'denominator'\n",
    "\n",
    "balance_summary['balance'] = list(map(balance_name, balance_summary.index))\n",
    "balance_summary['position'] = list(map(position, balance_summary.index))"
   ]
  },
  {
   "cell_type": "markdown",
   "metadata": {},
   "source": [
    "Here we will plot the proportions of the clade identified within each of these balances."
   ]
  },
  {
   "cell_type": "code",
   "execution_count": 11,
   "metadata": {},
   "outputs": [
    {
     "data": {
      "image/png": "[encoded data removed]",
      "text/plain": [
       "<matplotlib.figure.Figure at 0x1053c5ba8>"
      ]
     },
     "metadata": {},
     "output_type": "display_data"
    }
   ],
   "source": [
    "import seaborn as sns\n",
    "ctable = table.apply(lambda x: x / x.sum(), axis=1)\n",
    "log_counts = pd.DataFrame({\n",
    "'Spirochaetaceae': ctable[list(tree.find('y46').children[NUMERATOR].subset())].sum(axis=1),\n",
    "'Desulfovibrionaceae': ctable[list(tree.find('y46').children[DENOMINATOR].subset())].sum(axis=1),\n",
    "'Bacteroides': ctable[list(tree.find('y463').children[NUMERATOR].subset())].sum(axis=1),\n",
    "'Prevotella': ctable[list(tree.find('y463').children[DENOMINATOR].subset())].sum(axis=1)\n",
    "})\n",
    "\n",
    "data = pd.merge(log_counts, metadata, left_index=True, right_index=True)\n",
    "varz = list(log_counts.columns) + ['life_style_2']\n",
    "\n",
    "df = pd.melt(data[varz], id_vars=['life_style_2'], var_name='balance_components', value_name='proportion')\n",
    "#sns.factorplot(hue='life_style_2', y='balance', x='magnitude', data=df, kind='violin', size=4, aspect=2)\n",
    "ax = sns.barplot(hue='life_style_2', y='balance_components', x='proportion', data=df, \n",
    "                   hue_order=['urban', 'hunter-gatherer', 'remote_farmer'],\n",
    "                   order=['Spirochaetaceae', 'Desulfovibrionaceae', 'Bacteroides', 'Prevotella'],\n",
    "                   palette={'urban':'#d98134',\n",
    "                            'remote_farmer':'#5b2e8c',\n",
    "                            'hunter-gatherer':'#68b6d8'})\n",
    "ax.get_legend().remove()\n",
    "plt.tight_layout()\n",
    "plt.savefig('rural_vs_urban_proportion_barplots.pdf')"
   ]
  },
  {
   "cell_type": "markdown",
   "metadata": {},
   "source": [
    "Finally, we'll plot the boxplots of the balances of these clades, to show how they differ between the urban, rural and hunter/gatherer groups."
   ]
  },
  {
   "cell_type": "code",
   "execution_count": 12,
   "metadata": {},
   "outputs": [
    {
     "data": {
      "image/png": "[encoded data removed]",
      "text/plain": [
       "<matplotlib.figure.Figure at 0x11b336908>"
      ]
     },
     "metadata": {},
     "output_type": "display_data"
    }
   ],
   "source": [
    "import seaborn as sns\n",
    "rc('text', usetex=True)\n",
    "\n",
    "sns.set(font_scale=1.3) \n",
    "\n",
    "sns.set_style('white')\n",
    "sns.set_style('ticks')\n",
    "plt.figure(figsize=(8, 5))\n",
    "varz = ['y463', 'y46', 'life_style_2']\n",
    "data = pd.merge(balances, metadata, left_index=True, right_index=True)\n",
    "\n",
    "df = pd.melt(data[varz], id_vars=['life_style_2'], var_name='balance', value_name='magnitude')\n",
    "ax = sns.boxplot(hue='life_style_2', y='balance', x='magnitude', data=df, \n",
    "                 hue_order=['urban', 'hunter-gatherer', 'remote_farmer'],\n",
    "                 palette={'urban':'#d98134',\n",
    "                          'remote_farmer':'#5b2e8c',\n",
    "                          'hunter-gatherer':'#68b6d8'})\n",
    "ax.set_yticklabels([r'$y_{463}=\\ln \\bigg(  \\frac{\\textrm{Bacteroides}}{\\textrm{Prevotella }} \\bigg)$',\n",
    "                    r'$y_{46}=\\ln \\bigg( \\frac{\\textrm{Spirochaetaceae}}{\\textrm{Desulfovibrionaceae}} \\bigg)$'])\n",
    "ax.get_legend().remove()\n",
    "plt.tight_layout()\n",
    "plt.savefig('rural_vs_urban_boxplots.pdf')"
   ]
  },
  {
   "cell_type": "markdown",
   "metadata": {
    "collapsed": true
   },
   "source": [
    "From here, we can see that there are a few interesting clades that can explain the differences between the urban, rural and hunter and gather groups."
   ]
  }
 ],
 "metadata": {
  "kernelspec": {
   "display_name": "Python 3",
   "language": "python",
   "name": "python3"
  },
  "language_info": {
   "codemirror_mode": {
    "name": "ipython",
    "version": 3
   },
   "file_extension": ".py",
   "mimetype": "text/x-python",
   "name": "python",
   "nbconvert_exporter": "python",
   "pygments_lexer": "ipython3",
   "version": "3.5.3"
  }
 },
 "nbformat": 4,
 "nbformat_minor": 2
}
