{
 "cells": [
  {
   "cell_type": "code",
   "execution_count": 1,
   "metadata": {
    "collapsed": true
   },
   "outputs": [],
   "source": [
    "from gneiss.composition import ilr_transform\n",
    "import matplotlib.pyplot as plt\n",
    "import pandas as pd\n",
    "import numpy as np\n",
    "from matplotlib import rc\n",
    "\n",
    "from biom import load_table\n",
    "from skbio import TreeNode\n",
    "%matplotlib inline"
   ]
  },
  {
   "cell_type": "code",
   "execution_count": 5,
   "metadata": {},
   "outputs": [],
   "source": [
    "metadata = pd.read_table('../data/mapping_meta_urban_rural.txt', index_col=0)\n",
    "table = load_table('../data/meta_urban_rural.biom')\n",
    "\n",
    "ids = table.ids(axis='observation')\n",
    "taxa = [table.metadata(id=i, axis='observation')['taxonomy'] for i in ids]\n",
    "taxa = pd.DataFrame(taxa, index=ids, \n",
    "                    columns=['kingdom', 'phylum', 'class', 'order', \n",
    "                             'family', 'genus', 'species'])\n",
    "\n",
    "#tree = TreeNode.read('meta_ag4.27.17_qs850_qs10052_qs1448_100nt_placement.tog.tre')\n",
    "tree = TreeNode.read('../data/meta_urban_rural_phylogeny.nwk')"
   ]
  },
  {
   "cell_type": "code",
   "execution_count": 6,
   "metadata": {},
   "outputs": [
    {
     "data": {
      "text/plain": [
       "5530 x 14723 <class 'biom.table.Table'> with 1372334 nonzero entries (1% dense)"
      ]
     },
     "execution_count": 6,
     "metadata": {},
     "output_type": "execute_result"
    }
   ],
   "source": [
    "otu_filter = lambda val, id_, md: val.sum() > 10\n",
    "sparse_filter = lambda val, id_, md: (val>0).sum() > 10\n",
    "table.filter(otu_filter, axis='observation')\n",
    "table.filter(sparse_filter, axis='observation')"
   ]
  },
  {
   "cell_type": "code",
   "execution_count": 7,
   "metadata": {
    "collapsed": true
   },
   "outputs": [],
   "source": [
    "metadata = metadata.drop_duplicates()"
   ]
  },
  {
   "cell_type": "code",
   "execution_count": 8,
   "metadata": {
    "collapsed": true
   },
   "outputs": [],
   "source": [
    "table = pd.DataFrame(np.array(table.matrix_data.todense()).T,\n",
    "                     columns=table.ids(axis='observation'),\n",
    "                     index=table.ids(axis='sample'))"
   ]
  },
  {
   "cell_type": "code",
   "execution_count": 9,
   "metadata": {
    "collapsed": true
   },
   "outputs": [],
   "source": [
    "from gneiss.util import match, match_tips\n",
    "table, metadata = match(table, metadata)\n",
    "table, tree = match_tips(table, tree)"
   ]
  },
  {
   "cell_type": "code",
   "execution_count": 10,
   "metadata": {
    "collapsed": true
   },
   "outputs": [],
   "source": [
    "from gneiss.util import rename_internal_nodes\n",
    "tree = rename_internal_nodes(tree)"
   ]
  },
  {
   "cell_type": "code",
   "execution_count": 11,
   "metadata": {
    "collapsed": true
   },
   "outputs": [],
   "source": [
    "from gneiss.composition import ilr_transform\n",
    "from gneiss.regression import ols\n",
    "from scipy.stats import dirichlet\n",
    "from statsmodels.sandbox.stats.multicomp import multipletests"
   ]
  },
  {
   "cell_type": "code",
   "execution_count": 12,
   "metadata": {
    "collapsed": true
   },
   "outputs": [],
   "source": [
    "seed = np.random.RandomState(0)\n",
    "alpha = np.ones(table.shape)\n",
    "T = 50\n",
    "models = []\n",
    "for i in range(T):\n",
    "    draw = np.zeros(table.shape)\n",
    "    draw = np.vstack([dirichlet.rvs(table.values[j, :] + alpha[j, :], random_state=seed) \n",
    "                      for j in range(table.shape[0])])\n",
    "    draw = pd.DataFrame(draw, table.index, table.columns)\n",
    "    res = ols(r\"country + C(life_style_2, Treatment('urban'))\", ilr_transform(draw, tree), metadata)\n",
    "    res.fit()\n",
    "    models.append(res)"
   ]
  },
  {
   "cell_type": "code",
   "execution_count": 13,
   "metadata": {
    "collapsed": true
   },
   "outputs": [],
   "source": [
    "urban_pvals = pd.DataFrame({\n",
    "    'rep%d'%i: r.pvalues.loc[\"C(life_style_2, Treatment('urban'))[T.remote_farmer]\"] \n",
    "    for i, r in enumerate(models)})\n",
    "\n",
    "med_urban_pvals = urban_pvals.apply(np.median, axis=1)\n",
    "sig_urban_pvals = med_urban_pvals.loc[multipletests(med_urban_pvals, method='fdr_bh')[0]]\n",
    "\n",
    "hunter_pvals = pd.DataFrame({\n",
    "    'rep%d'%i: r.pvalues.loc[\"C(life_style_2, Treatment('urban'))[T.hunter-gatherer]\"]    \n",
    "    for i, r in enumerate(models)})\n",
    "\n",
    "med_hunter_pvals = hunter_pvals.apply(np.median, axis=1)\n",
    "sig_hunter_pvals = med_urban_pvals.loc[multipletests(med_hunter_pvals, method='fdr_bh')[0]]"
   ]
  },
  {
   "cell_type": "code",
   "execution_count": 14,
   "metadata": {
    "collapsed": true
   },
   "outputs": [],
   "source": [
    "balances = ilr_transform(table+1, tree)"
   ]
  },
  {
   "cell_type": "code",
   "execution_count": 19,
   "metadata": {},
   "outputs": [
    {
     "data": {
      "text/plain": [
       "y46     1.588062e-08\n",
       "y118    2.911339e-09\n",
       "y156    3.019561e-06\n",
       "y196    2.712179e-13\n",
       "y222    1.208591e-08\n",
       "dtype: float64"
      ]
     },
     "execution_count": 19,
     "metadata": {},
     "output_type": "execute_result"
    }
   ],
   "source": [
    "sig_urban_pvals.head()"
   ]
  },
  {
   "cell_type": "code",
   "execution_count": 20,
   "metadata": {},
   "outputs": [
    {
     "data": {
      "text/plain": [
       "y41     2.874076e-01\n",
       "y46     1.588062e-08\n",
       "y118    2.911339e-09\n",
       "y166    8.440062e-03\n",
       "y196    2.712179e-13\n",
       "dtype: float64"
      ]
     },
     "execution_count": 20,
     "metadata": {},
     "output_type": "execute_result"
    }
   ],
   "source": [
    "sig_hunter_pvals.head()"
   ]
  },
  {
   "cell_type": "code",
   "execution_count": 21,
   "metadata": {
    "collapsed": true
   },
   "outputs": [],
   "source": [
    "from gneiss.util import NUMERATOR, DENOMINATOR\n",
    "\n",
    "balance_summary = pd.concat((taxa.loc[tree.find('y46').children[NUMERATOR].subset()],\n",
    "                             taxa.loc[tree.find('y46').children[DENOMINATOR].subset()],\n",
    "                             taxa.loc[tree.find('y463').children[NUMERATOR].subset()],\n",
    "                             taxa.loc[tree.find('y463').children[DENOMINATOR].subset()]))"
   ]
  },
  {
   "cell_type": "code",
   "execution_count": 22,
   "metadata": {
    "collapsed": true
   },
   "outputs": [],
   "source": [
    "def balance_name(x):\n",
    "    if x in tree.find('y46').subset():\n",
    "        return 'y46'\n",
    "    else:\n",
    "        return 'y436'\n",
    "\n",
    "def position(x):\n",
    "    if (x in tree.find('y46').children[NUMERATOR].subset() or\n",
    "        x in tree.find('y463').children[NUMERATOR].subset()\n",
    "       ):\n",
    "        return 'numerator'\n",
    "    else:\n",
    "        return 'denominator'\n",
    "\n",
    "balance_summary['balance'] = list(map(balance_name, balance_summary.index))\n",
    "balance_summary['position'] = list(map(position, balance_summary.index))"
   ]
  },
  {
   "cell_type": "code",
   "execution_count": 24,
   "metadata": {},
   "outputs": [
    {
     "data": {
      "image/png": "[encoded data removed]",
      "text/plain": [
       "<matplotlib.figure.Figure at 0x119d679b0>"
      ]
     },
     "metadata": {},
     "output_type": "display_data"
    }
   ],
   "source": [
    "ctable = table.apply(lambda x: x / x.sum(), axis=1)\n",
    "log_counts = pd.DataFrame({\n",
    "'Spirochaetaceae': np.log(ctable[list(tree.find('y46').children[NUMERATOR].subset())]+1).sum(axis=1),\n",
    "'Desulfovibrionaceae': np.log(ctable[list(tree.find('y46').children[DENOMINATOR].subset())]+1).sum(axis=1),\n",
    "'Bacteroides': np.log(ctable[list(tree.find('y463').children[NUMERATOR].subset())]+1).sum(axis=1),\n",
    "'Prevotella': np.log(ctable[list(tree.find('y463').children[DENOMINATOR].subset())]+1).sum(axis=1)\n",
    "})\n",
    "\n",
    "data = pd.merge(log_counts, metadata, left_index=True, right_index=True)\n",
    "varz = list(log_counts.columns) + ['life_style_2']\n",
    "\n",
    "df = pd.melt(data[varz], id_vars=['life_style_2'], var_name='balance_components', value_name='proportion')\n",
    "#sns.factorplot(hue='life_style_2', y='balance', x='magnitude', data=df, kind='violin', size=4, aspect=2)\n",
    "ax = sns.barplot(hue='life_style_2', y='balance_components', x='proportion', data=df, \n",
    "                   hue_order=['urban', 'hunter-gatherer', 'remote_farmer'],\n",
    "                   order=['Spirochaetaceae', 'Desulfovibrionaceae', 'Bacteroides', 'Prevotella'],\n",
    "                   palette={'urban':'#d98134',\n",
    "                            'remote_farmer':'#5b2e8c',\n",
    "                            'hunter-gatherer':'#68b6d8'})\n",
    "ax.get_legend().remove()\n",
    "plt.tight_layout()\n",
    "plt.savefig('rural_vs_urban_proportion_barplots.pdf')"
   ]
  },
  {
   "cell_type": "code",
   "execution_count": 26,
   "metadata": {},
   "outputs": [
    {
     "data": {
      "image/png": "[encoded data removed]",
      "text/plain": [
       "<matplotlib.figure.Figure at 0x1197ff860>"
      ]
     },
     "metadata": {},
     "output_type": "display_data"
    }
   ],
   "source": [
    "import seaborn as sns\n",
    "rc('text', usetex=True)\n",
    "\n",
    "sns.set(font_scale=1.3) \n",
    "\n",
    "sns.set_style('white')\n",
    "sns.set_style('ticks')\n",
    "plt.figure(figsize=(8, 5))\n",
    "varz = ['y463', 'y46', 'life_style_2']\n",
    "data = pd.merge(balances, metadata, left_index=True, right_index=True)\n",
    "\n",
    "df = pd.melt(data[varz], id_vars=['life_style_2'], var_name='balance', value_name='magnitude')\n",
    "ax = sns.boxplot(hue='life_style_2', y='balance', x='magnitude', data=df, \n",
    "                 hue_order=['urban', 'hunter-gatherer', 'remote_farmer'],\n",
    "                 palette={'urban':'#d98134',\n",
    "                          'remote_farmer':'#5b2e8c',\n",
    "                          'hunter-gatherer':'#68b6d8'})\n",
    "ax.set_yticklabels([r'$y_{463}=\\ln \\bigg(  \\frac{\\textrm{Bacteroides}}{\\textrm{Prevotella }} \\bigg)$',\n",
    "                    r'$y_{46}=\\ln \\bigg( \\frac{\\textrm{Spirochaetaceae}}{\\textrm{Desulfovibrionaceae}} \\bigg)$'])\n",
    "ax.get_legend().remove()\n",
    "plt.tight_layout()\n",
    "plt.savefig('rural_vs_urban_boxplots.pdf')"
   ]
  },
  {
   "cell_type": "code",
   "execution_count": null,
   "metadata": {
    "collapsed": true
   },
   "outputs": [],
   "source": []
  }
 ],
 "metadata": {
  "kernelspec": {
   "display_name": "Python 3",
   "language": "python",
   "name": "python3"
  },
  "language_info": {
   "codemirror_mode": {
    "name": "ipython",
    "version": 3
   },
   "file_extension": ".py",
   "mimetype": "text/x-python",
   "name": "python",
   "nbconvert_exporter": "python",
   "pygments_lexer": "ipython3",
   "version": "3.5.3"
  }
 },
 "nbformat": 4,
 "nbformat_minor": 2
}
