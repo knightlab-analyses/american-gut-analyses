{
 "cells": [
  {
   "cell_type": "markdown",
   "metadata": {},
   "source": [
    "This notebook will do initial processing on the metadata and biom tables to limit compute. We will "
   ]
  },
  {
   "cell_type": "code",
   "execution_count": 2,
   "metadata": {
    "collapsed": true
   },
   "outputs": [],
   "source": [
    "import os\n",
    "\n",
    "import biom\n",
    "import matplotlib.pyplot as plt\n",
    "import numpy as np\n",
    "import pandas as pd\n",
    "import seaborn as sn\n",
    "\n",
    "% matplotlib inline"
   ]
  },
  {
   "cell_type": "markdown",
   "metadata": {},
   "source": [
    "We'll start by loading the metadata and sOTU table."
   ]
  },
  {
   "cell_type": "code",
   "execution_count": 3,
   "metadata": {
    "collapsed": false
   },
   "outputs": [],
   "source": [
    "meta = pd.read_csv('./01.metadata/ag_full_map.txt', sep='\\t', dtype=str)\n",
    "meta.set_index('#SampleID', inplace=True)"
   ]
  },
  {
   "cell_type": "code",
   "execution_count": 11,
   "metadata": {
    "collapsed": false
   },
   "outputs": [],
   "source": [
    "sotu = biom.load_table('./02.raw_tables/otu_table_no_blooms_125nt_with_tax_min1250.biom')"
   ]
  },
  {
   "cell_type": "markdown",
   "metadata": {
    "collapsed": true
   },
   "source": [
    "We'll add the sequencing depth to the metadata, and filter the file so exclude any sample not included in the biom table."
   ]
  },
  {
   "cell_type": "code",
   "execution_count": 12,
   "metadata": {
    "collapsed": true
   },
   "outputs": [],
   "source": [
    "meta['seq_depth'] =  pd.Series(sotu.sum(axis='sample'), sotu.ids(axis='sample'), name='sequence_depth')\n",
    "meta = meta.loc[sotu.ids(axis='sample')]"
   ]
  },
  {
   "cell_type": "code",
   "execution_count": 13,
   "metadata": {
    "collapsed": false
   },
   "outputs": [
    {
     "data": {
      "text/plain": [
       "10499"
      ]
     },
     "execution_count": 13,
     "metadata": {},
     "output_type": "execute_result"
    }
   ],
   "source": [
    "len(meta['host_subject_id'].unique())"
   ]
  },
  {
   "cell_type": "markdown",
   "metadata": {},
   "source": [
    "Then, we'll filter the metadata to include only fecal samples, since this is what the analysis will use."
   ]
  },
  {
   "cell_type": "code",
   "execution_count": 16,
   "metadata": {
    "collapsed": true
   },
   "outputs": [],
   "source": [
    "fecal_meta = meta.loc[meta['body_habitat'] == 'UBERON:feces']"
   ]
  },
  {
   "cell_type": "markdown",
   "metadata": {},
   "source": [
    "We'll fitler the mapping file to include only one sample per participant. We'll chose a sample per participant. Samples associated with a vioscreen survey will be prioritized."
   ]
  },
  {
   "cell_type": "code",
   "execution_count": 17,
   "metadata": {
    "collapsed": true
   },
   "outputs": [],
   "source": [
    "single_ids = []\n",
    "for id_, t in fecal_meta[['host_subject_id', 'vioscreen_questionnaire']].groupby('host_subject_id'):\n",
    "    if len(t['vioscreen_questionnaire'].unique()) == 1:\n",
    "        single_ids.append(np.random.choice(t.index, 1))\n",
    "    else:\n",
    "        single_ids.append(\n",
    "            np.random.choice(t.loc[t['vioscreen_questionnaire'] == 'Egg White Standard Questionnaire (V3)'].index)\n",
    "        )\n",
    "single_ids = np.hstack(single_ids)"
   ]
  },
  {
   "cell_type": "markdown",
   "metadata": {},
   "source": [
    "We'll then filter the data to a single fecal sample per individual."
   ]
  },
  {
   "cell_type": "code",
   "execution_count": 18,
   "metadata": {
    "collapsed": false
   },
   "outputs": [],
   "source": [
    "single_meta = fecal_meta.loc[single_ids]\n",
    "single_sotu = sotu.filter(single_ids, axis='sample')"
   ]
  },
  {
   "cell_type": "markdown",
   "metadata": {},
   "source": [
    "Finally, we'll save the data."
   ]
  },
  {
   "cell_type": "code",
   "execution_count": 20,
   "metadata": {
    "collapsed": false
   },
   "outputs": [],
   "source": [
    "if not os.path.exists('./02.build_package'):\n",
    "    os.mkdir('./02.build_package')\n",
    "\n",
    "single_meta.to_csv('./02.build_package/fecal_map_1250.txt', sep='\\t', index_label=\"#SampleID\")\n",
    "\n",
    "with biom.util.biom_open('./deblur_no_blooms_125nt_1250.biom', 'w') as f_:\n",
    "    single_sotu.to_hdf5(f_, 'single fecal sample per participant')"
   ]
  }
 ],
 "metadata": {
  "kernelspec": {
   "display_name": "Python 3",
   "language": "python",
   "name": "python3"
  },
  "language_info": {
   "codemirror_mode": {
    "name": "ipython",
    "version": 3
   },
   "file_extension": ".py",
   "mimetype": "text/x-python",
   "name": "python",
   "nbconvert_exporter": "python",
   "pygments_lexer": "ipython3",
   "version": "3.6.0"
  }
 },
 "nbformat": 4,
 "nbformat_minor": 2
}
